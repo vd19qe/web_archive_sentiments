{
  "nbformat": 4,
  "nbformat_minor": 0,
  "metadata": {
    "kernelspec": {
      "display_name": "Python 3",
      "language": "python",
      "name": "python3"
    },
    "language_info": {
      "codemirror_mode": {
        "name": "ipython",
        "version": 3
      },
      "file_extension": ".py",
      "mimetype": "text/x-python",
      "name": "python",
      "nbconvert_exporter": "python",
      "pygments_lexer": "ipython3",
      "version": "3.7.4"
    },
    "colab": {
      "name": "Web Archives Sentiment Sample.ipynb",
      "provenance": [],
      "collapsed_sections": []
    }
  },
  "cells": [
    {
      "cell_type": "markdown",
      "metadata": {
        "id": "ZdhtfOUvPVxJ"
      },
      "source": [
        "## **Using TextBlob to Perform Sentimental Analysis**"
      ]
    },
    {
      "cell_type": "code",
      "metadata": {
        "id": "TMb9uuWAJoQN",
        "colab": {
          "base_uri": "https://localhost:8080/"
        },
        "outputId": "60a7e189-9f75-48d3-e930-6ddde6753c0d"
      },
      "source": [
        "import nltk\n",
        "nltk.download('punkt')\n",
        "nltk.download('stopwords')\n",
        "from nltk.corpus import stopwords\n",
        "from nltk.tokenize import word_tokenize\n",
        "from textblob import TextBlob\n",
        "\n",
        "import pandas as pd\n",
        "pd.set_option('display.max_columns', None)\n",
        "pd.set_option('display.max_colwidth', -1)\n",
        "pd.set_option('display.max_rows', 200)\n",
        "\n",
        "\n",
        "!pip install python-Levenshtein\n",
        "from Levenshtein import distance as lev\n",
        "\n",
        "import numpy as np\n",
        "import matplotlib.pyplot as plt\n",
        "%matplotlib inline\n",
        "\n",
        "import difflib\n",
        "from IPython import display\n",
        "\n",
        "import warnings\n",
        "warnings.filterwarnings(\"ignore\")"
      ],
      "execution_count": null,
      "outputs": [
        {
          "output_type": "stream",
          "name": "stdout",
          "text": [
            "[nltk_data] Downloading package punkt to /root/nltk_data...\n",
            "[nltk_data]   Unzipping tokenizers/punkt.zip.\n",
            "[nltk_data] Downloading package stopwords to /root/nltk_data...\n",
            "[nltk_data]   Unzipping corpora/stopwords.zip.\n"
          ]
        },
        {
          "output_type": "stream",
          "name": "stderr",
          "text": [
            "/usr/local/lib/python3.7/dist-packages/ipykernel_launcher.py:10: FutureWarning: Passing a negative integer is deprecated in version 1.0 and will not be supported in future version. Instead, use None to not limit the column width.\n",
            "  # Remove the CWD from sys.path while we load stuff.\n"
          ]
        },
        {
          "output_type": "stream",
          "name": "stdout",
          "text": [
            "Collecting python-Levenshtein\n",
            "  Downloading python-Levenshtein-0.12.2.tar.gz (50 kB)\n",
            "\u001b[?25l\r\u001b[K     |██████▌                         | 10 kB 19.8 MB/s eta 0:00:01\r\u001b[K     |█████████████                   | 20 kB 25.6 MB/s eta 0:00:01\r\u001b[K     |███████████████████▌            | 30 kB 13.2 MB/s eta 0:00:01\r\u001b[K     |██████████████████████████      | 40 kB 9.6 MB/s eta 0:00:01\r\u001b[K     |████████████████████████████████| 50 kB 2.4 MB/s \n",
            "\u001b[?25hRequirement already satisfied: setuptools in /usr/local/lib/python3.7/dist-packages (from python-Levenshtein) (57.4.0)\n",
            "Building wheels for collected packages: python-Levenshtein\n",
            "  Building wheel for python-Levenshtein (setup.py) ... \u001b[?25l\u001b[?25hdone\n",
            "  Created wheel for python-Levenshtein: filename=python_Levenshtein-0.12.2-cp37-cp37m-linux_x86_64.whl size=149859 sha256=a40d16fbe4154fe6b4140c6e81df6fb5178cb61b92a40fa24a6e58052f5e0de9\n",
            "  Stored in directory: /root/.cache/pip/wheels/05/5f/ca/7c4367734892581bb5ff896f15027a932c551080b2abd3e00d\n",
            "Successfully built python-Levenshtein\n",
            "Installing collected packages: python-Levenshtein\n",
            "Successfully installed python-Levenshtein-0.12.2\n"
          ]
        }
      ]
    },
    {
      "cell_type": "code",
      "metadata": {
        "colab": {
          "base_uri": "https://localhost:8080/"
        },
        "id": "fz_V0PT9bMb2",
        "outputId": "786ebb22-aa93-42e0-d07e-0e85cb5289e5"
      },
      "source": [
        "pip install NRCLex"
      ],
      "execution_count": null,
      "outputs": [
        {
          "output_type": "stream",
          "name": "stdout",
          "text": [
            "Collecting NRCLex\n",
            "  Downloading NRCLex-3.0.0.tar.gz (396 kB)\n",
            "\u001b[K     |████████████████████████████████| 396 kB 5.3 MB/s \n",
            "\u001b[?25hRequirement already satisfied: textblob in /usr/local/lib/python3.7/dist-packages (from NRCLex) (0.15.3)\n",
            "Requirement already satisfied: nltk>=3.1 in /usr/local/lib/python3.7/dist-packages (from textblob->NRCLex) (3.2.5)\n",
            "Requirement already satisfied: six in /usr/local/lib/python3.7/dist-packages (from nltk>=3.1->textblob->NRCLex) (1.15.0)\n",
            "Building wheels for collected packages: NRCLex\n",
            "  Building wheel for NRCLex (setup.py) ... \u001b[?25l\u001b[?25hdone\n",
            "  Created wheel for NRCLex: filename=NRCLex-3.0.0-py3-none-any.whl size=43328 sha256=92d1d075e7e77b66b3d2ae7f79f3ceea0d1e33ded5b445bb2b78a97ac9300386\n",
            "  Stored in directory: /root/.cache/pip/wheels/af/2c/9c/dfa19d1b65326c520b32850a9311f6d4eda679ac04dba26081\n",
            "Successfully built NRCLex\n",
            "Installing collected packages: NRCLex\n",
            "Successfully installed NRCLex-3.0.0\n"
          ]
        }
      ]
    },
    {
      "cell_type": "code",
      "metadata": {
        "id": "YxXobOA-bVeF"
      },
      "source": [
        "from nrclex import NRCLex"
      ],
      "execution_count": null,
      "outputs": []
    },
    {
      "cell_type": "markdown",
      "metadata": {
        "id": "Cdlf9wqrJoQQ"
      },
      "source": [
        "## File Loading\n",
        "\n",
        "Loading the csv file and creating a list of unique urls, sorted by crawl_date count."
      ]
    },
    {
      "cell_type": "code",
      "metadata": {
        "scrolled": true,
        "id": "StPnU875JoQS",
        "colab": {
          "base_uri": "https://localhost:8080/"
        },
        "outputId": "029fac99-2a05-4a40-e8fd-34de3ae7a6d4"
      },
      "source": [
        "web_page_text = pd.read_csv(\"https://raw.githubusercontent.com/BrockDSL/ARCH_Data_Explore/main/snap_shot_canada_ca.csv\")\n",
        "#web_page_text = pd.read_csv(\"https://raw.githubusercontent.com/BrockDSL/ARCH_Data_Explore/main/snap_shot_canada_ca.csv\")\n",
        "\n",
        "web_page_text['crawl_date']= pd.to_datetime(web_page_text['crawl_date'],format='%Y%m%d')\n",
        "web_page_text = web_page_text.sort_values(by=['url', 'crawl_date'], ascending=[True, False])\n",
        "web_page_text.sample(1)"
      ],
      "execution_count": null,
      "outputs": [
        {
          "output_type": "execute_result",
          "data": {
            "text/html": [
              "<div>\n",
              "<style scoped>\n",
              "    .dataframe tbody tr th:only-of-type {\n",
              "        vertical-align: middle;\n",
              "    }\n",
              "\n",
              "    .dataframe tbody tr th {\n",
              "        vertical-align: top;\n",
              "    }\n",
              "\n",
              "    .dataframe thead th {\n",
              "        text-align: right;\n",
              "    }\n",
              "</style>\n",
              "<table border=\"1\" class=\"dataframe\">\n",
              "  <thead>\n",
              "    <tr style=\"text-align: right;\">\n",
              "      <th></th>\n",
              "      <th>crawl_date</th>\n",
              "      <th>domain</th>\n",
              "      <th>url</th>\n",
              "      <th>mime_type_web_server</th>\n",
              "      <th>mime_type_tika</th>\n",
              "      <th>language</th>\n",
              "      <th>content</th>\n",
              "    </tr>\n",
              "  </thead>\n",
              "  <tbody>\n",
              "    <tr>\n",
              "      <th>229</th>\n",
              "      <td>2020-07-24</td>\n",
              "      <td>canada.ca</td>\n",
              "      <td>https://www.canada.ca/en/public-health/services/diseases/2019-novel-coronavirus-infection/prevention-risks/about-non-medical-masks-face-coverings.html</td>\n",
              "      <td>text/html</td>\n",
              "      <td>text/html</td>\n",
              "      <td>en</td>\n",
              "      <td>COVID-19: Non-medical masks and face coverings - Canada.ca Skip to main content Skip to \"About government\" Language selection Français fr Search Search Canada.ca Search Menu Main Menu Jobs and the workplace Immigration and citizenship Travel and tourism Business and industry Benefits Health Taxes Environment and natural resources National security and defence Culture, history and sport Policing, justice and emergencies Transport and infrastructure Canada and the world Money and finances Science and innovation You are here: Canada.ca Coronavirus disease (COVID-19) Prevention and risks Non-medical masks and face coverings: About About How to put on, remove and clean Sew and no-sew instructions On this page How to protect others Appropriate use of non-medical mask or face covering Limitations How to protect others The best thing you can do to prevent spreading COVID-19 is to wash your hands frequently with warm water and soap for at least 20 seconds. If none is available, use hand sanitizer containing at least 60% alcohol. To protect others, you should also: stay at home if you are ill maintain a 2-metre physical distance from others when physical distancing cannot be maintained, consider wearing a non-medical mask or homemade face covering avoid touching your face, mouth, nose or eyes Wearing a homemade non-medical mask/facial covering in the community is recommended for periods of time when it is not possible to consistently maintain a 2-metre physical distance from others, particularly in crowded public settings, such as: stores shopping areas public transportation Public health officials will make recommendations based on a number of factors, including the rates of infection and/or transmission in the community. In some jurisdictions, the use of masks in many indoor public spaces and on public transit is now mandatory. You can check with your local public health authority on the requirements for your location. Wearing a mask alone will not prevent the spread of COVID-19. You must consistently and strictly adhere to good hygiene and public health measures, including frequent hand washing and physical (social) distancing. Appropriate use of non-medical mask or face covering When worn properly, a person wearing a non-medical mask or face covering can reduce the spread of his or her own infectious respiratory droplets. Non-medical face masks or face coverings should: allow for easy breathing fit securely to the head with ties or ear loops maintain their shape after washing and drying be changed as soon as possible if damp or dirty be comfortable and not require frequent adjustment be made of at least 2 layers of tightly woven material fabric (such as cotton or linen) be large enough to completely and comfortably cover the nose and mouth without gaping Some masks also include a pocket to accommodate a paper towel or disposable coffee filter, for increased benefit. Non-medical masks or face coverings should: not be shared with others not impair vision or interfere with tasks not be placed on children under the age of 2 years not be made of plastic or other non-breathable materials not be secured with tape or other inappropriate materials not be made exclusively of materials that easily fall apart, such as tissues not be placed on anyone unable to remove them without assistance or anyone who has trouble breathing Download the poster on the do’s and don’ts of wearing a non-medical mask or face covering. Limitations Homemade masks are not medical devices and are not regulated like medical masks and respirators: they have not been tested to recognized standards the fabrics are not the same as used in surgical masks or respirators the edges are not designed to form a seal around the nose and mouth These types of masks may not be effective in blocking virus particles that may be transmitted by coughing, sneezing or certain medical procedures. They do not provide complete protection from virus particles because of a potential loose fit and the materials used. Some commercially available masks have exhalation valves that make the mask more breathable for the person wearing it, but these valves also allow infectious respiratory droplets to spread outside the mask. Masks with exhalation valves are not recommended, because they don't protect others from COVID-19 and don't limit the spread of the virus. Medical masks, including surgical, medical procedure face masks and respirators (like N95 masks), must be kept for health care workers and others providing direct care to COVID-19 patients. Related links Use of non-medical cloth masks or face coverings in community settings Video: How to wear a non-medical mask or face covering properly Advice while travelling Medical masks and N95 respirators Report a problem or mistake on this page Please select all that apply: A link, button or video is not working It has a spelling mistake Information is missing Information is outdated or wrong Login error when trying to access an account (e.g. My Service Canada Account) GC Key access SecureKey Concierge (Banking Credential) access Personal Access Code (PAC) problems or EI Access Code (AC) problems Social Insurance Number (SIN) validation problems Other login error not in this list I can't find what I'm looking for Other issue not in this list Submit Thank you for your help! You will not receive a reply. For enquiries, contact us. Date modified: 2020-07-21 About government Contact us Departments and agencies Public service and military News Treaties, laws and regulations Government-wide reporting Prime Minister About government Open government About this site Social media Mobile applications About Canada.ca Terms and conditions Privacy Top of page</td>\n",
              "    </tr>\n",
              "  </tbody>\n",
              "</table>\n",
              "</div>"
            ],
            "text/plain": [
              "    crawl_date     domain  \\\n",
              "229 2020-07-24  canada.ca   \n",
              "\n",
              "                                                                                                                                                        url  \\\n",
              "229  https://www.canada.ca/en/public-health/services/diseases/2019-novel-coronavirus-infection/prevention-risks/about-non-medical-masks-face-coverings.html   \n",
              "\n",
              "    mime_type_web_server mime_type_tika language  \\\n",
              "229  text/html            text/html      en        \n",
              "\n",
              "                                                                                                                                                                                                                                                                                                                                                                                                                                                                                                                                                                                                                                                                                                                                                                                                                                                                                                                                                                                                                                                                                                                                                                                                                                                                                                                                                                                                                                                                                                                                                                                                                                                                                                                                                                                                                                                                                                                                                                                                                                                                                                                                                                                                                                                                                                                                                                                                                                                                                                                                                                                                                                                                                                                                                                                                                                                                                                                                                                                                                                                                                                                                                                                                                                                                                                                                                                                                                                                                                                                                                                                                                                                                                                                                                                                                                                                                                                                                                                                                                                                                                                                                                                                                                                                                                                                                                                                                                                                                                                                                                                                                                                                                                                                                                                                                                                                                                                                                                                                                                                                                                                                                                                                                                                                                                                                                                                                                                                                                                                                                                                                                                                                                                                                                                                                                                                                                                                                                                          content  \n",
              "229  COVID-19: Non-medical masks and face coverings - Canada.ca Skip to main content Skip to \"About government\" Language selection Français fr Search Search Canada.ca Search Menu Main Menu Jobs and the workplace Immigration and citizenship Travel and tourism Business and industry Benefits Health Taxes Environment and natural resources National security and defence Culture, history and sport Policing, justice and emergencies Transport and infrastructure Canada and the world Money and finances Science and innovation You are here: Canada.ca Coronavirus disease (COVID-19) Prevention and risks Non-medical masks and face coverings: About About How to put on, remove and clean Sew and no-sew instructions On this page How to protect others Appropriate use of non-medical mask or face covering Limitations How to protect others The best thing you can do to prevent spreading COVID-19 is to wash your hands frequently with warm water and soap for at least 20 seconds. If none is available, use hand sanitizer containing at least 60% alcohol. To protect others, you should also: stay at home if you are ill maintain a 2-metre physical distance from others when physical distancing cannot be maintained, consider wearing a non-medical mask or homemade face covering avoid touching your face, mouth, nose or eyes Wearing a homemade non-medical mask/facial covering in the community is recommended for periods of time when it is not possible to consistently maintain a 2-metre physical distance from others, particularly in crowded public settings, such as: stores shopping areas public transportation Public health officials will make recommendations based on a number of factors, including the rates of infection and/or transmission in the community. In some jurisdictions, the use of masks in many indoor public spaces and on public transit is now mandatory. You can check with your local public health authority on the requirements for your location. Wearing a mask alone will not prevent the spread of COVID-19. You must consistently and strictly adhere to good hygiene and public health measures, including frequent hand washing and physical (social) distancing. Appropriate use of non-medical mask or face covering When worn properly, a person wearing a non-medical mask or face covering can reduce the spread of his or her own infectious respiratory droplets. Non-medical face masks or face coverings should: allow for easy breathing fit securely to the head with ties or ear loops maintain their shape after washing and drying be changed as soon as possible if damp or dirty be comfortable and not require frequent adjustment be made of at least 2 layers of tightly woven material fabric (such as cotton or linen) be large enough to completely and comfortably cover the nose and mouth without gaping Some masks also include a pocket to accommodate a paper towel or disposable coffee filter, for increased benefit. Non-medical masks or face coverings should: not be shared with others not impair vision or interfere with tasks not be placed on children under the age of 2 years not be made of plastic or other non-breathable materials not be secured with tape or other inappropriate materials not be made exclusively of materials that easily fall apart, such as tissues not be placed on anyone unable to remove them without assistance or anyone who has trouble breathing Download the poster on the do’s and don’ts of wearing a non-medical mask or face covering. Limitations Homemade masks are not medical devices and are not regulated like medical masks and respirators: they have not been tested to recognized standards the fabrics are not the same as used in surgical masks or respirators the edges are not designed to form a seal around the nose and mouth These types of masks may not be effective in blocking virus particles that may be transmitted by coughing, sneezing or certain medical procedures. They do not provide complete protection from virus particles because of a potential loose fit and the materials used. Some commercially available masks have exhalation valves that make the mask more breathable for the person wearing it, but these valves also allow infectious respiratory droplets to spread outside the mask. Masks with exhalation valves are not recommended, because they don't protect others from COVID-19 and don't limit the spread of the virus. Medical masks, including surgical, medical procedure face masks and respirators (like N95 masks), must be kept for health care workers and others providing direct care to COVID-19 patients. Related links Use of non-medical cloth masks or face coverings in community settings Video: How to wear a non-medical mask or face covering properly Advice while travelling Medical masks and N95 respirators Report a problem or mistake on this page Please select all that apply: A link, button or video is not working It has a spelling mistake Information is missing Information is outdated or wrong Login error when trying to access an account (e.g. My Service Canada Account) GC Key access SecureKey Concierge (Banking Credential) access Personal Access Code (PAC) problems or EI Access Code (AC) problems Social Insurance Number (SIN) validation problems Other login error not in this list I can't find what I'm looking for Other issue not in this list Submit Thank you for your help! You will not receive a reply. For enquiries, contact us. Date modified: 2020-07-21 About government Contact us Departments and agencies Public service and military News Treaties, laws and regulations Government-wide reporting Prime Minister About government Open government About this site Social media Mobile applications About Canada.ca Terms and conditions Privacy Top of page  "
            ]
          },
          "metadata": {},
          "execution_count": 9
        }
      ]
    },
    {
      "cell_type": "code",
      "metadata": {
        "id": "8SmbKTMjgDfo",
        "colab": {
          "base_uri": "https://localhost:8080/"
        },
        "outputId": "92d1d861-94d4-4eee-f29a-dc6f5f38f634"
      },
      "source": [
        "url_count_list = pd.DataFrame(web_page_text.groupby([\"url\"]).count().sort_values(by=\"crawl_date\",ascending=False)).index.to_list()\n",
        "url_count_list[0]\n"
      ],
      "execution_count": null,
      "outputs": [
        {
          "output_type": "execute_result",
          "data": {
            "application/vnd.google.colaboratory.intrinsic+json": {
              "type": "string"
            },
            "text/plain": [
              "'https://www.canada.ca/en/public-health/services/diseases/coronavirus-disease-covid-19.html'"
            ]
          },
          "metadata": {},
          "execution_count": 10
        }
      ]
    },
    {
      "cell_type": "markdown",
      "metadata": {
        "id": "9IF43hU9KhdQ"
      },
      "source": [
        "##Tokenize and Remove Stopwords\n",
        "Removing any words that do not add to the content such as \"a\", \"can\", \"be\""
      ]
    },
    {
      "cell_type": "code",
      "metadata": {
        "colab": {
          "base_uri": "https://localhost:8080/",
          "height": 1000
        },
        "id": "sR70nxHBM5sN",
        "outputId": "21c264f0-8cb1-4b92-925d-6eab42e8fcae"
      },
      "source": [
        "stop_words = set(stopwords.words(\"english\"))\n",
        "\n",
        "def filter_content(row):\n",
        "  word_tokens = word_tokenize(row['content'])\n",
        "\n",
        "  filtered_list = [w for w in word_tokens if not w.lower() in stop_words]\n",
        "  filtered_sentence = \" \".join(filtered_list)\n",
        "\n",
        "  return filtered_sentence\n",
        "\n",
        "\n",
        "web_page_text['filtered_content'] = web_page_text.apply(filter_content, axis=1)\n",
        "web_page_text.sample(1)"
      ],
      "execution_count": null,
      "outputs": [
        {
          "output_type": "execute_result",
          "data": {
            "text/html": [
              "<div>\n",
              "<style scoped>\n",
              "    .dataframe tbody tr th:only-of-type {\n",
              "        vertical-align: middle;\n",
              "    }\n",
              "\n",
              "    .dataframe tbody tr th {\n",
              "        vertical-align: top;\n",
              "    }\n",
              "\n",
              "    .dataframe thead th {\n",
              "        text-align: right;\n",
              "    }\n",
              "</style>\n",
              "<table border=\"1\" class=\"dataframe\">\n",
              "  <thead>\n",
              "    <tr style=\"text-align: right;\">\n",
              "      <th></th>\n",
              "      <th>crawl_date</th>\n",
              "      <th>domain</th>\n",
              "      <th>url</th>\n",
              "      <th>mime_type_web_server</th>\n",
              "      <th>mime_type_tika</th>\n",
              "      <th>language</th>\n",
              "      <th>content</th>\n",
              "      <th>filtered_content</th>\n",
              "    </tr>\n",
              "  </thead>\n",
              "  <tbody>\n",
              "    <tr>\n",
              "      <th>325</th>\n",
              "      <td>2020-08-14</td>\n",
              "      <td>canada.ca</td>\n",
              "      <td>https://www.canada.ca/en/public-health/services/diseases/coronavirus-disease-covid-19.html?utm_campaign=not-applicable&amp;utm_medium=vanity-url&amp;utm_source=canada-ca_covid-19</td>\n",
              "      <td>text/html</td>\n",
              "      <td>text/html</td>\n",
              "      <td>en</td>\n",
              "      <td>Coronavirus disease (COVID-19) outbreak updates, symptoms, prevention, travel, preparation - Canada.ca Skip to main content Skip to \"About government\" Language selection Français fr Search Search Canada.ca Search Menu Main Menu Jobs and the workplace Immigration and citizenship Travel and tourism Business and industry Benefits Health Taxes Environment and natural resources National security and defence Culture, history and sport Policing, justice and emergencies Transport and infrastructure Canada and the world Money and finances Science and innovation You are here: Canada.ca Coronavirus disease (COVID-19) Coronavirus disease (COVID-19) Coronavirus disease (COVID-19) Want to join the effort to limit the spread of COVID-19? Download COVID Alert Current situation COVID-19 outbreak update Latest announcements Get email updates Epidemiological and economic research data Canada’s response Financial and economic support For individuals and businesses Canada Emergency Student Benefit (CESB) Canada Emergency Response Benefit (CERB) Canada Emergency Wage Subsidy (CEWS) Your health Take a self-assessment Symptoms and treatment Prevention and risks Mental and physical wellbeing Non-medical masks Quarantine (self-isolate) and isolate Limiting the spread Reopening in your community Managing your business Personal protective equipment and medical supplies Government guidance Vaccines and drugs Testing Travel and immigration Travel, quarantine and borders Canada-U.S. border Global travel advisory Assistance abroad Immigration and citizenship How you can help How you can make a difference Mobilizing industry to provide medical supplies Focus on Health professionals Health product industry Food industry Seniors Veterans Indigenous communities Parents and children Youth, students and young adults Government of Canada employees COVID-19 in Canada August 13, 2020, 7:00 p.m. EDT Number of people tested 4,635,105 Total cases 121,234 Active cases 4,666 Recovered 107,553 Deaths 9,015 Provincial and territorial case numbers Features Digital tools COVID-19 applications and interactive tools to help you stay informed Awareness resources Printable information and videos, with some resources available in multiple languages Report scams and misleading information Known scams, frauds, and how to report them. COVID-19 Virtual Assistant Have a question? Start here! What COVID-19 information do you need? Health and safety Income support Additional economic and financial support About COVID-19 Choose a topic Prevention and risks Symptoms and treatment Reduce COVID-19 in your community What can I do to care for my mental and physical health? Drug and medical device supply monitoring Travel restrictions, exemptions and advice For clinical trial sponsors Go to previous question Which type of support are you interested in? Individuals Businesses Sectors Organizations helping Canadians Go to previous question Choose an option E-mail updates on COVID-19 Current confirmed number of COVID-19 cases in Canada More details about the cases reported in Canada What is COVID-19? How does it spread? Where can I get information specific to my province or territory? How governments are working together How can I make a difference in Canada’s COVID-19 response efforts? Resources for parents and children Resources for youth, students and young adults Resources for seniors and their caregivers Resources for Indigenous communities People with disabilities Go to previous question Choose an option Get a list of benefits and support tailored to you Canada Emergency Response Benefit (CERB) CERB: Questions and Answers Go to previous question Choose an option What is my risk of getting COVID-19 in Canada? Difference between quarantine vs isolate Physical distancing and how it helps minimize COVID-19 How can I go out safely during the COVID-19 pandemic? Surface contamination Which people are at risk of severe outcomes? Pregnancy and risks related to COVID-19 Can COVID-19 be transmitted through food? Can my pet or other animals get sick from this virus? Hygiene Wearing masks Can COVID-19 spread while swimming in lakes and pools? Can COVID-19 spread through sex? Go to previous question Choose an option Self-assessment tool to help determine if your symptoms require further care What are the symptoms? How long do symptoms take to appear? Treatment? Should I call my doctor? Go to previous question Choose an option For communities, including child and youth settings and outdoor spaces How do I care for a person with COVID-19 at home? Public health measures to prevent and reduce the spread of COVID-19 in the workplace Are gatherings still allowed to take place? Go to previous question Choose an option Exemptions Are Canadians currently able to travel to the U.S.? Travellers arriving in Canada Avoid all non-essential travel Avoid all travel on cruise ships Registration of Canadians Abroad service Check if you have been exposed during recent travel I have to travel for essential reasons. How can I reduce my risk of infection? I am a Canadian travelling abroad and I need support. Who can I contact? I am a traveller trying to return home to Canada. How do I get financial support while abroad? Go to previous question Choose an option Compassionate exemptions Can I leave Canada before my 14-day mandatory quarantine is over? I have a negative test for COVID-19. Do I still need to quarantine? I have had and recovered from COVID-19. Do I still need to quarantine? I am an essential worker under provincial legislation. Am I also exempt from the federal emergency orders? Go to previous question Which type of individual support are you interested in? Individuals and families People with disabilities Post-secondary students and recent graduates Seniors Indigenous peoples Go to previous question Which type of business support are you interested in? Avoiding layoffs, rehiring employees and creating new jobs Taxes and tariffs Financial support, loans and access to credit Targeted support Self-employed individuals Indigenous businesses Supporting financial stability Go to previous question Which type of sector support are you interested in? Agriculture and agri-food Aquaculture and fisheries Cultural, heritage and sport Air transportation Tourism Energy Academic and research Infrastructure Go to previous question Would you like to learn more about: Services to those in need Seniors People who need it most People with disabilities Go to previous question Would you like to learn more about: Canada Emergency Response Benefit (CERB) Increasing the Canada Child Benefit Extra time to file income tax returns Mortgage payment deferral Temporary wage top-up for low-income essential workers Special Goods and Services Tax credit payment Go to previous question Would you like to learn more about: Special one-time tax-free payment for certified holders of the Disability Tax Credit Go to previous question Would you like to learn more about: Supporting Indigenous communities Making personal hygiene products and nutritious food more affordable Providing support to Indigenous post-secondary students Funding for additional health care resources for Indigenous communities Boosting the On-Reserve Income Assistance Program New shelters to protect and support Indigenous women and children fleeing violence Go to previous question Would you like to learn more about: Providing a one-time tax-free payment for Old Age Security and Guaranteed Income Supplement Temporarily extending the Guaranteed Income Supplement and Allowance payments Reduced minimum withdrawals for Registered Retirement Income Funds Go to previous question Would you like to learn more about: Canada Emergency Student Benefit (CESB) Canada Student Service Grant (CSSG) Helping student loan borrowers Supporting student researchers and post-doctoral fellows Supporting international students working in an essential service Go to previous question Would you like to learn more about: Canada Emergency Wage Subsidy (CEWS) Temporary 10% Wage Subsidy Extending the Work-Sharing program Creating new jobs and opportunities for youth Go to previous question Would you like to learn more about: More time to pay income taxes Deferral of Sales Tax Remittance and Customs Duty Payments until June Waiving tariffs on certain medical goods Go to previous question Would you like to learn more about: Canada Emergency Business Account (CEBA) interest-free loans Loan Guarantee for Small and Medium-Sized Enterprises Co-Lending Program for Small and Medium-Sized Enterprises Regional Relief and Recovery Fund (RRRF) Canada Emergency Commercial Rent Assistance (CECRA) Mid-Market Financing Program Mid-Market Guarantee and Financing Program Businesses in the territories Large Employer Emergency Financing Facility (LEEFF) Industrial Research Assistance Program (IRAP) for early-stage businesses Additional support by sector Go to previous question Would you like to learn more about: Canada Emergency Response Benefit (CERB) Deferral of Sales Tax Remittance and Customs Duty Payments until June More time to pay income taxes Go to previous question Would you like to learn more about: Relief measures for Indigenous businesses Supporting business through the pandemic and into recovery Supporting the Indigenous tourism industry Go to previous question Would you like to learn more about: Relief for federally regulated pension plan sponsors Launching an Insured Mortgage Purchase Program Bank of Canada's actions Office of the Superintendent of Financial Institutions actions Go to previous question Would you like to learn more about: Young entrepreneurs Women entrepreneurs Go to previous question Would you like to learn more about: Keeping workers in the food supply chain safe Increasing credit availability Helping food producers access more PPE and adapt to health protocols Helping producers faced with additional costs incurred by COVID-19 Increasing the Canadian Dairy Commission borrowing limit Helping redistribute existing and unsold inventories Increasing interim payments from 50% to 75% through AgriStability Expanding AgriInsurance to include labour shortage Additional support for your business Go to previous question Would you like to learn more about: Emergency Support Fund for Cultural, Heritage and Sport Organizations Waiving payments for Part I licence fees Additional support for your business Go to previous question Would you like to learn more about: Continuing the supply of essential goods and services to remote and fly-in communities Waiving ground lease rents Additional support for your business Go to previous question Would you like to learn more about: Cleaning up orphan and inactive oil and gas wells Launching the Emissions Reduction Fund Additional support for your business Go to previous question Would you like to learn more about: Keeping workers in the food supply chain safe Increasing credit availability Assisting the fish and seafood processing sector Fish Harvester Grant Benefit Fish Harvester Grant Business Changes to EI for self-employed fish harvesters and sharespersons Additional support for your business Go to previous question Would you like to learn more about: Providing wage support for universities and health research institutes Covering eligible costs to maintain research activities Go to previous question Would you like to learn more about: Funding for communities Go to previous question Would you like to learn more about: Deferring payments on commercial leases and licenses of occupation Additional support for your business Go to previous question Would you like to learn more about: Helping vulnerable Canadians Improving access to essential food support Go to previous question Would you like to learn more about: Supporting the delivery of items and personal outreach Providing immediate and essential services to seniors Go to previous question Would you like to learn more about: Supporting people experiencing homelessness Supporting women and children fleeing violence Providing youth with mental health support Supporting public health efforts through the Canadian Red Cross Go to previous question Would you like to learn more about: Additional support for your organization Providing resources to improve workplace accessibility and access to jobs Investing in projects through the Accessible Technology Program Go to previous question Thank you! I have found a page that may help. Search What COVID-19 information do you need? Health and safety Prevention and risks What is my risk of getting COVID-19 in Canada? Difference between quarantine vs isolate Physical distancing and how it helps minimize COVID-19 How can I go out safely during the COVID-19 pandemic? Surface contamination Which people are at risk of severe outcomes? Pregnancy and risks related to COVID-19 Can COVID-19 be transmitted through food? Can my pet or other animals get sick from this virus? Hygiene Wearing masks Can COVID-19 spread while swimming in lakes and pools? Can COVID-19 spread through sex? Symptoms and treatment Self-assessment tool to help determine if your symptoms require further care What are the symptoms? How long do symptoms take to appear? Treatment? Should I call my doctor? Reduce COVID-19 in your community For communities, including child and youth settings and outdoor spaces How do I care for a person with COVID-19 at home? Public health measures to prevent and reduce the spread of COVID-19 in the workplace Are gatherings still allowed to take place? What can I do to care for my mental and physical health? Drug and medical device supply monitoring Travel restrictions, exemptions and advice Exemptions Compassionate exemptions Can I leave Canada before my 14-day mandatory quarantine is over? I have a negative test for COVID-19. Do I still need to quarantine? I have had and recovered from COVID-19. Do I still need to quarantine? I am an essential worker under provincial legislation. Am I also exempt from the federal emergency orders? Are Canadians currently able to travel to the U.S.? Travellers arriving in Canada Avoid all non-essential travel Avoid all travel on cruise ships Registration of Canadians Abroad service Check if you have been exposed during recent travel I have to travel for essential reasons. How can I reduce my risk of infection? I am a Canadian travelling abroad and I need support. Who can I contact? I am a traveller trying to return home to Canada. How do I get financial support while abroad? For clinical trial sponsors Income support Get a list of benefits and support tailored to you Canada Emergency Response Benefit (CERB) CERB: Questions and Answers Additional economic and financial support Individuals Individuals and families Canada Emergency Response Benefit (CERB) Increasing the Canada Child Benefit Extra time to file income tax returns Mortgage payment deferral Temporary wage top-up for low-income essential workers Special Goods and Services Tax credit payment People with disabilities Special one-time tax-free payment for certified holders of the Disability Tax Credit Post-secondary students and recent graduates Canada Emergency Student Benefit (CESB) Canada Student Service Grant (CSSG) Helping student loan borrowers Supporting student researchers and post-doctoral fellows Supporting international students working in an essential service Seniors Providing a one-time tax-free payment for Old Age Security and Guaranteed Income Supplement Temporarily extending the Guaranteed Income Supplement and Allowance payments Reduced minimum withdrawals for Registered Retirement Income Funds Indigenous peoples Supporting Indigenous communities Making personal hygiene products and nutritious food more affordable Providing support to Indigenous post-secondary students Funding for additional health care resources for Indigenous communities Boosting the On-Reserve Income Assistance Program New shelters to protect and support Indigenous women and children fleeing violence Support for businesses Avoiding layoffs, rehiring employees and creating new jobs Canada Emergency Wage Subsidy (CEWS) Temporary 10% Wage Subsidy Extending the Work-Sharing program Creating new jobs and opportunities for youth Taxes and tariffs More time to pay income taxes Deferral of Sales Tax Remittance and Customs Duty Payments until June Waiving tariffs on certain medical goods Financial support, loans and access to credit Canada Emergency Business Account (CEBA) interest-free loans Loan Guarantee for Small and Medium-Sized Enterprises Co-Lending Program for Small and Medium-Sized Enterprises Regional Relief and Recovery Fund (RRRF) Canada Emergency Commercial Rent Assistance (CECRA) Mid-Market Financing Program Mid-Market Guarantee and Financing Program Businesses in the territories Large Employer Emergency Financing Facility (LEEFF) Industrial Research Assistance Program (IRAP) for early-stage businesses Additional support by sector Targeted support Young entrepreneurs Women entrepreneurs Self-employed individuals Canada Emergency Response Benefit (CERB) Deferral of Sales Tax Remittance and Customs Duty Payments until June More time to pay income taxes Indigenous businesses Relief measures for Indigenous businesses Supporting business through the pandemic and into recovery Supporting the Indigenous tourism industry Supporting financial stability Relief for federally regulated pension plan sponsors Launching an Insured Mortgage Purchase Program Bank of Canada's actions Office of the Superintendent of Financial Institutions actions Support for sectors Agriculture and agri-food Keeping workers in the food supply chain safe Increasing credit availability Helping food producers access more PPE and adapt to health protocols Helping producers faced with additional costs incurred by COVID-19 Increasing the Canadian Dairy Commission borrowing limit Helping redistribute existing and unsold inventories Increasing interim payments from 50% to 75% through AgriStability Expanding AgriInsurance to include labour shortage Additional support for your business Aquaculture and fisheries Keeping workers in the food supply chain safe Increasing credit availability Assisting the fish and seafood processing sector Fish Harvester Grant Benefit Fish Harvester Grant Business Changes to EI for self-employed fish harvesters and sharespersons Additional support for your business Cultural, heritage and sport Emergency Support Fund for Cultural, Heritage and Sport Organizations Waiving payments for Part I licence fees Additional support for your business Air transportation Continuing the supply of essential goods and services to remote and fly-in communities Waiving ground lease rents Additional support for your business Tourism Deferring payments on commercial leases and licenses of occupation Additional support for your business Energy Cleaning up orphan and inactive oil and gas wells Launching the Emissions Reduction Fund Additional support for your business Academic and research Providing wage support for universities and health research institutes Covering eligible costs to maintain research activities Infrastructure Funding for communities Organizations helping Canadians Services to those in need Helping vulnerable Canadians Improving access to essential food support Seniors Supporting the delivery of items and personal outreach Providing immediate and essential services to seniors People who need it most Supporting people experiencing homelessness Supporting women and children fleeing violence Providing youth with mental health support Supporting public health efforts through the Canadian Red Cross People with disabilities Additional support for your organization Providing resources to improve workplace accessibility and access to jobs Investing in projects through the Accessible Technology Program About COVID-19 E-mail updates on COVID-19 Current confirmed number of COVID-19 cases in Canada More details about the cases reported in Canada What is COVID-19? How does it spread? Where can I get information specific to my province or territory? How governments are working together How can I make a difference in Canada’s COVID-19 response efforts? Resources for parents and children Resources for youth, students and young adults Resources for seniors and their caregivers Resources for Indigenous communities People with disabilities Report a problem or mistake on this page Please select all that apply: A link, button or video is not working It has a spelling mistake Information is missing Information is outdated or wrong Login error when trying to access an account (e.g. My Service Canada Account) GC Key access SecureKey Concierge (Banking Credential) access Personal Access Code (PAC) problems or EI Access Code (AC) problems Social Insurance Number (SIN) validation problems Other login error not in this list I can't find what I'm looking for Other issue not in this list Submit Thank you for your help! You will not receive a reply. For enquiries, contact us. Date modified: 2020-07-31 About government Contact us Departments and agencies Public service and military News Treaties, laws and regulations Government-wide reporting Prime Minister About government Open government About this site Social media Mobile applications About Canada.ca Terms and conditions Privacy Top of page</td>\n",
              "      <td>Coronavirus disease ( COVID-19 ) outbreak updates , symptoms , prevention , travel , preparation - Canada.ca Skip main content Skip `` government '' Language selection Français fr Search Search Canada.ca Search Menu Main Menu Jobs workplace Immigration citizenship Travel tourism Business industry Benefits Health Taxes Environment natural resources National security defence Culture , history sport Policing , justice emergencies Transport infrastructure Canada world Money finances Science innovation : Canada.ca Coronavirus disease ( COVID-19 ) Coronavirus disease ( COVID-19 ) Coronavirus disease ( COVID-19 ) Want join effort limit spread COVID-19 ? Download COVID Alert Current situation COVID-19 outbreak update Latest announcements Get email updates Epidemiological economic research data Canada ’ response Financial economic support individuals businesses Canada Emergency Student Benefit ( CESB ) Canada Emergency Response Benefit ( CERB ) Canada Emergency Wage Subsidy ( CEWS ) health Take self-assessment Symptoms treatment Prevention risks Mental physical wellbeing Non-medical masks Quarantine ( self-isolate ) isolate Limiting spread Reopening community Managing business Personal protective equipment medical supplies Government guidance Vaccines drugs Testing Travel immigration Travel , quarantine borders Canada-U.S. border Global travel advisory Assistance abroad Immigration citizenship help make difference Mobilizing industry provide medical supplies Focus Health professionals Health product industry Food industry Seniors Veterans Indigenous communities Parents children Youth , students young adults Government Canada employees COVID-19 Canada August 13 , 2020 , 7:00 p.m. EDT Number people tested 4,635,105 Total cases 121,234 Active cases 4,666 Recovered 107,553 Deaths 9,015 Provincial territorial case numbers Features Digital tools COVID-19 applications interactive tools help stay informed Awareness resources Printable information videos , resources available multiple languages Report scams misleading information Known scams , frauds , report . COVID-19 Virtual Assistant question ? Start ! COVID-19 information need ? Health safety Income support Additional economic financial support COVID-19 Choose topic Prevention risks Symptoms treatment Reduce COVID-19 community care mental physical health ? Drug medical device supply monitoring Travel restrictions , exemptions advice clinical trial sponsors Go previous question type support interested ? Individuals Businesses Sectors Organizations helping Canadians Go previous question Choose option E-mail updates COVID-19 Current confirmed number COVID-19 cases Canada details cases reported Canada COVID-19 ? spread ? get information specific province territory ? governments working together make difference Canada ’ COVID-19 response efforts ? Resources parents children Resources youth , students young adults Resources seniors caregivers Resources Indigenous communities People disabilities Go previous question Choose option Get list benefits support tailored Canada Emergency Response Benefit ( CERB ) CERB : Questions Answers Go previous question Choose option risk getting COVID-19 Canada ? Difference quarantine vs isolate Physical distancing helps minimize COVID-19 go safely COVID-19 pandemic ? Surface contamination people risk severe outcomes ? Pregnancy risks related COVID-19 COVID-19 transmitted food ? pet animals get sick virus ? Hygiene Wearing masks COVID-19 spread swimming lakes pools ? COVID-19 spread sex ? Go previous question Choose option Self-assessment tool help determine symptoms require care symptoms ? long symptoms take appear ? Treatment ? call doctor ? Go previous question Choose option communities , including child youth settings outdoor spaces care person COVID-19 home ? Public health measures prevent reduce spread COVID-19 workplace gatherings still allowed take place ? Go previous question Choose option Exemptions Canadians currently able travel U.S. ? Travellers arriving Canada Avoid non-essential travel Avoid travel cruise ships Registration Canadians Abroad service Check exposed recent travel travel essential reasons . reduce risk infection ? Canadian travelling abroad need support . contact ? traveller trying return home Canada . get financial support abroad ? Go previous question Choose option Compassionate exemptions leave Canada 14-day mandatory quarantine ? negative test COVID-19 . still need quarantine ? recovered COVID-19 . still need quarantine ? essential worker provincial legislation . also exempt federal emergency orders ? Go previous question type individual support interested ? Individuals families People disabilities Post-secondary students recent graduates Seniors Indigenous peoples Go previous question type business support interested ? Avoiding layoffs , rehiring employees creating new jobs Taxes tariffs Financial support , loans access credit Targeted support Self-employed individuals Indigenous businesses Supporting financial stability Go previous question type sector support interested ? Agriculture agri-food Aquaculture fisheries Cultural , heritage sport Air transportation Tourism Energy Academic research Infrastructure Go previous question Would like learn : Services need Seniors People need People disabilities Go previous question Would like learn : Canada Emergency Response Benefit ( CERB ) Increasing Canada Child Benefit Extra time file income tax returns Mortgage payment deferral Temporary wage top-up low-income essential workers Special Goods Services Tax credit payment Go previous question Would like learn : Special one-time tax-free payment certified holders Disability Tax Credit Go previous question Would like learn : Supporting Indigenous communities Making personal hygiene products nutritious food affordable Providing support Indigenous post-secondary students Funding additional health care resources Indigenous communities Boosting On-Reserve Income Assistance Program New shelters protect support Indigenous women children fleeing violence Go previous question Would like learn : Providing one-time tax-free payment Old Age Security Guaranteed Income Supplement Temporarily extending Guaranteed Income Supplement Allowance payments Reduced minimum withdrawals Registered Retirement Income Funds Go previous question Would like learn : Canada Emergency Student Benefit ( CESB ) Canada Student Service Grant ( CSSG ) Helping student loan borrowers Supporting student researchers post-doctoral fellows Supporting international students working essential service Go previous question Would like learn : Canada Emergency Wage Subsidy ( CEWS ) Temporary 10 % Wage Subsidy Extending Work-Sharing program Creating new jobs opportunities youth Go previous question Would like learn : time pay income taxes Deferral Sales Tax Remittance Customs Duty Payments June Waiving tariffs certain medical goods Go previous question Would like learn : Canada Emergency Business Account ( CEBA ) interest-free loans Loan Guarantee Small Medium-Sized Enterprises Co-Lending Program Small Medium-Sized Enterprises Regional Relief Recovery Fund ( RRRF ) Canada Emergency Commercial Rent Assistance ( CECRA ) Mid-Market Financing Program Mid-Market Guarantee Financing Program Businesses territories Large Employer Emergency Financing Facility ( LEEFF ) Industrial Research Assistance Program ( IRAP ) early-stage businesses Additional support sector Go previous question Would like learn : Canada Emergency Response Benefit ( CERB ) Deferral Sales Tax Remittance Customs Duty Payments June time pay income taxes Go previous question Would like learn : Relief measures Indigenous businesses Supporting business pandemic recovery Supporting Indigenous tourism industry Go previous question Would like learn : Relief federally regulated pension plan sponsors Launching Insured Mortgage Purchase Program Bank Canada 's actions Office Superintendent Financial Institutions actions Go previous question Would like learn : Young entrepreneurs Women entrepreneurs Go previous question Would like learn : Keeping workers food supply chain safe Increasing credit availability Helping food producers access PPE adapt health protocols Helping producers faced additional costs incurred COVID-19 Increasing Canadian Dairy Commission borrowing limit Helping redistribute existing unsold inventories Increasing interim payments 50 % 75 % AgriStability Expanding AgriInsurance include labour shortage Additional support business Go previous question Would like learn : Emergency Support Fund Cultural , Heritage Sport Organizations Waiving payments Part licence fees Additional support business Go previous question Would like learn : Continuing supply essential goods services remote fly-in communities Waiving ground lease rents Additional support business Go previous question Would like learn : Cleaning orphan inactive oil gas wells Launching Emissions Reduction Fund Additional support business Go previous question Would like learn : Keeping workers food supply chain safe Increasing credit availability Assisting fish seafood processing sector Fish Harvester Grant Benefit Fish Harvester Grant Business Changes EI self-employed fish harvesters sharespersons Additional support business Go previous question Would like learn : Providing wage support universities health research institutes Covering eligible costs maintain research activities Go previous question Would like learn : Funding communities Go previous question Would like learn : Deferring payments commercial leases licenses occupation Additional support business Go previous question Would like learn : Helping vulnerable Canadians Improving access essential food support Go previous question Would like learn : Supporting delivery items personal outreach Providing immediate essential services seniors Go previous question Would like learn : Supporting people experiencing homelessness Supporting women children fleeing violence Providing youth mental health support Supporting public health efforts Canadian Red Cross Go previous question Would like learn : Additional support organization Providing resources improve workplace accessibility access jobs Investing projects Accessible Technology Program Go previous question Thank ! found page may help . Search COVID-19 information need ? Health safety Prevention risks risk getting COVID-19 Canada ? Difference quarantine vs isolate Physical distancing helps minimize COVID-19 go safely COVID-19 pandemic ? Surface contamination people risk severe outcomes ? Pregnancy risks related COVID-19 COVID-19 transmitted food ? pet animals get sick virus ? Hygiene Wearing masks COVID-19 spread swimming lakes pools ? COVID-19 spread sex ? Symptoms treatment Self-assessment tool help determine symptoms require care symptoms ? long symptoms take appear ? Treatment ? call doctor ? Reduce COVID-19 community communities , including child youth settings outdoor spaces care person COVID-19 home ? Public health measures prevent reduce spread COVID-19 workplace gatherings still allowed take place ? care mental physical health ? Drug medical device supply monitoring Travel restrictions , exemptions advice Exemptions Compassionate exemptions leave Canada 14-day mandatory quarantine ? negative test COVID-19 . still need quarantine ? recovered COVID-19 . still need quarantine ? essential worker provincial legislation . also exempt federal emergency orders ? Canadians currently able travel U.S. ? Travellers arriving Canada Avoid non-essential travel Avoid travel cruise ships Registration Canadians Abroad service Check exposed recent travel travel essential reasons . reduce risk infection ? Canadian travelling abroad need support . contact ? traveller trying return home Canada . get financial support abroad ? clinical trial sponsors Income support Get list benefits support tailored Canada Emergency Response Benefit ( CERB ) CERB : Questions Answers Additional economic financial support Individuals Individuals families Canada Emergency Response Benefit ( CERB ) Increasing Canada Child Benefit Extra time file income tax returns Mortgage payment deferral Temporary wage top-up low-income essential workers Special Goods Services Tax credit payment People disabilities Special one-time tax-free payment certified holders Disability Tax Credit Post-secondary students recent graduates Canada Emergency Student Benefit ( CESB ) Canada Student Service Grant ( CSSG ) Helping student loan borrowers Supporting student researchers post-doctoral fellows Supporting international students working essential service Seniors Providing one-time tax-free payment Old Age Security Guaranteed Income Supplement Temporarily extending Guaranteed Income Supplement Allowance payments Reduced minimum withdrawals Registered Retirement Income Funds Indigenous peoples Supporting Indigenous communities Making personal hygiene products nutritious food affordable Providing support Indigenous post-secondary students Funding additional health care resources Indigenous communities Boosting On-Reserve Income Assistance Program New shelters protect support Indigenous women children fleeing violence Support businesses Avoiding layoffs , rehiring employees creating new jobs Canada Emergency Wage Subsidy ( CEWS ) Temporary 10 % Wage Subsidy Extending Work-Sharing program Creating new jobs opportunities youth Taxes tariffs time pay income taxes Deferral Sales Tax Remittance Customs Duty Payments June Waiving tariffs certain medical goods Financial support , loans access credit Canada Emergency Business Account ( CEBA ) interest-free loans Loan Guarantee Small Medium-Sized Enterprises Co-Lending Program Small Medium-Sized Enterprises Regional Relief Recovery Fund ( RRRF ) Canada Emergency Commercial Rent Assistance ( CECRA ) Mid-Market Financing Program Mid-Market Guarantee Financing Program Businesses territories Large Employer Emergency Financing Facility ( LEEFF ) Industrial Research Assistance Program ( IRAP ) early-stage businesses Additional support sector Targeted support Young entrepreneurs Women entrepreneurs Self-employed individuals Canada Emergency Response Benefit ( CERB ) Deferral Sales Tax Remittance Customs Duty Payments June time pay income taxes Indigenous businesses Relief measures Indigenous businesses Supporting business pandemic recovery Supporting Indigenous tourism industry Supporting financial stability Relief federally regulated pension plan sponsors Launching Insured Mortgage Purchase Program Bank Canada 's actions Office Superintendent Financial Institutions actions Support sectors Agriculture agri-food Keeping workers food supply chain safe Increasing credit availability Helping food producers access PPE adapt health protocols Helping producers faced additional costs incurred COVID-19 Increasing Canadian Dairy Commission borrowing limit Helping redistribute existing unsold inventories Increasing interim payments 50 % 75 % AgriStability Expanding AgriInsurance include labour shortage Additional support business Aquaculture fisheries Keeping workers food supply chain safe Increasing credit availability Assisting fish seafood processing sector Fish Harvester Grant Benefit Fish Harvester Grant Business Changes EI self-employed fish harvesters sharespersons Additional support business Cultural , heritage sport Emergency Support Fund Cultural , Heritage Sport Organizations Waiving payments Part licence fees Additional support business Air transportation Continuing supply essential goods services remote fly-in communities Waiving ground lease rents Additional support business Tourism Deferring payments commercial leases licenses occupation Additional support business Energy Cleaning orphan inactive oil gas wells Launching Emissions Reduction Fund Additional support business Academic research Providing wage support universities health research institutes Covering eligible costs maintain research activities Infrastructure Funding communities Organizations helping Canadians Services need Helping vulnerable Canadians Improving access essential food support Seniors Supporting delivery items personal outreach Providing immediate essential services seniors People need Supporting people experiencing homelessness Supporting women children fleeing violence Providing youth mental health support Supporting public health efforts Canadian Red Cross People disabilities Additional support organization Providing resources improve workplace accessibility access jobs Investing projects Accessible Technology Program COVID-19 E-mail updates COVID-19 Current confirmed number COVID-19 cases Canada details cases reported Canada COVID-19 ? spread ? get information specific province territory ? governments working together make difference Canada ’ COVID-19 response efforts ? Resources parents children Resources youth , students young adults Resources seniors caregivers Resources Indigenous communities People disabilities Report problem mistake page Please select apply : link , button video working spelling mistake Information missing Information outdated wrong Login error trying access account ( e.g . Service Canada Account ) GC Key access SecureKey Concierge ( Banking Credential ) access Personal Access Code ( PAC ) problems EI Access Code ( AC ) problems Social Insurance Number ( SIN ) validation problems login error list ca n't find 'm looking issue list Submit Thank help ! receive reply . enquiries , contact us . Date modified : 2020-07-31 government Contact us Departments agencies Public service military News Treaties , laws regulations Government-wide reporting Prime Minister government Open government site Social media Mobile applications Canada.ca Terms conditions Privacy Top page</td>\n",
              "    </tr>\n",
              "  </tbody>\n",
              "</table>\n",
              "</div>"
            ],
            "text/plain": [
              "    crawl_date     domain  \\\n",
              "325 2020-08-14  canada.ca   \n",
              "\n",
              "                                                                                                                                                                            url  \\\n",
              "325  https://www.canada.ca/en/public-health/services/diseases/coronavirus-disease-covid-19.html?utm_campaign=not-applicable&utm_medium=vanity-url&utm_source=canada-ca_covid-19   \n",
              "\n",
              "    mime_type_web_server mime_type_tika language  \\\n",
              "325  text/html            text/html      en        \n",
              "\n",
              "                                                                                                                                                                                                                                                                                                                                                                                                                                                                                                                                                                                                                                                                                                                                                                                                                                                                                                                                                                                                                                                                                                                                                                                                                                                                                                                                                                                                                                                                                                                                                                                                                                                                                                                                                                                                                                                                                                                                                                                                                                                                                                                                                                                                                                                                                                                                                                                                                                                                                                                                                                                                                                                                                                                                                                                                                                                                                                                                                                                                                                                                                                                                                                                                                                                                                                                                                                                                                                                                                                                                                                                                                                                                                                                                                                                                                                                                                                                                                                                                                                                                                                                                                                                                                                                                                                                                                                                                                                                                                                                                                                                                                                                                                                                                                                                                                                                                                                                                                                                                                                                                                                                                                                                                                                                                                                                                                                                                                                                                                                                                                                                                                                                                                                                                                                                                                                                                                                                                                                                                                                                                                                                                                                                                                                                                                                                                                                                                                                                                                                                                                                                                                                                                                                                                                                                                                                                                                                                                                                                                                                                                                                                                                                                                                                                                                                                                                                                                                                                                                                                                                                                                                                                                                                                                                                                                                                                                                                                                                                                                                                                                                                                                                                                                                                                                                                                                                                                                                                                                                                                                                                                                                                                                                                                                                                                                                                                                                                                                                                                                                                                                                                                                                                                                                                                                                                                                                                                                                                                                                                                                                                                                                                                                                                                                                                                                                                                                                                                                                                                                                                                                                                                                                                                                                                                                                                                                                                                                                                                                                                                                                                                                                                                                                                                                                                                                                                                                                                                                                                                                                                                                                                                                                                                                                                                                                                                                                                                                                                                                                                                                                                                                                                                                                                                                                                                                                                                                                                                                                                                                                                                                                                                                                                                                                                                                                                                                                                                                                                                                                                                                                                                                                                                                                                                                                                                                                                                                                                                                                                                                                                                                                                                                                                                                                                                                                                                                                                                                                                                                                                                                                                                                                                                                                                                                                                                                                                                                                                                                                                                                                                                                                                                                                                                                                                                                                                                                                                                                                                                                                                                                                                                                                                                                                                                                                                                                                                                                                                                                                                                                                                                                                                                                                                                                                                                                                                                                                                                                                                                                                                                                                                                                                                                                                                                                                                                                                                                                                                                                                                                                                                                                                                                                                                                                                                                                                                                                                                                                                                                                                                                                                                                                                                                                                                                                                                                                                                                                                                                                                                                                                                                                                                                                                                                                                                                                                                                                                                                                                                                                                                                                                                                                                                                                                                                                                                                                                                                                                                                                                                                                                                                                                                                                                                                                                                                                                                                                                                                                                                                                                                                                                                                                                                                                                                                                                                                                                                                                                                                                                                                                                                                                                                                                                                                                                                                                                                                                                                                                                                                                                                                                                                                                                                                                                                                                                                                                                                                                                                                                                                                                                                                                                                                                                                                                                                                                                                                                                                                                                                                                                                                                                                                                                                                                                                                                                                                                                                                                                                                                                                                                                                                                                                                                                                                                                                                                                                                                                                                                                                                                                                                                                                                                                                                                                                                                                                                                                                                                                                                                                                                                                                                                                                                                                                                                                                          content  \\\n",
              "325  Coronavirus disease (COVID-19) outbreak updates, symptoms, prevention, travel, preparation - Canada.ca Skip to main content Skip to \"About government\" Language selection Français fr Search Search Canada.ca Search Menu Main Menu Jobs and the workplace Immigration and citizenship Travel and tourism Business and industry Benefits Health Taxes Environment and natural resources National security and defence Culture, history and sport Policing, justice and emergencies Transport and infrastructure Canada and the world Money and finances Science and innovation You are here: Canada.ca Coronavirus disease (COVID-19) Coronavirus disease (COVID-19) Coronavirus disease (COVID-19) Want to join the effort to limit the spread of COVID-19? Download COVID Alert Current situation COVID-19 outbreak update Latest announcements Get email updates Epidemiological and economic research data Canada’s response Financial and economic support For individuals and businesses Canada Emergency Student Benefit (CESB) Canada Emergency Response Benefit (CERB) Canada Emergency Wage Subsidy (CEWS) Your health Take a self-assessment Symptoms and treatment Prevention and risks Mental and physical wellbeing Non-medical masks Quarantine (self-isolate) and isolate Limiting the spread Reopening in your community Managing your business Personal protective equipment and medical supplies Government guidance Vaccines and drugs Testing Travel and immigration Travel, quarantine and borders Canada-U.S. border Global travel advisory Assistance abroad Immigration and citizenship How you can help How you can make a difference Mobilizing industry to provide medical supplies Focus on Health professionals Health product industry Food industry Seniors Veterans Indigenous communities Parents and children Youth, students and young adults Government of Canada employees COVID-19 in Canada August 13, 2020, 7:00 p.m. EDT Number of people tested 4,635,105 Total cases 121,234 Active cases 4,666 Recovered 107,553 Deaths 9,015 Provincial and territorial case numbers Features Digital tools COVID-19 applications and interactive tools to help you stay informed Awareness resources Printable information and videos, with some resources available in multiple languages Report scams and misleading information Known scams, frauds, and how to report them. COVID-19 Virtual Assistant Have a question? Start here! What COVID-19 information do you need? Health and safety Income support Additional economic and financial support About COVID-19 Choose a topic Prevention and risks Symptoms and treatment Reduce COVID-19 in your community What can I do to care for my mental and physical health? Drug and medical device supply monitoring Travel restrictions, exemptions and advice For clinical trial sponsors Go to previous question Which type of support are you interested in? Individuals Businesses Sectors Organizations helping Canadians Go to previous question Choose an option E-mail updates on COVID-19 Current confirmed number of COVID-19 cases in Canada More details about the cases reported in Canada What is COVID-19? How does it spread? Where can I get information specific to my province or territory? How governments are working together How can I make a difference in Canada’s COVID-19 response efforts? Resources for parents and children Resources for youth, students and young adults Resources for seniors and their caregivers Resources for Indigenous communities People with disabilities Go to previous question Choose an option Get a list of benefits and support tailored to you Canada Emergency Response Benefit (CERB) CERB: Questions and Answers Go to previous question Choose an option What is my risk of getting COVID-19 in Canada? Difference between quarantine vs isolate Physical distancing and how it helps minimize COVID-19 How can I go out safely during the COVID-19 pandemic? Surface contamination Which people are at risk of severe outcomes? Pregnancy and risks related to COVID-19 Can COVID-19 be transmitted through food? Can my pet or other animals get sick from this virus? Hygiene Wearing masks Can COVID-19 spread while swimming in lakes and pools? Can COVID-19 spread through sex? Go to previous question Choose an option Self-assessment tool to help determine if your symptoms require further care What are the symptoms? How long do symptoms take to appear? Treatment? Should I call my doctor? Go to previous question Choose an option For communities, including child and youth settings and outdoor spaces How do I care for a person with COVID-19 at home? Public health measures to prevent and reduce the spread of COVID-19 in the workplace Are gatherings still allowed to take place? Go to previous question Choose an option Exemptions Are Canadians currently able to travel to the U.S.? Travellers arriving in Canada Avoid all non-essential travel Avoid all travel on cruise ships Registration of Canadians Abroad service Check if you have been exposed during recent travel I have to travel for essential reasons. How can I reduce my risk of infection? I am a Canadian travelling abroad and I need support. Who can I contact? I am a traveller trying to return home to Canada. How do I get financial support while abroad? Go to previous question Choose an option Compassionate exemptions Can I leave Canada before my 14-day mandatory quarantine is over? I have a negative test for COVID-19. Do I still need to quarantine? I have had and recovered from COVID-19. Do I still need to quarantine? I am an essential worker under provincial legislation. Am I also exempt from the federal emergency orders? Go to previous question Which type of individual support are you interested in? Individuals and families People with disabilities Post-secondary students and recent graduates Seniors Indigenous peoples Go to previous question Which type of business support are you interested in? Avoiding layoffs, rehiring employees and creating new jobs Taxes and tariffs Financial support, loans and access to credit Targeted support Self-employed individuals Indigenous businesses Supporting financial stability Go to previous question Which type of sector support are you interested in? Agriculture and agri-food Aquaculture and fisheries Cultural, heritage and sport Air transportation Tourism Energy Academic and research Infrastructure Go to previous question Would you like to learn more about: Services to those in need Seniors People who need it most People with disabilities Go to previous question Would you like to learn more about: Canada Emergency Response Benefit (CERB) Increasing the Canada Child Benefit Extra time to file income tax returns Mortgage payment deferral Temporary wage top-up for low-income essential workers Special Goods and Services Tax credit payment Go to previous question Would you like to learn more about: Special one-time tax-free payment for certified holders of the Disability Tax Credit Go to previous question Would you like to learn more about: Supporting Indigenous communities Making personal hygiene products and nutritious food more affordable Providing support to Indigenous post-secondary students Funding for additional health care resources for Indigenous communities Boosting the On-Reserve Income Assistance Program New shelters to protect and support Indigenous women and children fleeing violence Go to previous question Would you like to learn more about: Providing a one-time tax-free payment for Old Age Security and Guaranteed Income Supplement Temporarily extending the Guaranteed Income Supplement and Allowance payments Reduced minimum withdrawals for Registered Retirement Income Funds Go to previous question Would you like to learn more about: Canada Emergency Student Benefit (CESB) Canada Student Service Grant (CSSG) Helping student loan borrowers Supporting student researchers and post-doctoral fellows Supporting international students working in an essential service Go to previous question Would you like to learn more about: Canada Emergency Wage Subsidy (CEWS) Temporary 10% Wage Subsidy Extending the Work-Sharing program Creating new jobs and opportunities for youth Go to previous question Would you like to learn more about: More time to pay income taxes Deferral of Sales Tax Remittance and Customs Duty Payments until June Waiving tariffs on certain medical goods Go to previous question Would you like to learn more about: Canada Emergency Business Account (CEBA) interest-free loans Loan Guarantee for Small and Medium-Sized Enterprises Co-Lending Program for Small and Medium-Sized Enterprises Regional Relief and Recovery Fund (RRRF) Canada Emergency Commercial Rent Assistance (CECRA) Mid-Market Financing Program Mid-Market Guarantee and Financing Program Businesses in the territories Large Employer Emergency Financing Facility (LEEFF) Industrial Research Assistance Program (IRAP) for early-stage businesses Additional support by sector Go to previous question Would you like to learn more about: Canada Emergency Response Benefit (CERB) Deferral of Sales Tax Remittance and Customs Duty Payments until June More time to pay income taxes Go to previous question Would you like to learn more about: Relief measures for Indigenous businesses Supporting business through the pandemic and into recovery Supporting the Indigenous tourism industry Go to previous question Would you like to learn more about: Relief for federally regulated pension plan sponsors Launching an Insured Mortgage Purchase Program Bank of Canada's actions Office of the Superintendent of Financial Institutions actions Go to previous question Would you like to learn more about: Young entrepreneurs Women entrepreneurs Go to previous question Would you like to learn more about: Keeping workers in the food supply chain safe Increasing credit availability Helping food producers access more PPE and adapt to health protocols Helping producers faced with additional costs incurred by COVID-19 Increasing the Canadian Dairy Commission borrowing limit Helping redistribute existing and unsold inventories Increasing interim payments from 50% to 75% through AgriStability Expanding AgriInsurance to include labour shortage Additional support for your business Go to previous question Would you like to learn more about: Emergency Support Fund for Cultural, Heritage and Sport Organizations Waiving payments for Part I licence fees Additional support for your business Go to previous question Would you like to learn more about: Continuing the supply of essential goods and services to remote and fly-in communities Waiving ground lease rents Additional support for your business Go to previous question Would you like to learn more about: Cleaning up orphan and inactive oil and gas wells Launching the Emissions Reduction Fund Additional support for your business Go to previous question Would you like to learn more about: Keeping workers in the food supply chain safe Increasing credit availability Assisting the fish and seafood processing sector Fish Harvester Grant Benefit Fish Harvester Grant Business Changes to EI for self-employed fish harvesters and sharespersons Additional support for your business Go to previous question Would you like to learn more about: Providing wage support for universities and health research institutes Covering eligible costs to maintain research activities Go to previous question Would you like to learn more about: Funding for communities Go to previous question Would you like to learn more about: Deferring payments on commercial leases and licenses of occupation Additional support for your business Go to previous question Would you like to learn more about: Helping vulnerable Canadians Improving access to essential food support Go to previous question Would you like to learn more about: Supporting the delivery of items and personal outreach Providing immediate and essential services to seniors Go to previous question Would you like to learn more about: Supporting people experiencing homelessness Supporting women and children fleeing violence Providing youth with mental health support Supporting public health efforts through the Canadian Red Cross Go to previous question Would you like to learn more about: Additional support for your organization Providing resources to improve workplace accessibility and access to jobs Investing in projects through the Accessible Technology Program Go to previous question Thank you! I have found a page that may help. Search What COVID-19 information do you need? Health and safety Prevention and risks What is my risk of getting COVID-19 in Canada? Difference between quarantine vs isolate Physical distancing and how it helps minimize COVID-19 How can I go out safely during the COVID-19 pandemic? Surface contamination Which people are at risk of severe outcomes? Pregnancy and risks related to COVID-19 Can COVID-19 be transmitted through food? Can my pet or other animals get sick from this virus? Hygiene Wearing masks Can COVID-19 spread while swimming in lakes and pools? Can COVID-19 spread through sex? Symptoms and treatment Self-assessment tool to help determine if your symptoms require further care What are the symptoms? How long do symptoms take to appear? Treatment? Should I call my doctor? Reduce COVID-19 in your community For communities, including child and youth settings and outdoor spaces How do I care for a person with COVID-19 at home? Public health measures to prevent and reduce the spread of COVID-19 in the workplace Are gatherings still allowed to take place? What can I do to care for my mental and physical health? Drug and medical device supply monitoring Travel restrictions, exemptions and advice Exemptions Compassionate exemptions Can I leave Canada before my 14-day mandatory quarantine is over? I have a negative test for COVID-19. Do I still need to quarantine? I have had and recovered from COVID-19. Do I still need to quarantine? I am an essential worker under provincial legislation. Am I also exempt from the federal emergency orders? Are Canadians currently able to travel to the U.S.? Travellers arriving in Canada Avoid all non-essential travel Avoid all travel on cruise ships Registration of Canadians Abroad service Check if you have been exposed during recent travel I have to travel for essential reasons. How can I reduce my risk of infection? I am a Canadian travelling abroad and I need support. Who can I contact? I am a traveller trying to return home to Canada. How do I get financial support while abroad? For clinical trial sponsors Income support Get a list of benefits and support tailored to you Canada Emergency Response Benefit (CERB) CERB: Questions and Answers Additional economic and financial support Individuals Individuals and families Canada Emergency Response Benefit (CERB) Increasing the Canada Child Benefit Extra time to file income tax returns Mortgage payment deferral Temporary wage top-up for low-income essential workers Special Goods and Services Tax credit payment People with disabilities Special one-time tax-free payment for certified holders of the Disability Tax Credit Post-secondary students and recent graduates Canada Emergency Student Benefit (CESB) Canada Student Service Grant (CSSG) Helping student loan borrowers Supporting student researchers and post-doctoral fellows Supporting international students working in an essential service Seniors Providing a one-time tax-free payment for Old Age Security and Guaranteed Income Supplement Temporarily extending the Guaranteed Income Supplement and Allowance payments Reduced minimum withdrawals for Registered Retirement Income Funds Indigenous peoples Supporting Indigenous communities Making personal hygiene products and nutritious food more affordable Providing support to Indigenous post-secondary students Funding for additional health care resources for Indigenous communities Boosting the On-Reserve Income Assistance Program New shelters to protect and support Indigenous women and children fleeing violence Support for businesses Avoiding layoffs, rehiring employees and creating new jobs Canada Emergency Wage Subsidy (CEWS) Temporary 10% Wage Subsidy Extending the Work-Sharing program Creating new jobs and opportunities for youth Taxes and tariffs More time to pay income taxes Deferral of Sales Tax Remittance and Customs Duty Payments until June Waiving tariffs on certain medical goods Financial support, loans and access to credit Canada Emergency Business Account (CEBA) interest-free loans Loan Guarantee for Small and Medium-Sized Enterprises Co-Lending Program for Small and Medium-Sized Enterprises Regional Relief and Recovery Fund (RRRF) Canada Emergency Commercial Rent Assistance (CECRA) Mid-Market Financing Program Mid-Market Guarantee and Financing Program Businesses in the territories Large Employer Emergency Financing Facility (LEEFF) Industrial Research Assistance Program (IRAP) for early-stage businesses Additional support by sector Targeted support Young entrepreneurs Women entrepreneurs Self-employed individuals Canada Emergency Response Benefit (CERB) Deferral of Sales Tax Remittance and Customs Duty Payments until June More time to pay income taxes Indigenous businesses Relief measures for Indigenous businesses Supporting business through the pandemic and into recovery Supporting the Indigenous tourism industry Supporting financial stability Relief for federally regulated pension plan sponsors Launching an Insured Mortgage Purchase Program Bank of Canada's actions Office of the Superintendent of Financial Institutions actions Support for sectors Agriculture and agri-food Keeping workers in the food supply chain safe Increasing credit availability Helping food producers access more PPE and adapt to health protocols Helping producers faced with additional costs incurred by COVID-19 Increasing the Canadian Dairy Commission borrowing limit Helping redistribute existing and unsold inventories Increasing interim payments from 50% to 75% through AgriStability Expanding AgriInsurance to include labour shortage Additional support for your business Aquaculture and fisheries Keeping workers in the food supply chain safe Increasing credit availability Assisting the fish and seafood processing sector Fish Harvester Grant Benefit Fish Harvester Grant Business Changes to EI for self-employed fish harvesters and sharespersons Additional support for your business Cultural, heritage and sport Emergency Support Fund for Cultural, Heritage and Sport Organizations Waiving payments for Part I licence fees Additional support for your business Air transportation Continuing the supply of essential goods and services to remote and fly-in communities Waiving ground lease rents Additional support for your business Tourism Deferring payments on commercial leases and licenses of occupation Additional support for your business Energy Cleaning up orphan and inactive oil and gas wells Launching the Emissions Reduction Fund Additional support for your business Academic and research Providing wage support for universities and health research institutes Covering eligible costs to maintain research activities Infrastructure Funding for communities Organizations helping Canadians Services to those in need Helping vulnerable Canadians Improving access to essential food support Seniors Supporting the delivery of items and personal outreach Providing immediate and essential services to seniors People who need it most Supporting people experiencing homelessness Supporting women and children fleeing violence Providing youth with mental health support Supporting public health efforts through the Canadian Red Cross People with disabilities Additional support for your organization Providing resources to improve workplace accessibility and access to jobs Investing in projects through the Accessible Technology Program About COVID-19 E-mail updates on COVID-19 Current confirmed number of COVID-19 cases in Canada More details about the cases reported in Canada What is COVID-19? How does it spread? Where can I get information specific to my province or territory? How governments are working together How can I make a difference in Canada’s COVID-19 response efforts? Resources for parents and children Resources for youth, students and young adults Resources for seniors and their caregivers Resources for Indigenous communities People with disabilities Report a problem or mistake on this page Please select all that apply: A link, button or video is not working It has a spelling mistake Information is missing Information is outdated or wrong Login error when trying to access an account (e.g. My Service Canada Account) GC Key access SecureKey Concierge (Banking Credential) access Personal Access Code (PAC) problems or EI Access Code (AC) problems Social Insurance Number (SIN) validation problems Other login error not in this list I can't find what I'm looking for Other issue not in this list Submit Thank you for your help! You will not receive a reply. For enquiries, contact us. Date modified: 2020-07-31 About government Contact us Departments and agencies Public service and military News Treaties, laws and regulations Government-wide reporting Prime Minister About government Open government About this site Social media Mobile applications About Canada.ca Terms and conditions Privacy Top of page   \n",
              "\n",
              "                                                                                                                                                                                                                                                                                                                                                                                                                                                                                                                                                                                                                                                                                                                                                                                                                                                                                                                                                                                                                                                                                                                                                                                                                                                                                                                                                                                                                                                                                                                                                                                                                                                                                                                                                                                                                                                                                                                                                                                                                                                                                                                                                                                                                                                                                                                                                                                                                                                                                                                                                                                                                                                                                                                                                                                                                                                                                                                                                                                                                                                                                                                                                                                                                                                                                                                                                                                                                                                                                                                                                                                                                                                                                                                                                                                                                                                                                                                                                                                                                                                                                                                                                                                                                                                                                                                                                                                                                                                                                                                                                                                                                                                                                                                                                                                                                                                                                                                                                                                                                                                                                                                                                                                                                                                                                                                                                                                                                                                                                                                                                                                                                                                                                                                                                                                                                                                                                                                                                                                                                                                                                                                                                                                                                                                                                                                                                                                                                                                                                                                                                                                                                                                                                                                                                                                                                                                                                                                                                                                                                                                                                                                                                                                                                                                                                                                                                                                                                                                                                                                                                                                                                                                                                                                                                                                                                                                                                                                                                                                                                                                                                                                                                                                                                                                                                                                                                                                                                                                                                                                                                                                                                                                                                                                                                                                                                                                                                                                                                                                                                                                                                                                                                                                                                                                                                                                                                                                                                                                                                                                                                                                                                                                                                                                                                                                                                                                                                                                                                                                                                                                                                                                                                                                                                                                                                                                                                                                                                                                                                                                                                                                                                                                                                                                                                                                                                                                                                                                                                                                                                                                                                                                                                                                                                                                                                                                                                                                                                                                                                                                                                                                                                                                                                                                                                                                                                                                                                                                                                                                                                                                                                                                                                                                                                                                                                                                                                                                                                                                                                                                                                                                                                                                                                                                                                                                                                                                                                                                                                                                                                                                                                                                                                                                                                                                                                                                                                                                                                                                                                                                                                                                                                                                                                                                                                                                                                                                                                                                                                                                                                                                                                                                                                                                                                                                                                                                                                                                                                                                                                                                                                                                                                                                                                                                                                                                                                                                                                                                                                                                                                                                                                                                                                                                                                                                                                                                                                                                                                                                                                                                                                                                                                                                                                                                                                                                                                                                                                                                                                                                                                                                                                                                                                                                                                                                                                                                                                                                                                                                                                                                                                                                                                                                                                                                                                                                                                                                                                                                                                                                                                                                                                                                                                                                                                                                                                                                                                                                                                                                                                                                                                                                                                                                                                                                                                                                                                                                                                                                                                                                                                                                                                                                                                                                                                                                                                                                                                                                                                                                                  filtered_content  \n",
              "325  Coronavirus disease ( COVID-19 ) outbreak updates , symptoms , prevention , travel , preparation - Canada.ca Skip main content Skip `` government '' Language selection Français fr Search Search Canada.ca Search Menu Main Menu Jobs workplace Immigration citizenship Travel tourism Business industry Benefits Health Taxes Environment natural resources National security defence Culture , history sport Policing , justice emergencies Transport infrastructure Canada world Money finances Science innovation : Canada.ca Coronavirus disease ( COVID-19 ) Coronavirus disease ( COVID-19 ) Coronavirus disease ( COVID-19 ) Want join effort limit spread COVID-19 ? Download COVID Alert Current situation COVID-19 outbreak update Latest announcements Get email updates Epidemiological economic research data Canada ’ response Financial economic support individuals businesses Canada Emergency Student Benefit ( CESB ) Canada Emergency Response Benefit ( CERB ) Canada Emergency Wage Subsidy ( CEWS ) health Take self-assessment Symptoms treatment Prevention risks Mental physical wellbeing Non-medical masks Quarantine ( self-isolate ) isolate Limiting spread Reopening community Managing business Personal protective equipment medical supplies Government guidance Vaccines drugs Testing Travel immigration Travel , quarantine borders Canada-U.S. border Global travel advisory Assistance abroad Immigration citizenship help make difference Mobilizing industry provide medical supplies Focus Health professionals Health product industry Food industry Seniors Veterans Indigenous communities Parents children Youth , students young adults Government Canada employees COVID-19 Canada August 13 , 2020 , 7:00 p.m. EDT Number people tested 4,635,105 Total cases 121,234 Active cases 4,666 Recovered 107,553 Deaths 9,015 Provincial territorial case numbers Features Digital tools COVID-19 applications interactive tools help stay informed Awareness resources Printable information videos , resources available multiple languages Report scams misleading information Known scams , frauds , report . COVID-19 Virtual Assistant question ? Start ! COVID-19 information need ? Health safety Income support Additional economic financial support COVID-19 Choose topic Prevention risks Symptoms treatment Reduce COVID-19 community care mental physical health ? Drug medical device supply monitoring Travel restrictions , exemptions advice clinical trial sponsors Go previous question type support interested ? Individuals Businesses Sectors Organizations helping Canadians Go previous question Choose option E-mail updates COVID-19 Current confirmed number COVID-19 cases Canada details cases reported Canada COVID-19 ? spread ? get information specific province territory ? governments working together make difference Canada ’ COVID-19 response efforts ? Resources parents children Resources youth , students young adults Resources seniors caregivers Resources Indigenous communities People disabilities Go previous question Choose option Get list benefits support tailored Canada Emergency Response Benefit ( CERB ) CERB : Questions Answers Go previous question Choose option risk getting COVID-19 Canada ? Difference quarantine vs isolate Physical distancing helps minimize COVID-19 go safely COVID-19 pandemic ? Surface contamination people risk severe outcomes ? Pregnancy risks related COVID-19 COVID-19 transmitted food ? pet animals get sick virus ? Hygiene Wearing masks COVID-19 spread swimming lakes pools ? COVID-19 spread sex ? Go previous question Choose option Self-assessment tool help determine symptoms require care symptoms ? long symptoms take appear ? Treatment ? call doctor ? Go previous question Choose option communities , including child youth settings outdoor spaces care person COVID-19 home ? Public health measures prevent reduce spread COVID-19 workplace gatherings still allowed take place ? Go previous question Choose option Exemptions Canadians currently able travel U.S. ? Travellers arriving Canada Avoid non-essential travel Avoid travel cruise ships Registration Canadians Abroad service Check exposed recent travel travel essential reasons . reduce risk infection ? Canadian travelling abroad need support . contact ? traveller trying return home Canada . get financial support abroad ? Go previous question Choose option Compassionate exemptions leave Canada 14-day mandatory quarantine ? negative test COVID-19 . still need quarantine ? recovered COVID-19 . still need quarantine ? essential worker provincial legislation . also exempt federal emergency orders ? Go previous question type individual support interested ? Individuals families People disabilities Post-secondary students recent graduates Seniors Indigenous peoples Go previous question type business support interested ? Avoiding layoffs , rehiring employees creating new jobs Taxes tariffs Financial support , loans access credit Targeted support Self-employed individuals Indigenous businesses Supporting financial stability Go previous question type sector support interested ? Agriculture agri-food Aquaculture fisheries Cultural , heritage sport Air transportation Tourism Energy Academic research Infrastructure Go previous question Would like learn : Services need Seniors People need People disabilities Go previous question Would like learn : Canada Emergency Response Benefit ( CERB ) Increasing Canada Child Benefit Extra time file income tax returns Mortgage payment deferral Temporary wage top-up low-income essential workers Special Goods Services Tax credit payment Go previous question Would like learn : Special one-time tax-free payment certified holders Disability Tax Credit Go previous question Would like learn : Supporting Indigenous communities Making personal hygiene products nutritious food affordable Providing support Indigenous post-secondary students Funding additional health care resources Indigenous communities Boosting On-Reserve Income Assistance Program New shelters protect support Indigenous women children fleeing violence Go previous question Would like learn : Providing one-time tax-free payment Old Age Security Guaranteed Income Supplement Temporarily extending Guaranteed Income Supplement Allowance payments Reduced minimum withdrawals Registered Retirement Income Funds Go previous question Would like learn : Canada Emergency Student Benefit ( CESB ) Canada Student Service Grant ( CSSG ) Helping student loan borrowers Supporting student researchers post-doctoral fellows Supporting international students working essential service Go previous question Would like learn : Canada Emergency Wage Subsidy ( CEWS ) Temporary 10 % Wage Subsidy Extending Work-Sharing program Creating new jobs opportunities youth Go previous question Would like learn : time pay income taxes Deferral Sales Tax Remittance Customs Duty Payments June Waiving tariffs certain medical goods Go previous question Would like learn : Canada Emergency Business Account ( CEBA ) interest-free loans Loan Guarantee Small Medium-Sized Enterprises Co-Lending Program Small Medium-Sized Enterprises Regional Relief Recovery Fund ( RRRF ) Canada Emergency Commercial Rent Assistance ( CECRA ) Mid-Market Financing Program Mid-Market Guarantee Financing Program Businesses territories Large Employer Emergency Financing Facility ( LEEFF ) Industrial Research Assistance Program ( IRAP ) early-stage businesses Additional support sector Go previous question Would like learn : Canada Emergency Response Benefit ( CERB ) Deferral Sales Tax Remittance Customs Duty Payments June time pay income taxes Go previous question Would like learn : Relief measures Indigenous businesses Supporting business pandemic recovery Supporting Indigenous tourism industry Go previous question Would like learn : Relief federally regulated pension plan sponsors Launching Insured Mortgage Purchase Program Bank Canada 's actions Office Superintendent Financial Institutions actions Go previous question Would like learn : Young entrepreneurs Women entrepreneurs Go previous question Would like learn : Keeping workers food supply chain safe Increasing credit availability Helping food producers access PPE adapt health protocols Helping producers faced additional costs incurred COVID-19 Increasing Canadian Dairy Commission borrowing limit Helping redistribute existing unsold inventories Increasing interim payments 50 % 75 % AgriStability Expanding AgriInsurance include labour shortage Additional support business Go previous question Would like learn : Emergency Support Fund Cultural , Heritage Sport Organizations Waiving payments Part licence fees Additional support business Go previous question Would like learn : Continuing supply essential goods services remote fly-in communities Waiving ground lease rents Additional support business Go previous question Would like learn : Cleaning orphan inactive oil gas wells Launching Emissions Reduction Fund Additional support business Go previous question Would like learn : Keeping workers food supply chain safe Increasing credit availability Assisting fish seafood processing sector Fish Harvester Grant Benefit Fish Harvester Grant Business Changes EI self-employed fish harvesters sharespersons Additional support business Go previous question Would like learn : Providing wage support universities health research institutes Covering eligible costs maintain research activities Go previous question Would like learn : Funding communities Go previous question Would like learn : Deferring payments commercial leases licenses occupation Additional support business Go previous question Would like learn : Helping vulnerable Canadians Improving access essential food support Go previous question Would like learn : Supporting delivery items personal outreach Providing immediate essential services seniors Go previous question Would like learn : Supporting people experiencing homelessness Supporting women children fleeing violence Providing youth mental health support Supporting public health efforts Canadian Red Cross Go previous question Would like learn : Additional support organization Providing resources improve workplace accessibility access jobs Investing projects Accessible Technology Program Go previous question Thank ! found page may help . Search COVID-19 information need ? Health safety Prevention risks risk getting COVID-19 Canada ? Difference quarantine vs isolate Physical distancing helps minimize COVID-19 go safely COVID-19 pandemic ? Surface contamination people risk severe outcomes ? Pregnancy risks related COVID-19 COVID-19 transmitted food ? pet animals get sick virus ? Hygiene Wearing masks COVID-19 spread swimming lakes pools ? COVID-19 spread sex ? Symptoms treatment Self-assessment tool help determine symptoms require care symptoms ? long symptoms take appear ? Treatment ? call doctor ? Reduce COVID-19 community communities , including child youth settings outdoor spaces care person COVID-19 home ? Public health measures prevent reduce spread COVID-19 workplace gatherings still allowed take place ? care mental physical health ? Drug medical device supply monitoring Travel restrictions , exemptions advice Exemptions Compassionate exemptions leave Canada 14-day mandatory quarantine ? negative test COVID-19 . still need quarantine ? recovered COVID-19 . still need quarantine ? essential worker provincial legislation . also exempt federal emergency orders ? Canadians currently able travel U.S. ? Travellers arriving Canada Avoid non-essential travel Avoid travel cruise ships Registration Canadians Abroad service Check exposed recent travel travel essential reasons . reduce risk infection ? Canadian travelling abroad need support . contact ? traveller trying return home Canada . get financial support abroad ? clinical trial sponsors Income support Get list benefits support tailored Canada Emergency Response Benefit ( CERB ) CERB : Questions Answers Additional economic financial support Individuals Individuals families Canada Emergency Response Benefit ( CERB ) Increasing Canada Child Benefit Extra time file income tax returns Mortgage payment deferral Temporary wage top-up low-income essential workers Special Goods Services Tax credit payment People disabilities Special one-time tax-free payment certified holders Disability Tax Credit Post-secondary students recent graduates Canada Emergency Student Benefit ( CESB ) Canada Student Service Grant ( CSSG ) Helping student loan borrowers Supporting student researchers post-doctoral fellows Supporting international students working essential service Seniors Providing one-time tax-free payment Old Age Security Guaranteed Income Supplement Temporarily extending Guaranteed Income Supplement Allowance payments Reduced minimum withdrawals Registered Retirement Income Funds Indigenous peoples Supporting Indigenous communities Making personal hygiene products nutritious food affordable Providing support Indigenous post-secondary students Funding additional health care resources Indigenous communities Boosting On-Reserve Income Assistance Program New shelters protect support Indigenous women children fleeing violence Support businesses Avoiding layoffs , rehiring employees creating new jobs Canada Emergency Wage Subsidy ( CEWS ) Temporary 10 % Wage Subsidy Extending Work-Sharing program Creating new jobs opportunities youth Taxes tariffs time pay income taxes Deferral Sales Tax Remittance Customs Duty Payments June Waiving tariffs certain medical goods Financial support , loans access credit Canada Emergency Business Account ( CEBA ) interest-free loans Loan Guarantee Small Medium-Sized Enterprises Co-Lending Program Small Medium-Sized Enterprises Regional Relief Recovery Fund ( RRRF ) Canada Emergency Commercial Rent Assistance ( CECRA ) Mid-Market Financing Program Mid-Market Guarantee Financing Program Businesses territories Large Employer Emergency Financing Facility ( LEEFF ) Industrial Research Assistance Program ( IRAP ) early-stage businesses Additional support sector Targeted support Young entrepreneurs Women entrepreneurs Self-employed individuals Canada Emergency Response Benefit ( CERB ) Deferral Sales Tax Remittance Customs Duty Payments June time pay income taxes Indigenous businesses Relief measures Indigenous businesses Supporting business pandemic recovery Supporting Indigenous tourism industry Supporting financial stability Relief federally regulated pension plan sponsors Launching Insured Mortgage Purchase Program Bank Canada 's actions Office Superintendent Financial Institutions actions Support sectors Agriculture agri-food Keeping workers food supply chain safe Increasing credit availability Helping food producers access PPE adapt health protocols Helping producers faced additional costs incurred COVID-19 Increasing Canadian Dairy Commission borrowing limit Helping redistribute existing unsold inventories Increasing interim payments 50 % 75 % AgriStability Expanding AgriInsurance include labour shortage Additional support business Aquaculture fisheries Keeping workers food supply chain safe Increasing credit availability Assisting fish seafood processing sector Fish Harvester Grant Benefit Fish Harvester Grant Business Changes EI self-employed fish harvesters sharespersons Additional support business Cultural , heritage sport Emergency Support Fund Cultural , Heritage Sport Organizations Waiving payments Part licence fees Additional support business Air transportation Continuing supply essential goods services remote fly-in communities Waiving ground lease rents Additional support business Tourism Deferring payments commercial leases licenses occupation Additional support business Energy Cleaning orphan inactive oil gas wells Launching Emissions Reduction Fund Additional support business Academic research Providing wage support universities health research institutes Covering eligible costs maintain research activities Infrastructure Funding communities Organizations helping Canadians Services need Helping vulnerable Canadians Improving access essential food support Seniors Supporting delivery items personal outreach Providing immediate essential services seniors People need Supporting people experiencing homelessness Supporting women children fleeing violence Providing youth mental health support Supporting public health efforts Canadian Red Cross People disabilities Additional support organization Providing resources improve workplace accessibility access jobs Investing projects Accessible Technology Program COVID-19 E-mail updates COVID-19 Current confirmed number COVID-19 cases Canada details cases reported Canada COVID-19 ? spread ? get information specific province territory ? governments working together make difference Canada ’ COVID-19 response efforts ? Resources parents children Resources youth , students young adults Resources seniors caregivers Resources Indigenous communities People disabilities Report problem mistake page Please select apply : link , button video working spelling mistake Information missing Information outdated wrong Login error trying access account ( e.g . Service Canada Account ) GC Key access SecureKey Concierge ( Banking Credential ) access Personal Access Code ( PAC ) problems EI Access Code ( AC ) problems Social Insurance Number ( SIN ) validation problems login error list ca n't find 'm looking issue list Submit Thank help ! receive reply . enquiries , contact us . Date modified : 2020-07-31 government Contact us Departments agencies Public service military News Treaties , laws regulations Government-wide reporting Prime Minister government Open government site Social media Mobile applications Canada.ca Terms conditions Privacy Top page  "
            ]
          },
          "metadata": {},
          "execution_count": 11
        }
      ]
    },
    {
      "cell_type": "markdown",
      "metadata": {
        "id": "rvMsNLF1FUFl"
      },
      "source": [
        "##Most Common Words\n",
        "The top 20 most common words across all articles after removing all stopwords and punctuations."
      ]
    },
    {
      "cell_type": "code",
      "metadata": {
        "colab": {
          "base_uri": "https://localhost:8080/",
          "height": 460
        },
        "id": "nTw2Evk7I-5E",
        "outputId": "a38d0b47-f326-4d40-e95c-62742a62d578"
      },
      "source": [
        "from collections import Counter\n",
        "import regex as re\n",
        "\n",
        "most_common_words = web_page_text\n",
        "most_common_words['filtered_content'] = most_common_words['filtered_content'].str.replace('[^\\w\\s]','')\n",
        "\n",
        "most_common_words['words'] = most_common_words['filtered_content'].apply(lambda x:str(x.lower()).split())\n",
        "top = Counter([item for sublist in most_common_words['words'] for item in sublist])\n",
        "temp = pd.DataFrame(top.most_common(20))\n",
        "temp.columns = ['common_words','count']\n",
        "temp.style.background_gradient(cmap='Blues')"
      ],
      "execution_count": null,
      "outputs": [
        {
          "output_type": "execute_result",
          "data": {
            "text/html": [
              "<style  type=\"text/css\" >\n",
              "#T_c58ed582_249b_11ec_ba21_0242ac1c0002row0_col1{\n",
              "            background-color:  #08306b;\n",
              "            color:  #f1f1f1;\n",
              "        }#T_c58ed582_249b_11ec_ba21_0242ac1c0002row1_col1{\n",
              "            background-color:  #4493c7;\n",
              "            color:  #000000;\n",
              "        }#T_c58ed582_249b_11ec_ba21_0242ac1c0002row2_col1{\n",
              "            background-color:  #57a0ce;\n",
              "            color:  #000000;\n",
              "        }#T_c58ed582_249b_11ec_ba21_0242ac1c0002row3_col1{\n",
              "            background-color:  #d2e3f3;\n",
              "            color:  #000000;\n",
              "        }#T_c58ed582_249b_11ec_ba21_0242ac1c0002row4_col1{\n",
              "            background-color:  #d9e7f5;\n",
              "            color:  #000000;\n",
              "        }#T_c58ed582_249b_11ec_ba21_0242ac1c0002row5_col1{\n",
              "            background-color:  #ddeaf7;\n",
              "            color:  #000000;\n",
              "        }#T_c58ed582_249b_11ec_ba21_0242ac1c0002row6_col1{\n",
              "            background-color:  #deebf7;\n",
              "            color:  #000000;\n",
              "        }#T_c58ed582_249b_11ec_ba21_0242ac1c0002row7_col1{\n",
              "            background-color:  #e4eff9;\n",
              "            color:  #000000;\n",
              "        }#T_c58ed582_249b_11ec_ba21_0242ac1c0002row8_col1{\n",
              "            background-color:  #e9f2fa;\n",
              "            color:  #000000;\n",
              "        }#T_c58ed582_249b_11ec_ba21_0242ac1c0002row9_col1{\n",
              "            background-color:  #eaf3fb;\n",
              "            color:  #000000;\n",
              "        }#T_c58ed582_249b_11ec_ba21_0242ac1c0002row10_col1{\n",
              "            background-color:  #ebf3fb;\n",
              "            color:  #000000;\n",
              "        }#T_c58ed582_249b_11ec_ba21_0242ac1c0002row11_col1{\n",
              "            background-color:  #edf4fc;\n",
              "            color:  #000000;\n",
              "        }#T_c58ed582_249b_11ec_ba21_0242ac1c0002row12_col1{\n",
              "            background-color:  #eff6fc;\n",
              "            color:  #000000;\n",
              "        }#T_c58ed582_249b_11ec_ba21_0242ac1c0002row13_col1{\n",
              "            background-color:  #f0f6fd;\n",
              "            color:  #000000;\n",
              "        }#T_c58ed582_249b_11ec_ba21_0242ac1c0002row14_col1{\n",
              "            background-color:  #f2f7fd;\n",
              "            color:  #000000;\n",
              "        }#T_c58ed582_249b_11ec_ba21_0242ac1c0002row15_col1{\n",
              "            background-color:  #f5f9fe;\n",
              "            color:  #000000;\n",
              "        }#T_c58ed582_249b_11ec_ba21_0242ac1c0002row16_col1,#T_c58ed582_249b_11ec_ba21_0242ac1c0002row17_col1{\n",
              "            background-color:  #f5fafe;\n",
              "            color:  #000000;\n",
              "        }#T_c58ed582_249b_11ec_ba21_0242ac1c0002row18_col1,#T_c58ed582_249b_11ec_ba21_0242ac1c0002row19_col1{\n",
              "            background-color:  #f7fbff;\n",
              "            color:  #000000;\n",
              "        }</style><table id=\"T_c58ed582_249b_11ec_ba21_0242ac1c0002\" ><thead>    <tr>        <th class=\"blank level0\" ></th>        <th class=\"col_heading level0 col0\" >common_words</th>        <th class=\"col_heading level0 col1\" >count</th>    </tr></thead><tbody>\n",
              "                <tr>\n",
              "                        <th id=\"T_c58ed582_249b_11ec_ba21_0242ac1c0002level0_row0\" class=\"row_heading level0 row0\" >0</th>\n",
              "                        <td id=\"T_c58ed582_249b_11ec_ba21_0242ac1c0002row0_col0\" class=\"data row0 col0\" >canada</td>\n",
              "                        <td id=\"T_c58ed582_249b_11ec_ba21_0242ac1c0002row0_col1\" class=\"data row0 col1\" >55961</td>\n",
              "            </tr>\n",
              "            <tr>\n",
              "                        <th id=\"T_c58ed582_249b_11ec_ba21_0242ac1c0002level0_row1\" class=\"row_heading level0 row1\" >1</th>\n",
              "                        <td id=\"T_c58ed582_249b_11ec_ba21_0242ac1c0002row1_col0\" class=\"data row1 col0\" >covid19</td>\n",
              "                        <td id=\"T_c58ed582_249b_11ec_ba21_0242ac1c0002row1_col1\" class=\"data row1 col1\" >38354</td>\n",
              "            </tr>\n",
              "            <tr>\n",
              "                        <th id=\"T_c58ed582_249b_11ec_ba21_0242ac1c0002level0_row2\" class=\"row_heading level0 row2\" >2</th>\n",
              "                        <td id=\"T_c58ed582_249b_11ec_ba21_0242ac1c0002row2_col0\" class=\"data row2 col0\" >support</td>\n",
              "                        <td id=\"T_c58ed582_249b_11ec_ba21_0242ac1c0002row2_col1\" class=\"data row2 col1\" >35687</td>\n",
              "            </tr>\n",
              "            <tr>\n",
              "                        <th id=\"T_c58ed582_249b_11ec_ba21_0242ac1c0002level0_row3\" class=\"row_heading level0 row3\" >3</th>\n",
              "                        <td id=\"T_c58ed582_249b_11ec_ba21_0242ac1c0002row3_col0\" class=\"data row3 col0\" >health</td>\n",
              "                        <td id=\"T_c58ed582_249b_11ec_ba21_0242ac1c0002row3_col1\" class=\"data row3 col1\" >18563</td>\n",
              "            </tr>\n",
              "            <tr>\n",
              "                        <th id=\"T_c58ed582_249b_11ec_ba21_0242ac1c0002level0_row4\" class=\"row_heading level0 row4\" >4</th>\n",
              "                        <td id=\"T_c58ed582_249b_11ec_ba21_0242ac1c0002row4_col0\" class=\"data row4 col0\" >go</td>\n",
              "                        <td id=\"T_c58ed582_249b_11ec_ba21_0242ac1c0002row4_col1\" class=\"data row4 col1\" >16982</td>\n",
              "            </tr>\n",
              "            <tr>\n",
              "                        <th id=\"T_c58ed582_249b_11ec_ba21_0242ac1c0002level0_row5\" class=\"row_heading level0 row5\" >5</th>\n",
              "                        <td id=\"T_c58ed582_249b_11ec_ba21_0242ac1c0002row5_col0\" class=\"data row5 col0\" >question</td>\n",
              "                        <td id=\"T_c58ed582_249b_11ec_ba21_0242ac1c0002row5_col1\" class=\"data row5 col1\" >16031</td>\n",
              "            </tr>\n",
              "            <tr>\n",
              "                        <th id=\"T_c58ed582_249b_11ec_ba21_0242ac1c0002level0_row6\" class=\"row_heading level0 row6\" >6</th>\n",
              "                        <td id=\"T_c58ed582_249b_11ec_ba21_0242ac1c0002row6_col0\" class=\"data row6 col0\" >previous</td>\n",
              "                        <td id=\"T_c58ed582_249b_11ec_ba21_0242ac1c0002row6_col1\" class=\"data row6 col1\" >15803</td>\n",
              "            </tr>\n",
              "            <tr>\n",
              "                        <th id=\"T_c58ed582_249b_11ec_ba21_0242ac1c0002level0_row7\" class=\"row_heading level0 row7\" >7</th>\n",
              "                        <td id=\"T_c58ed582_249b_11ec_ba21_0242ac1c0002row7_col0\" class=\"data row7 col0\" >learn</td>\n",
              "                        <td id=\"T_c58ed582_249b_11ec_ba21_0242ac1c0002row7_col1\" class=\"data row7 col1\" >14280</td>\n",
              "            </tr>\n",
              "            <tr>\n",
              "                        <th id=\"T_c58ed582_249b_11ec_ba21_0242ac1c0002level0_row8\" class=\"row_heading level0 row8\" >8</th>\n",
              "                        <td id=\"T_c58ed582_249b_11ec_ba21_0242ac1c0002row8_col0\" class=\"data row8 col0\" >program</td>\n",
              "                        <td id=\"T_c58ed582_249b_11ec_ba21_0242ac1c0002row8_col1\" class=\"data row8 col1\" >13295</td>\n",
              "            </tr>\n",
              "            <tr>\n",
              "                        <th id=\"T_c58ed582_249b_11ec_ba21_0242ac1c0002level0_row9\" class=\"row_heading level0 row9\" >9</th>\n",
              "                        <td id=\"T_c58ed582_249b_11ec_ba21_0242ac1c0002row9_col0\" class=\"data row9 col0\" >government</td>\n",
              "                        <td id=\"T_c58ed582_249b_11ec_ba21_0242ac1c0002row9_col1\" class=\"data row9 col1\" >12932</td>\n",
              "            </tr>\n",
              "            <tr>\n",
              "                        <th id=\"T_c58ed582_249b_11ec_ba21_0242ac1c0002level0_row10\" class=\"row_heading level0 row10\" >10</th>\n",
              "                        <td id=\"T_c58ed582_249b_11ec_ba21_0242ac1c0002row10_col0\" class=\"data row10 col0\" >business</td>\n",
              "                        <td id=\"T_c58ed582_249b_11ec_ba21_0242ac1c0002row10_col1\" class=\"data row10 col1\" >12639</td>\n",
              "            </tr>\n",
              "            <tr>\n",
              "                        <th id=\"T_c58ed582_249b_11ec_ba21_0242ac1c0002level0_row11\" class=\"row_heading level0 row11\" >11</th>\n",
              "                        <td id=\"T_c58ed582_249b_11ec_ba21_0242ac1c0002row11_col0\" class=\"data row11 col0\" >access</td>\n",
              "                        <td id=\"T_c58ed582_249b_11ec_ba21_0242ac1c0002row11_col1\" class=\"data row11 col1\" >12402</td>\n",
              "            </tr>\n",
              "            <tr>\n",
              "                        <th id=\"T_c58ed582_249b_11ec_ba21_0242ac1c0002level0_row12\" class=\"row_heading level0 row12\" >12</th>\n",
              "                        <td id=\"T_c58ed582_249b_11ec_ba21_0242ac1c0002row12_col0\" class=\"data row12 col0\" >would</td>\n",
              "                        <td id=\"T_c58ed582_249b_11ec_ba21_0242ac1c0002row12_col1\" class=\"data row12 col1\" >11859</td>\n",
              "            </tr>\n",
              "            <tr>\n",
              "                        <th id=\"T_c58ed582_249b_11ec_ba21_0242ac1c0002level0_row13\" class=\"row_heading level0 row13\" >13</th>\n",
              "                        <td id=\"T_c58ed582_249b_11ec_ba21_0242ac1c0002row13_col0\" class=\"data row13 col0\" >indigenous</td>\n",
              "                        <td id=\"T_c58ed582_249b_11ec_ba21_0242ac1c0002row13_col1\" class=\"data row13 col1\" >11679</td>\n",
              "            </tr>\n",
              "            <tr>\n",
              "                        <th id=\"T_c58ed582_249b_11ec_ba21_0242ac1c0002level0_row14\" class=\"row_heading level0 row14\" >14</th>\n",
              "                        <td id=\"T_c58ed582_249b_11ec_ba21_0242ac1c0002row14_col0\" class=\"data row14 col0\" >businesses</td>\n",
              "                        <td id=\"T_c58ed582_249b_11ec_ba21_0242ac1c0002row14_col1\" class=\"data row14 col1\" >11320</td>\n",
              "            </tr>\n",
              "            <tr>\n",
              "                        <th id=\"T_c58ed582_249b_11ec_ba21_0242ac1c0002level0_row15\" class=\"row_heading level0 row15\" >15</th>\n",
              "                        <td id=\"T_c58ed582_249b_11ec_ba21_0242ac1c0002row15_col0\" class=\"data row15 col0\" >additional</td>\n",
              "                        <td id=\"T_c58ed582_249b_11ec_ba21_0242ac1c0002row15_col1\" class=\"data row15 col1\" >10639</td>\n",
              "            </tr>\n",
              "            <tr>\n",
              "                        <th id=\"T_c58ed582_249b_11ec_ba21_0242ac1c0002level0_row16\" class=\"row_heading level0 row16\" >16</th>\n",
              "                        <td id=\"T_c58ed582_249b_11ec_ba21_0242ac1c0002row16_col0\" class=\"data row16 col0\" >benefit</td>\n",
              "                        <td id=\"T_c58ed582_249b_11ec_ba21_0242ac1c0002row16_col1\" class=\"data row16 col1\" >10310</td>\n",
              "            </tr>\n",
              "            <tr>\n",
              "                        <th id=\"T_c58ed582_249b_11ec_ba21_0242ac1c0002level0_row17\" class=\"row_heading level0 row17\" >17</th>\n",
              "                        <td id=\"T_c58ed582_249b_11ec_ba21_0242ac1c0002row17_col0\" class=\"data row17 col0\" >emergency</td>\n",
              "                        <td id=\"T_c58ed582_249b_11ec_ba21_0242ac1c0002row17_col1\" class=\"data row17 col1\" >10293</td>\n",
              "            </tr>\n",
              "            <tr>\n",
              "                        <th id=\"T_c58ed582_249b_11ec_ba21_0242ac1c0002level0_row18\" class=\"row_heading level0 row18\" >18</th>\n",
              "                        <td id=\"T_c58ed582_249b_11ec_ba21_0242ac1c0002row18_col0\" class=\"data row18 col0\" >like</td>\n",
              "                        <td id=\"T_c58ed582_249b_11ec_ba21_0242ac1c0002row18_col1\" class=\"data row18 col1\" >10093</td>\n",
              "            </tr>\n",
              "            <tr>\n",
              "                        <th id=\"T_c58ed582_249b_11ec_ba21_0242ac1c0002level0_row19\" class=\"row_heading level0 row19\" >19</th>\n",
              "                        <td id=\"T_c58ed582_249b_11ec_ba21_0242ac1c0002row19_col0\" class=\"data row19 col0\" >travel</td>\n",
              "                        <td id=\"T_c58ed582_249b_11ec_ba21_0242ac1c0002row19_col1\" class=\"data row19 col1\" >9923</td>\n",
              "            </tr>\n",
              "    </tbody></table>"
            ],
            "text/plain": [
              "<pandas.io.formats.style.Styler at 0x7f1860dcf910>"
            ]
          },
          "metadata": {},
          "execution_count": 13
        }
      ]
    },
    {
      "cell_type": "markdown",
      "metadata": {
        "id": "REPjwlsXSYcm"
      },
      "source": [
        "## Calculating the Polarity and Subjectivity for all Article Content\n",
        "\n",
        "Here we are applying TextBlob to find the sentiment of the article's content. <br>\n",
        "* The polarity can range from -1.0 to 1.0 (negative to positive)\n",
        "<br>\n",
        "* The subjectivity can range from 0.0 to 1.0 (objective to subjective)"
      ]
    },
    {
      "cell_type": "code",
      "metadata": {
        "id": "h0ZBnivLRbtV",
        "colab": {
          "base_uri": "https://localhost:8080/",
          "height": 1000
        },
        "outputId": "227e249c-c31e-4687-841a-5c6366508508"
      },
      "source": [
        "#creating a function to obtain the polarity and subjectivity from the content column, using TextBlob\n",
        "def getPolarity(text):\n",
        "  return TextBlob(text).sentiment.polarity\n",
        "\n",
        "def getSubjectivity(text):\n",
        "  return TextBlob(text).sentiment.subjectivity\n",
        "\n",
        "\n",
        "web_page_text['polarity'] = web_page_text['content'].apply(getPolarity)\n",
        "web_page_text['subjectivity'] = web_page_text['content'].apply(getSubjectivity)\n",
        "\n",
        "web_page_text['filtered_polarity'] = web_page_text['filtered_content'].apply(getPolarity)\n",
        "web_page_text['filtered_subjectivity'] = web_page_text['filtered_content'].apply(getSubjectivity)\n",
        "web_page_text.sample(1)"
      ],
      "execution_count": null,
      "outputs": [
        {
          "output_type": "execute_result",
          "data": {
            "text/html": [
              "<div>\n",
              "<style scoped>\n",
              "    .dataframe tbody tr th:only-of-type {\n",
              "        vertical-align: middle;\n",
              "    }\n",
              "\n",
              "    .dataframe tbody tr th {\n",
              "        vertical-align: top;\n",
              "    }\n",
              "\n",
              "    .dataframe thead th {\n",
              "        text-align: right;\n",
              "    }\n",
              "</style>\n",
              "<table border=\"1\" class=\"dataframe\">\n",
              "  <thead>\n",
              "    <tr style=\"text-align: right;\">\n",
              "      <th></th>\n",
              "      <th>crawl_date</th>\n",
              "      <th>domain</th>\n",
              "      <th>url</th>\n",
              "      <th>mime_type_web_server</th>\n",
              "      <th>mime_type_tika</th>\n",
              "      <th>language</th>\n",
              "      <th>content</th>\n",
              "      <th>filtered_content</th>\n",
              "      <th>words</th>\n",
              "      <th>polarity</th>\n",
              "      <th>subjectivity</th>\n",
              "      <th>filtered_polarity</th>\n",
              "      <th>filtered_subjectivity</th>\n",
              "    </tr>\n",
              "  </thead>\n",
              "  <tbody>\n",
              "    <tr>\n",
              "      <th>41</th>\n",
              "      <td>2020-05-16</td>\n",
              "      <td>canada.ca</td>\n",
              "      <td>https://www.canada.ca/en/revenue-agency/services/benefits/emergency-student-benefit.html?utm_source=Structureddata&amp;utm_medium=FAQPage&amp;utm_campaign=COVID-19</td>\n",
              "      <td>text/html</td>\n",
              "      <td>text/html</td>\n",
              "      <td>en</td>\n",
              "      <td>Canada Emergency Student Benefit (CESB) - Canada.ca Skip to main content Skip to \"About this site\" Language selection Français Government of Canada Search Search Canada.ca Search Menu Main Menu Jobs and the workplace Immigration and citizenship Travel and tourism Business and industry Benefits Health Taxes Environment and natural resources National security and defence Culture, history and sport Policing, justice and emergencies Transport and infrastructure Canada and the world Money and finances Science and innovation You are here: Canada.ca Benefits COVID-19 - Emergency benefits Canada Emergency Student Benefit (CESB) The Canada Emergency Student Benefit (CESB) provides financial support to post-secondary students, and recent post-secondary and high school graduates who are unable to find work due to COVID-19. This benefit is for students who do not qualify for the Canada Emergency Response Benefit (CERB) or Employment Insurance (EI). From May to August 2020, the CESB provides a payment to eligible students of: $1,250 For each 4-week period or $2,000 For each 4-week period, if you have dependants or a disability To look for a job: Visit Job Bank By using the Job Bank, you can keep track of your job search activities in one place. Sections Who can apply: Canada Emergency Student Benefit (CESB) Who is eligible for the CESB How much you can get: Canada Emergency Student Benefit (CESB) Payment amounts and dates for CESB eligibility periods Which periods you can apply for: Canada Emergency Student Benefit (CESB) Determine how many CESB eligibility periods you can apply for How to apply: Canada Emergency Student Benefit (CESB) When and how to apply for the CESB Keep getting your payments: Canada Emergency Student Benefit (CESB) Looking for work during COVID-19 and when to re-apply for the CESB Return or repay a payment: Canada Emergency Student Benefit (CESB) When and how to return or repay CESB Contact us about CESB: Canada Emergency Student Benefit (CESB) How to contact the CRA with questions about CESB Report a problem or mistake on this page Please select all that apply: A link, button or video is not working It has a spelling mistake Information is missing Information is outdated or wrong Login error when trying to access an account (e.g. My Service Canada Account) GC Key access SecureKey Concierge (Banking Credential) access Personal Access Code (PAC) problems or EI Access Code (AC) problems Social Insurance Number (SIN) validation problems Other login error not in this list I can't find what I'm looking for Other issue not in this list Submit Thank you for your help! You will not receive a reply. For enquiries, contact us. Date modified: 2020-05-13 About government Contact us Departments and agencies Public service and military News Treaties, laws and regulations Government-wide reporting Prime Minister How government works Open government About this site Social media Mobile applications About Canada.ca Terms and conditions Privacy Top of page</td>\n",
              "      <td>Canada Emergency Student Benefit  CESB   Canadaca Skip main content Skip  site  Language selection Français Government Canada Search Search Canadaca Search Menu Main Menu Jobs workplace Immigration citizenship Travel tourism Business industry Benefits Health Taxes Environment natural resources National security defence Culture  history sport Policing  justice emergencies Transport infrastructure Canada world Money finances Science innovation  Canadaca Benefits COVID19  Emergency benefits Canada Emergency Student Benefit  CESB  Canada Emergency Student Benefit  CESB  provides financial support postsecondary students  recent postsecondary high school graduates unable find work due COVID19  benefit students qualify Canada Emergency Response Benefit  CERB  Employment Insurance  EI   May August 2020  CESB provides payment eligible students   1250 4week period  2000 4week period  dependants disability look job  Visit Job Bank using Job Bank  keep track job search activities one place  Sections apply  Canada Emergency Student Benefit  CESB  eligible CESB much get  Canada Emergency Student Benefit  CESB  Payment amounts dates CESB eligibility periods periods apply  Canada Emergency Student Benefit  CESB  Determine many CESB eligibility periods apply apply  Canada Emergency Student Benefit  CESB  apply CESB Keep getting payments  Canada Emergency Student Benefit  CESB  Looking work COVID19 reapply CESB Return repay payment  Canada Emergency Student Benefit  CESB  return repay CESB Contact us CESB  Canada Emergency Student Benefit  CESB  contact CRA questions CESB Report problem mistake page Please select apply  link  button video working spelling mistake Information missing Information outdated wrong Login error trying access account  eg  Service Canada Account  GC Key access SecureKey Concierge  Banking Credential  access Personal Access Code  PAC  problems EI Access Code  AC  problems Social Insurance Number  SIN  validation problems login error list ca nt find m looking issue list Submit Thank help  receive reply  enquiries  contact us  Date modified  20200513 government Contact us Departments agencies Public service military News Treaties  laws regulations Governmentwide reporting Prime Minister government works Open government site Social media Mobile applications Canadaca Terms conditions Privacy Top page</td>\n",
              "      <td>[canada, emergency, student, benefit, cesb, canadaca, skip, main, content, skip, site, language, selection, français, government, canada, search, search, canadaca, search, menu, main, menu, jobs, workplace, immigration, citizenship, travel, tourism, business, industry, benefits, health, taxes, environment, natural, resources, national, security, defence, culture, history, sport, policing, justice, emergencies, transport, infrastructure, canada, world, money, finances, science, innovation, canadaca, benefits, covid19, emergency, benefits, canada, emergency, student, benefit, cesb, canada, emergency, student, benefit, cesb, provides, financial, support, postsecondary, students, recent, postsecondary, high, school, graduates, unable, find, work, due, covid19, benefit, students, qualify, canada, emergency, response, benefit, cerb, employment, insurance, ei, may, august, 2020, cesb, provides, ...]</td>\n",
              "      <td>-0.010707</td>\n",
              "      <td>0.363696</td>\n",
              "      <td>0.001667</td>\n",
              "      <td>0.362619</td>\n",
              "    </tr>\n",
              "  </tbody>\n",
              "</table>\n",
              "</div>"
            ],
            "text/plain": [
              "   crawl_date     domain  \\\n",
              "41 2020-05-16  canada.ca   \n",
              "\n",
              "                                                                                                                                                            url  \\\n",
              "41  https://www.canada.ca/en/revenue-agency/services/benefits/emergency-student-benefit.html?utm_source=Structureddata&utm_medium=FAQPage&utm_campaign=COVID-19   \n",
              "\n",
              "   mime_type_web_server mime_type_tika language  \\\n",
              "41  text/html            text/html      en        \n",
              "\n",
              "                                                                                                                                                                                                                                                                                                                                                                                                                                                                                                                                                                                                                                                                                                                                                                                                                                                                                                                                                                                                                                                                                                                                                                                                                                                                                                                                                                                                                                                                                                                                                                                                                                                                                                                                                                                                                                                                                                                                                                                                                                                                                                                                                                                                                                                                                                                                                                                                                                                                                                                                                                                                                                                                                                                                                                                                                                                                                                                                                                                                                                                                                                                     content  \\\n",
              "41  Canada Emergency Student Benefit (CESB) - Canada.ca Skip to main content Skip to \"About this site\" Language selection Français Government of Canada Search Search Canada.ca Search Menu Main Menu Jobs and the workplace Immigration and citizenship Travel and tourism Business and industry Benefits Health Taxes Environment and natural resources National security and defence Culture, history and sport Policing, justice and emergencies Transport and infrastructure Canada and the world Money and finances Science and innovation You are here: Canada.ca Benefits COVID-19 - Emergency benefits Canada Emergency Student Benefit (CESB) The Canada Emergency Student Benefit (CESB) provides financial support to post-secondary students, and recent post-secondary and high school graduates who are unable to find work due to COVID-19. This benefit is for students who do not qualify for the Canada Emergency Response Benefit (CERB) or Employment Insurance (EI). From May to August 2020, the CESB provides a payment to eligible students of: $1,250 For each 4-week period or $2,000 For each 4-week period, if you have dependants or a disability To look for a job: Visit Job Bank By using the Job Bank, you can keep track of your job search activities in one place. Sections Who can apply: Canada Emergency Student Benefit (CESB) Who is eligible for the CESB How much you can get: Canada Emergency Student Benefit (CESB) Payment amounts and dates for CESB eligibility periods Which periods you can apply for: Canada Emergency Student Benefit (CESB) Determine how many CESB eligibility periods you can apply for How to apply: Canada Emergency Student Benefit (CESB) When and how to apply for the CESB Keep getting your payments: Canada Emergency Student Benefit (CESB) Looking for work during COVID-19 and when to re-apply for the CESB Return or repay a payment: Canada Emergency Student Benefit (CESB) When and how to return or repay CESB Contact us about CESB: Canada Emergency Student Benefit (CESB) How to contact the CRA with questions about CESB Report a problem or mistake on this page Please select all that apply: A link, button or video is not working It has a spelling mistake Information is missing Information is outdated or wrong Login error when trying to access an account (e.g. My Service Canada Account) GC Key access SecureKey Concierge (Banking Credential) access Personal Access Code (PAC) problems or EI Access Code (AC) problems Social Insurance Number (SIN) validation problems Other login error not in this list I can't find what I'm looking for Other issue not in this list Submit Thank you for your help! You will not receive a reply. For enquiries, contact us. Date modified: 2020-05-13 About government Contact us Departments and agencies Public service and military News Treaties, laws and regulations Government-wide reporting Prime Minister How government works Open government About this site Social media Mobile applications About Canada.ca Terms and conditions Privacy Top of page   \n",
              "\n",
              "                                                                                                                                                                                                                                                                                                                                                                                                                                                                                                                                                                                                                                                                                                                                                                                                                                                                                                                                                                                                                                                                                                                                                                                                                                                                                                                                                                                                                                                                                                                                                                                                                                                                                                                                                                                                                                                                                                                                                                                                                                                                                                                                                                                                                                                                                                                                                                                                                           filtered_content  \\\n",
              "41  Canada Emergency Student Benefit  CESB   Canadaca Skip main content Skip  site  Language selection Français Government Canada Search Search Canadaca Search Menu Main Menu Jobs workplace Immigration citizenship Travel tourism Business industry Benefits Health Taxes Environment natural resources National security defence Culture  history sport Policing  justice emergencies Transport infrastructure Canada world Money finances Science innovation  Canadaca Benefits COVID19  Emergency benefits Canada Emergency Student Benefit  CESB  Canada Emergency Student Benefit  CESB  provides financial support postsecondary students  recent postsecondary high school graduates unable find work due COVID19  benefit students qualify Canada Emergency Response Benefit  CERB  Employment Insurance  EI   May August 2020  CESB provides payment eligible students   1250 4week period  2000 4week period  dependants disability look job  Visit Job Bank using Job Bank  keep track job search activities one place  Sections apply  Canada Emergency Student Benefit  CESB  eligible CESB much get  Canada Emergency Student Benefit  CESB  Payment amounts dates CESB eligibility periods periods apply  Canada Emergency Student Benefit  CESB  Determine many CESB eligibility periods apply apply  Canada Emergency Student Benefit  CESB  apply CESB Keep getting payments  Canada Emergency Student Benefit  CESB  Looking work COVID19 reapply CESB Return repay payment  Canada Emergency Student Benefit  CESB  return repay CESB Contact us CESB  Canada Emergency Student Benefit  CESB  contact CRA questions CESB Report problem mistake page Please select apply  link  button video working spelling mistake Information missing Information outdated wrong Login error trying access account  eg  Service Canada Account  GC Key access SecureKey Concierge  Banking Credential  access Personal Access Code  PAC  problems EI Access Code  AC  problems Social Insurance Number  SIN  validation problems login error list ca nt find m looking issue list Submit Thank help  receive reply  enquiries  contact us  Date modified  20200513 government Contact us Departments agencies Public service military News Treaties  laws regulations Governmentwide reporting Prime Minister government works Open government site Social media Mobile applications Canadaca Terms conditions Privacy Top page   \n",
              "\n",
              "                                                                                                                                                                                                                                                                                                                                                                                                                                                                                                                                                                                                                                                                                                                                                                                                                                                                                                                                        words  \\\n",
              "41  [canada, emergency, student, benefit, cesb, canadaca, skip, main, content, skip, site, language, selection, français, government, canada, search, search, canadaca, search, menu, main, menu, jobs, workplace, immigration, citizenship, travel, tourism, business, industry, benefits, health, taxes, environment, natural, resources, national, security, defence, culture, history, sport, policing, justice, emergencies, transport, infrastructure, canada, world, money, finances, science, innovation, canadaca, benefits, covid19, emergency, benefits, canada, emergency, student, benefit, cesb, canada, emergency, student, benefit, cesb, provides, financial, support, postsecondary, students, recent, postsecondary, high, school, graduates, unable, find, work, due, covid19, benefit, students, qualify, canada, emergency, response, benefit, cerb, employment, insurance, ei, may, august, 2020, cesb, provides, ...]   \n",
              "\n",
              "    polarity  subjectivity  filtered_polarity  filtered_subjectivity  \n",
              "41 -0.010707  0.363696      0.001667           0.362619               "
            ]
          },
          "metadata": {},
          "execution_count": 14
        }
      ]
    },
    {
      "cell_type": "code",
      "metadata": {
        "id": "WNBAy1QET32-",
        "colab": {
          "base_uri": "https://localhost:8080/",
          "height": 445
        },
        "outputId": "8a25a7dd-2c17-455a-b3d9-e30681482b9f"
      },
      "source": [
        "#assigning an adjective to the sentiment calcuations, for the purpose of grouping and not having to manage the different floats\n",
        "def assignPolarity(polarity):\n",
        "  if polarity > 0:\n",
        "    return \"Positive\"\n",
        "  elif polarity == 0:\n",
        "    return \"Neutral\"\n",
        "  else:\n",
        "    return \"Negative\"\n",
        "\n",
        "def assignSubjectivity(subjectivity):\n",
        "  if subjectivity > 0.5:\n",
        "    return \"Subjective\"\n",
        "  elif subjectivity == 0.5:\n",
        "    return \"Neutral\"\n",
        "  else:\n",
        "    return \"Objective\"\n",
        "\n",
        "\n",
        "web_page_text['polarity_type'] = web_page_text['polarity'].apply(assignPolarity)\n",
        "web_page_text['subjectivity_type'] = web_page_text['subjectivity'].apply(assignSubjectivity)\n",
        "\n",
        "web_page_text['filtered_polarity_type'] = web_page_text['filtered_polarity'].apply(assignPolarity)\n",
        "web_page_text['filtered_subjectivity_type'] = web_page_text['filtered_subjectivity'].apply(assignSubjectivity)\n",
        "\n",
        "web_page_sentiment = web_page_text[['crawl_date', 'domain', 'url', 'polarity', 'polarity_type', 'filtered_polarity', 'filtered_polarity_type', \n",
        "                                    'subjectivity', 'subjectivity_type', 'filtered_subjectivity', 'filtered_subjectivity_type']]\n",
        "web_page_sentiment.sample(5)"
      ],
      "execution_count": null,
      "outputs": [
        {
          "output_type": "execute_result",
          "data": {
            "text/html": [
              "<div>\n",
              "<style scoped>\n",
              "    .dataframe tbody tr th:only-of-type {\n",
              "        vertical-align: middle;\n",
              "    }\n",
              "\n",
              "    .dataframe tbody tr th {\n",
              "        vertical-align: top;\n",
              "    }\n",
              "\n",
              "    .dataframe thead th {\n",
              "        text-align: right;\n",
              "    }\n",
              "</style>\n",
              "<table border=\"1\" class=\"dataframe\">\n",
              "  <thead>\n",
              "    <tr style=\"text-align: right;\">\n",
              "      <th></th>\n",
              "      <th>crawl_date</th>\n",
              "      <th>domain</th>\n",
              "      <th>url</th>\n",
              "      <th>polarity</th>\n",
              "      <th>polarity_type</th>\n",
              "      <th>filtered_polarity</th>\n",
              "      <th>filtered_polarity_type</th>\n",
              "      <th>subjectivity</th>\n",
              "      <th>subjectivity_type</th>\n",
              "      <th>filtered_subjectivity</th>\n",
              "      <th>filtered_subjectivity_type</th>\n",
              "    </tr>\n",
              "  </thead>\n",
              "  <tbody>\n",
              "    <tr>\n",
              "      <th>1119</th>\n",
              "      <td>2021-05-28</td>\n",
              "      <td>canada.ca</td>\n",
              "      <td>https://www.canada.ca/en/department-finance/news/2020/03/canadas-covid-19-economic-response-plan-support-for-canadians-and-businesses.html</td>\n",
              "      <td>0.078868</td>\n",
              "      <td>Positive</td>\n",
              "      <td>0.082022</td>\n",
              "      <td>Positive</td>\n",
              "      <td>0.402029</td>\n",
              "      <td>Objective</td>\n",
              "      <td>0.392680</td>\n",
              "      <td>Objective</td>\n",
              "    </tr>\n",
              "    <tr>\n",
              "      <th>850</th>\n",
              "      <td>2021-02-26</td>\n",
              "      <td>canada.ca</td>\n",
              "      <td>https://www.canada.ca/en/department-finance/news/2021/02/department-of-finance-releases-draft-legislation-to-increase-accessibility-of-canada-emergency-wage-subsidy-and-canada-emergency-rent-subsidy.html</td>\n",
              "      <td>0.118750</td>\n",
              "      <td>Positive</td>\n",
              "      <td>0.090000</td>\n",
              "      <td>Positive</td>\n",
              "      <td>0.384146</td>\n",
              "      <td>Objective</td>\n",
              "      <td>0.371429</td>\n",
              "      <td>Objective</td>\n",
              "    </tr>\n",
              "    <tr>\n",
              "      <th>937</th>\n",
              "      <td>2021-03-26</td>\n",
              "      <td>canada.ca</td>\n",
              "      <td>https://www.canada.ca/en/public-health/services/diseases/2019-novel-coronavirus-infection/symptoms.html</td>\n",
              "      <td>0.053623</td>\n",
              "      <td>Positive</td>\n",
              "      <td>-0.001153</td>\n",
              "      <td>Negative</td>\n",
              "      <td>0.359461</td>\n",
              "      <td>Objective</td>\n",
              "      <td>0.332061</td>\n",
              "      <td>Objective</td>\n",
              "    </tr>\n",
              "    <tr>\n",
              "      <th>377</th>\n",
              "      <td>2020-09-04</td>\n",
              "      <td>canada.ca</td>\n",
              "      <td>https://www.canada.ca/en.html</td>\n",
              "      <td>0.038802</td>\n",
              "      <td>Positive</td>\n",
              "      <td>0.023148</td>\n",
              "      <td>Positive</td>\n",
              "      <td>0.331667</td>\n",
              "      <td>Objective</td>\n",
              "      <td>0.319907</td>\n",
              "      <td>Objective</td>\n",
              "    </tr>\n",
              "    <tr>\n",
              "      <th>1101</th>\n",
              "      <td>2021-05-21</td>\n",
              "      <td>canada.ca</td>\n",
              "      <td>https://www.canada.ca/en/health-canada/services/drugs-health-products/covid19-industry/drugs-vaccines-treatments/vaccines.html</td>\n",
              "      <td>0.052778</td>\n",
              "      <td>Positive</td>\n",
              "      <td>0.005000</td>\n",
              "      <td>Positive</td>\n",
              "      <td>0.512037</td>\n",
              "      <td>Subjective</td>\n",
              "      <td>0.522778</td>\n",
              "      <td>Subjective</td>\n",
              "    </tr>\n",
              "  </tbody>\n",
              "</table>\n",
              "</div>"
            ],
            "text/plain": [
              "     crawl_date     domain  \\\n",
              "1119 2021-05-28  canada.ca   \n",
              "850  2021-02-26  canada.ca   \n",
              "937  2021-03-26  canada.ca   \n",
              "377  2020-09-04  canada.ca   \n",
              "1101 2021-05-21  canada.ca   \n",
              "\n",
              "                                                                                                                                                                                                              url  \\\n",
              "1119  https://www.canada.ca/en/department-finance/news/2020/03/canadas-covid-19-economic-response-plan-support-for-canadians-and-businesses.html                                                                    \n",
              "850   https://www.canada.ca/en/department-finance/news/2021/02/department-of-finance-releases-draft-legislation-to-increase-accessibility-of-canada-emergency-wage-subsidy-and-canada-emergency-rent-subsidy.html   \n",
              "937   https://www.canada.ca/en/public-health/services/diseases/2019-novel-coronavirus-infection/symptoms.html                                                                                                       \n",
              "377   https://www.canada.ca/en.html                                                                                                                                                                                 \n",
              "1101  https://www.canada.ca/en/health-canada/services/drugs-health-products/covid19-industry/drugs-vaccines-treatments/vaccines.html                                                                                \n",
              "\n",
              "      polarity polarity_type  filtered_polarity filtered_polarity_type  \\\n",
              "1119  0.078868  Positive      0.082022           Positive                \n",
              "850   0.118750  Positive      0.090000           Positive                \n",
              "937   0.053623  Positive     -0.001153           Negative                \n",
              "377   0.038802  Positive      0.023148           Positive                \n",
              "1101  0.052778  Positive      0.005000           Positive                \n",
              "\n",
              "      subjectivity subjectivity_type  filtered_subjectivity  \\\n",
              "1119  0.402029      Objective         0.392680                \n",
              "850   0.384146      Objective         0.371429                \n",
              "937   0.359461      Objective         0.332061                \n",
              "377   0.331667      Objective         0.319907                \n",
              "1101  0.512037      Subjective        0.522778                \n",
              "\n",
              "     filtered_subjectivity_type  \n",
              "1119  Objective                  \n",
              "850   Objective                  \n",
              "937   Objective                  \n",
              "377   Objective                  \n",
              "1101  Subjective                 "
            ]
          },
          "metadata": {},
          "execution_count": 15
        }
      ]
    },
    {
      "cell_type": "code",
      "metadata": {
        "colab": {
          "base_uri": "https://localhost:8080/",
          "height": 377
        },
        "id": "ATHZj3e1X8_l",
        "outputId": "66a8cd9d-2d07-40e7-edfc-6615a72f6312"
      },
      "source": [
        "def checkPolarities(row):\n",
        "  if row['polarity_type'] == row['filtered_polarity_type']:\n",
        "    return True\n",
        "  else:\n",
        "    return False\n",
        "\n",
        "def checkSubjectivities(row):\n",
        "  if row['subjectivity_type'] == row['filtered_subjectivity_type']:\n",
        "    return True\n",
        "  else:\n",
        "    return False\n",
        "\n",
        "web_page_sentiment['same_polarity'] = web_page_sentiment.apply(checkPolarities, axis=1)\n",
        "web_page_sentiment['same_subjectivity'] = web_page_sentiment.apply(checkSubjectivities, axis=1)\n",
        "web_page_sentiment.sample(5)"
      ],
      "execution_count": null,
      "outputs": [
        {
          "output_type": "execute_result",
          "data": {
            "text/html": [
              "<div>\n",
              "<style scoped>\n",
              "    .dataframe tbody tr th:only-of-type {\n",
              "        vertical-align: middle;\n",
              "    }\n",
              "\n",
              "    .dataframe tbody tr th {\n",
              "        vertical-align: top;\n",
              "    }\n",
              "\n",
              "    .dataframe thead th {\n",
              "        text-align: right;\n",
              "    }\n",
              "</style>\n",
              "<table border=\"1\" class=\"dataframe\">\n",
              "  <thead>\n",
              "    <tr style=\"text-align: right;\">\n",
              "      <th></th>\n",
              "      <th>crawl_date</th>\n",
              "      <th>domain</th>\n",
              "      <th>url</th>\n",
              "      <th>polarity</th>\n",
              "      <th>polarity_type</th>\n",
              "      <th>filtered_polarity</th>\n",
              "      <th>filtered_polarity_type</th>\n",
              "      <th>subjectivity</th>\n",
              "      <th>subjectivity_type</th>\n",
              "      <th>filtered_subjectivity</th>\n",
              "      <th>filtered_subjectivity_type</th>\n",
              "      <th>same_polarity</th>\n",
              "      <th>same_subjectivity</th>\n",
              "    </tr>\n",
              "  </thead>\n",
              "  <tbody>\n",
              "    <tr>\n",
              "      <th>407</th>\n",
              "      <td>2020-09-11</td>\n",
              "      <td>canada.ca</td>\n",
              "      <td>https://www.canada.ca/en/department-finance/news/2020/09/government-announces-extension-of-rent-relief-for-small-businesses.html</td>\n",
              "      <td>-0.028968</td>\n",
              "      <td>Negative</td>\n",
              "      <td>-0.037943</td>\n",
              "      <td>Negative</td>\n",
              "      <td>0.383771</td>\n",
              "      <td>Objective</td>\n",
              "      <td>0.381460</td>\n",
              "      <td>Objective</td>\n",
              "      <td>True</td>\n",
              "      <td>True</td>\n",
              "    </tr>\n",
              "    <tr>\n",
              "      <th>1042</th>\n",
              "      <td>2021-04-23</td>\n",
              "      <td>canada.ca</td>\n",
              "      <td>https://www.canada.ca/en/public-health/services/diseases/2019-novel-coronavirus-infection/prevention-risks.html</td>\n",
              "      <td>0.139132</td>\n",
              "      <td>Positive</td>\n",
              "      <td>0.097388</td>\n",
              "      <td>Positive</td>\n",
              "      <td>0.394879</td>\n",
              "      <td>Objective</td>\n",
              "      <td>0.378228</td>\n",
              "      <td>Objective</td>\n",
              "      <td>True</td>\n",
              "      <td>True</td>\n",
              "    </tr>\n",
              "    <tr>\n",
              "      <th>1324</th>\n",
              "      <td>2021-08-06</td>\n",
              "      <td>canada.ca</td>\n",
              "      <td>https://www.canada.ca/en/news.html</td>\n",
              "      <td>0.060333</td>\n",
              "      <td>Positive</td>\n",
              "      <td>0.048869</td>\n",
              "      <td>Positive</td>\n",
              "      <td>0.238824</td>\n",
              "      <td>Objective</td>\n",
              "      <td>0.225625</td>\n",
              "      <td>Objective</td>\n",
              "      <td>True</td>\n",
              "      <td>True</td>\n",
              "    </tr>\n",
              "    <tr>\n",
              "      <th>104</th>\n",
              "      <td>2020-05-29</td>\n",
              "      <td>canada.ca</td>\n",
              "      <td>https://www.canada.ca/en/public-health/services/diseases/2019-novel-coronavirus-infection.html</td>\n",
              "      <td>0.086148</td>\n",
              "      <td>Positive</td>\n",
              "      <td>0.055612</td>\n",
              "      <td>Positive</td>\n",
              "      <td>0.322710</td>\n",
              "      <td>Objective</td>\n",
              "      <td>0.301880</td>\n",
              "      <td>Objective</td>\n",
              "      <td>True</td>\n",
              "      <td>True</td>\n",
              "    </tr>\n",
              "    <tr>\n",
              "      <th>333</th>\n",
              "      <td>2020-08-21</td>\n",
              "      <td>canada.ca</td>\n",
              "      <td>https://www.canada.ca/en/department-finance/economic-response-plan.html</td>\n",
              "      <td>0.101311</td>\n",
              "      <td>Positive</td>\n",
              "      <td>0.054568</td>\n",
              "      <td>Positive</td>\n",
              "      <td>0.337977</td>\n",
              "      <td>Objective</td>\n",
              "      <td>0.310114</td>\n",
              "      <td>Objective</td>\n",
              "      <td>True</td>\n",
              "      <td>True</td>\n",
              "    </tr>\n",
              "  </tbody>\n",
              "</table>\n",
              "</div>"
            ],
            "text/plain": [
              "     crawl_date     domain  \\\n",
              "407  2020-09-11  canada.ca   \n",
              "1042 2021-04-23  canada.ca   \n",
              "1324 2021-08-06  canada.ca   \n",
              "104  2020-05-29  canada.ca   \n",
              "333  2020-08-21  canada.ca   \n",
              "\n",
              "                                                                                                                                   url  \\\n",
              "407   https://www.canada.ca/en/department-finance/news/2020/09/government-announces-extension-of-rent-relief-for-small-businesses.html   \n",
              "1042  https://www.canada.ca/en/public-health/services/diseases/2019-novel-coronavirus-infection/prevention-risks.html                    \n",
              "1324  https://www.canada.ca/en/news.html                                                                                                 \n",
              "104   https://www.canada.ca/en/public-health/services/diseases/2019-novel-coronavirus-infection.html                                     \n",
              "333   https://www.canada.ca/en/department-finance/economic-response-plan.html                                                            \n",
              "\n",
              "      polarity polarity_type  filtered_polarity filtered_polarity_type  \\\n",
              "407  -0.028968  Negative     -0.037943           Negative                \n",
              "1042  0.139132  Positive      0.097388           Positive                \n",
              "1324  0.060333  Positive      0.048869           Positive                \n",
              "104   0.086148  Positive      0.055612           Positive                \n",
              "333   0.101311  Positive      0.054568           Positive                \n",
              "\n",
              "      subjectivity subjectivity_type  filtered_subjectivity  \\\n",
              "407   0.383771      Objective         0.381460                \n",
              "1042  0.394879      Objective         0.378228                \n",
              "1324  0.238824      Objective         0.225625                \n",
              "104   0.322710      Objective         0.301880                \n",
              "333   0.337977      Objective         0.310114                \n",
              "\n",
              "     filtered_subjectivity_type  same_polarity  same_subjectivity  \n",
              "407   Objective                  True           True               \n",
              "1042  Objective                  True           True               \n",
              "1324  Objective                  True           True               \n",
              "104   Objective                  True           True               \n",
              "333   Objective                  True           True               "
            ]
          },
          "metadata": {},
          "execution_count": 16
        }
      ]
    },
    {
      "cell_type": "code",
      "metadata": {
        "colab": {
          "base_uri": "https://localhost:8080/",
          "height": 151
        },
        "id": "Jnh9_Qy2dUVa",
        "outputId": "f7e25459-4c85-4a64-a1e6-9fcbe214bc1b"
      },
      "source": [
        "differing_with_stopwords = web_page_sentiment[(web_page_sentiment['same_polarity'] == False) | (web_page_sentiment['same_subjectivity'] == False)]\n",
        "differing_with_stopwords.sample(1)"
      ],
      "execution_count": null,
      "outputs": [
        {
          "output_type": "execute_result",
          "data": {
            "text/html": [
              "<div>\n",
              "<style scoped>\n",
              "    .dataframe tbody tr th:only-of-type {\n",
              "        vertical-align: middle;\n",
              "    }\n",
              "\n",
              "    .dataframe tbody tr th {\n",
              "        vertical-align: top;\n",
              "    }\n",
              "\n",
              "    .dataframe thead th {\n",
              "        text-align: right;\n",
              "    }\n",
              "</style>\n",
              "<table border=\"1\" class=\"dataframe\">\n",
              "  <thead>\n",
              "    <tr style=\"text-align: right;\">\n",
              "      <th></th>\n",
              "      <th>crawl_date</th>\n",
              "      <th>domain</th>\n",
              "      <th>url</th>\n",
              "      <th>polarity</th>\n",
              "      <th>polarity_type</th>\n",
              "      <th>filtered_polarity</th>\n",
              "      <th>filtered_polarity_type</th>\n",
              "      <th>subjectivity</th>\n",
              "      <th>subjectivity_type</th>\n",
              "      <th>filtered_subjectivity</th>\n",
              "      <th>filtered_subjectivity_type</th>\n",
              "      <th>same_polarity</th>\n",
              "      <th>same_subjectivity</th>\n",
              "    </tr>\n",
              "  </thead>\n",
              "  <tbody>\n",
              "    <tr>\n",
              "      <th>1079</th>\n",
              "      <td>2021-05-14</td>\n",
              "      <td>canada.ca</td>\n",
              "      <td>https://www.canada.ca/en/public-health/services/diseases/2019-novel-coronavirus-infection/symptoms.html</td>\n",
              "      <td>0.053623</td>\n",
              "      <td>Positive</td>\n",
              "      <td>-0.001153</td>\n",
              "      <td>Negative</td>\n",
              "      <td>0.359829</td>\n",
              "      <td>Objective</td>\n",
              "      <td>0.332494</td>\n",
              "      <td>Objective</td>\n",
              "      <td>False</td>\n",
              "      <td>True</td>\n",
              "    </tr>\n",
              "  </tbody>\n",
              "</table>\n",
              "</div>"
            ],
            "text/plain": [
              "     crawl_date     domain  \\\n",
              "1079 2021-05-14  canada.ca   \n",
              "\n",
              "                                                                                                          url  \\\n",
              "1079  https://www.canada.ca/en/public-health/services/diseases/2019-novel-coronavirus-infection/symptoms.html   \n",
              "\n",
              "      polarity polarity_type  filtered_polarity filtered_polarity_type  \\\n",
              "1079  0.053623  Positive     -0.001153           Negative                \n",
              "\n",
              "      subjectivity subjectivity_type  filtered_subjectivity  \\\n",
              "1079  0.359829      Objective         0.332494                \n",
              "\n",
              "     filtered_subjectivity_type  same_polarity  same_subjectivity  \n",
              "1079  Objective                  False          True               "
            ]
          },
          "metadata": {},
          "execution_count": 17
        }
      ]
    },
    {
      "cell_type": "markdown",
      "metadata": {
        "id": "KVYzUXYycG8Z"
      },
      "source": [
        "##NLC Lexicon Analysis\n",
        "Applying NLC Lexicon to content and returning the top 5 emotions for each crawl date and url"
      ]
    },
    {
      "cell_type": "code",
      "metadata": {
        "colab": {
          "base_uri": "https://localhost:8080/"
        },
        "id": "z8vQTNMEb10u",
        "outputId": "64281ec6-caa2-4aff-b56b-147a20057302"
      },
      "source": [
        "text = ['hate', 'lovely', 'person', 'worst']\n",
        " \n",
        "# Iterate through list\n",
        "for i in range(len(text)):\n",
        " \n",
        "    # Create object\n",
        "    emotion = NRCLex(text[i])\n",
        " \n",
        "    # Classify emotion\n",
        "    print('\\n\\n', text[i], ': ', emotion.top_emotions)"
      ],
      "execution_count": null,
      "outputs": [
        {
          "output_type": "stream",
          "name": "stdout",
          "text": [
            "\n",
            "\n",
            " hate :  [('fear', 0.2), ('anger', 0.2), ('negative', 0.2), ('sadness', 0.2), ('disgust', 0.2)]\n",
            "\n",
            "\n",
            " lovely :  [('trust', 0.16666666666666666), ('surprise', 0.16666666666666666), ('positive', 0.16666666666666666), ('sadness', 0.16666666666666666), ('joy', 0.16666666666666666), ('anticipation', 0.16666666666666666)]\n",
            "\n",
            "\n",
            " person :  [('fear', 0.0), ('anger', 0.0), ('anticip', 0.0), ('trust', 0.0), ('surprise', 0.0), ('positive', 0.0), ('negative', 0.0), ('sadness', 0.0), ('disgust', 0.0), ('joy', 0.0)]\n",
            "\n",
            "\n",
            " worst :  [('fear', 0.0), ('anger', 0.0), ('anticip', 0.0), ('trust', 0.0), ('surprise', 0.0), ('positive', 0.0), ('negative', 0.0), ('sadness', 0.0), ('disgust', 0.0), ('joy', 0.0)]\n"
          ]
        }
      ]
    },
    {
      "cell_type": "markdown",
      "metadata": {
        "id": "5xGOxAQXBbr4"
      },
      "source": [
        "##Mean Sentiment Analysis by crawl_date\n",
        "\n",
        "Calculating the mean polarity and subjectively based on the crawl_date the article"
      ]
    },
    {
      "cell_type": "code",
      "metadata": {
        "id": "Jnylc0s2BqLC"
      },
      "source": [
        "#creating new dataframes for the polarity and subjectivity average of each date\n",
        "mean_polarity_by_date = pd.DataFrame(web_page_sentiment.groupby(web_page_sentiment['crawl_date'])['polarity'].mean())\n",
        "mean_polarity_by_date['polarity type'] = mean_polarity_by_date['polarity'].apply(assignPolarity)\n",
        "mean_polarity_by_date.sample(1)"
      ],
      "execution_count": null,
      "outputs": []
    },
    {
      "cell_type": "code",
      "metadata": {
        "id": "85snX23xB4mR"
      },
      "source": [
        "mean_subjectivity_by_date = pd.DataFrame(web_page_sentiment.groupby(web_page_sentiment['crawl_date'])['subjectivity'].mean())\n",
        "mean_subjectivity_by_date['subjectivity type'] = mean_subjectivity_by_date['subjectivity'].apply(assignSubjectivity)\n",
        "mean_subjectivity_by_date.sample(1)"
      ],
      "execution_count": null,
      "outputs": []
    },
    {
      "cell_type": "code",
      "metadata": {
        "id": "rJl_P5ZUC1us"
      },
      "source": [
        "#note: the polarity and subjectivity are displayed on two separate graphs instead of a double line graph because \n",
        "#the polarity can range from -1.0 to 1.0, while subjectivity can only range from 0.0 to 1.0\n",
        "low_polarity = web_page_sentiment.groupby(web_page_sentiment['crawl_date'])['polarity'].min()\n",
        "high_polarity = web_page_sentiment.groupby(web_page_sentiment['crawl_date'])['polarity'].max()\n",
        "\n",
        "plt.style.use('ggplot')\n",
        "plt.figure(figsize = (20, 5))\n",
        "plt.plot(high_polarity.index, high_polarity, label='High Polarity (Red)')\n",
        "plt.plot(mean_polarity_by_date.index, mean_polarity_by_date['polarity'], label = 'Mean Polarity(Blue)')\n",
        "plt.plot(low_polarity.index, low_polarity, label='Low Polarity (Purple)')\n",
        "plt.title('Polarity CRAWL_DATE Analysis')"
      ],
      "execution_count": null,
      "outputs": []
    },
    {
      "cell_type": "code",
      "metadata": {
        "id": "ZtlOe3wQDFPZ"
      },
      "source": [
        "low_subjectivity = web_page_sentiment.groupby(web_page_sentiment['crawl_date'])['subjectivity'].min()\n",
        "high_subjectivity = web_page_sentiment.groupby(web_page_sentiment['crawl_date'])['subjectivity'].max()\n",
        "\n",
        "plt.style.use('bmh')\n",
        "plt.figure(figsize = (20, 5))\n",
        "plt.plot(high_subjectivity.index, high_subjectivity, label='High Subjectivity (Blue)')\n",
        "plt.plot(mean_subjectivity_by_date.index, mean_subjectivity_by_date['subjectivity'], label='Mean Subjectivity (Red)')\n",
        "plt.plot(low_subjectivity.index, low_subjectivity, label='Low Subjectivity (Purple)')\n",
        "plt.title('Subjectivity CRAWL_DATE Analysis')"
      ],
      "execution_count": null,
      "outputs": []
    },
    {
      "cell_type": "markdown",
      "metadata": {
        "id": "dwKMTh1Hbt9-"
      },
      "source": [
        "##Mean Sentiment Analysis by URL\n",
        "Calculating the mean sentiment (polarity and subjectivity) for each url"
      ]
    },
    {
      "cell_type": "code",
      "metadata": {
        "id": "_fWw1BnMb1U3",
        "colab": {
          "base_uri": "https://localhost:8080/",
          "height": 111
        },
        "outputId": "0d69c1c8-b04c-4939-c10f-acba9182d7dc"
      },
      "source": [
        "#creating new dataframes for the polarity and subjectivity average of each url\n",
        "mean_polarity_by_url = pd.DataFrame(web_page_sentiment.groupby(web_page_sentiment['url'])['polarity'].mean())\n",
        "mean_polarity_by_url['polarity type'] = mean_polarity_by_url['polarity'].apply(assignPolarity)\n",
        "mean_polarity_by_url.sample(1)"
      ],
      "execution_count": null,
      "outputs": [
        {
          "output_type": "execute_result",
          "data": {
            "text/html": [
              "<div>\n",
              "<style scoped>\n",
              "    .dataframe tbody tr th:only-of-type {\n",
              "        vertical-align: middle;\n",
              "    }\n",
              "\n",
              "    .dataframe tbody tr th {\n",
              "        vertical-align: top;\n",
              "    }\n",
              "\n",
              "    .dataframe thead th {\n",
              "        text-align: right;\n",
              "    }\n",
              "</style>\n",
              "<table border=\"1\" class=\"dataframe\">\n",
              "  <thead>\n",
              "    <tr style=\"text-align: right;\">\n",
              "      <th></th>\n",
              "      <th>polarity</th>\n",
              "      <th>polarity type</th>\n",
              "    </tr>\n",
              "    <tr>\n",
              "      <th>url</th>\n",
              "      <th></th>\n",
              "      <th></th>\n",
              "    </tr>\n",
              "  </thead>\n",
              "  <tbody>\n",
              "    <tr>\n",
              "      <th>https://www.canada.ca/en/public-health/news/2021/02/public-health-agency-of-canada-to-begin-covid-19-testing-at-land-borders-on-monday.html</th>\n",
              "      <td>0.006844</td>\n",
              "      <td>Positive</td>\n",
              "    </tr>\n",
              "  </tbody>\n",
              "</table>\n",
              "</div>"
            ],
            "text/plain": [
              "                                                                                                                                             polarity  \\\n",
              "url                                                                                                                                                     \n",
              "https://www.canada.ca/en/public-health/news/2021/02/public-health-agency-of-canada-to-begin-covid-19-testing-at-land-borders-on-monday.html  0.006844   \n",
              "\n",
              "                                                                                                                                            polarity type  \n",
              "url                                                                                                                                                        \n",
              "https://www.canada.ca/en/public-health/news/2021/02/public-health-agency-of-canada-to-begin-covid-19-testing-at-land-borders-on-monday.html  Positive      "
            ]
          },
          "metadata": {},
          "execution_count": 172
        }
      ]
    },
    {
      "cell_type": "code",
      "metadata": {
        "id": "3ujODTy_cbKm",
        "colab": {
          "base_uri": "https://localhost:8080/",
          "height": 111
        },
        "outputId": "af2b8ce6-89b5-42b2-b04a-7de24f48f994"
      },
      "source": [
        "mean_subjectivity_by_url = pd.DataFrame(web_page_sentiment.groupby(web_page_sentiment['url'])['subjectivity'].mean())\n",
        "mean_subjectivity_by_url['subjectivity type'] = mean_subjectivity_by_url['subjectivity'].apply(assignSubjectivity)\n",
        "mean_subjectivity_by_url.sample(1)"
      ],
      "execution_count": null,
      "outputs": [
        {
          "output_type": "execute_result",
          "data": {
            "text/html": [
              "<div>\n",
              "<style scoped>\n",
              "    .dataframe tbody tr th:only-of-type {\n",
              "        vertical-align: middle;\n",
              "    }\n",
              "\n",
              "    .dataframe tbody tr th {\n",
              "        vertical-align: top;\n",
              "    }\n",
              "\n",
              "    .dataframe thead th {\n",
              "        text-align: right;\n",
              "    }\n",
              "</style>\n",
              "<table border=\"1\" class=\"dataframe\">\n",
              "  <thead>\n",
              "    <tr style=\"text-align: right;\">\n",
              "      <th></th>\n",
              "      <th>subjectivity</th>\n",
              "      <th>subjectivity type</th>\n",
              "    </tr>\n",
              "    <tr>\n",
              "      <th>url</th>\n",
              "      <th></th>\n",
              "      <th></th>\n",
              "    </tr>\n",
              "  </thead>\n",
              "  <tbody>\n",
              "    <tr>\n",
              "      <th>https://www.canada.ca/en/immigration-refugees-citizenship/services/coronavirus-covid19/travel-restrictions-exemptions.html</th>\n",
              "      <td>0.31669</td>\n",
              "      <td>Objective</td>\n",
              "    </tr>\n",
              "  </tbody>\n",
              "</table>\n",
              "</div>"
            ],
            "text/plain": [
              "                                                                                                                            subjectivity  \\\n",
              "url                                                                                                                                        \n",
              "https://www.canada.ca/en/immigration-refugees-citizenship/services/coronavirus-covid19/travel-restrictions-exemptions.html  0.31669        \n",
              "\n",
              "                                                                                                                           subjectivity type  \n",
              "url                                                                                                                                           \n",
              "https://www.canada.ca/en/immigration-refugees-citizenship/services/coronavirus-covid19/travel-restrictions-exemptions.html  Objective         "
            ]
          },
          "metadata": {},
          "execution_count": 173
        }
      ]
    },
    {
      "cell_type": "code",
      "metadata": {
        "id": "KEqf383TdIIw",
        "colab": {
          "base_uri": "https://localhost:8080/",
          "height": 320
        },
        "outputId": "f813c2cb-af2e-4feb-cfa9-e1cef46d6efe"
      },
      "source": [
        "mean_sentiment_by_url = mean_polarity_by_url.merge(mean_subjectivity_by_url, on=['url'])\n",
        "mean_sentiment_by_url.sample(5)"
      ],
      "execution_count": null,
      "outputs": [
        {
          "output_type": "execute_result",
          "data": {
            "text/html": [
              "<div>\n",
              "<style scoped>\n",
              "    .dataframe tbody tr th:only-of-type {\n",
              "        vertical-align: middle;\n",
              "    }\n",
              "\n",
              "    .dataframe tbody tr th {\n",
              "        vertical-align: top;\n",
              "    }\n",
              "\n",
              "    .dataframe thead th {\n",
              "        text-align: right;\n",
              "    }\n",
              "</style>\n",
              "<table border=\"1\" class=\"dataframe\">\n",
              "  <thead>\n",
              "    <tr style=\"text-align: right;\">\n",
              "      <th></th>\n",
              "      <th>polarity</th>\n",
              "      <th>polarity type</th>\n",
              "      <th>subjectivity</th>\n",
              "      <th>subjectivity type</th>\n",
              "    </tr>\n",
              "    <tr>\n",
              "      <th>url</th>\n",
              "      <th></th>\n",
              "      <th></th>\n",
              "      <th></th>\n",
              "      <th></th>\n",
              "    </tr>\n",
              "  </thead>\n",
              "  <tbody>\n",
              "    <tr>\n",
              "      <th>https://www.canada.ca/en/border-services-agency/news/2020/08/travel-restrictions-to-canada-remain-in-place-for-september-long-weekend.html</th>\n",
              "      <td>0.025189</td>\n",
              "      <td>Positive</td>\n",
              "      <td>0.326645</td>\n",
              "      <td>Objective</td>\n",
              "    </tr>\n",
              "    <tr>\n",
              "      <th>https://www.canada.ca/en/department-finance/news/2020/09/government-provides-update-on-support-for-furloughed-employees-under-the-canada-emergency-wage-subsidy.html</th>\n",
              "      <td>0.109828</td>\n",
              "      <td>Positive</td>\n",
              "      <td>0.414614</td>\n",
              "      <td>Objective</td>\n",
              "    </tr>\n",
              "    <tr>\n",
              "      <th>https://www.canada.ca/en/employment-social-development/news/2021/07/government-of-canada-announces-that-the-pay-equity-act-will-come-into-force-on-august-31-2021.html</th>\n",
              "      <td>0.142750</td>\n",
              "      <td>Positive</td>\n",
              "      <td>0.404530</td>\n",
              "      <td>Objective</td>\n",
              "    </tr>\n",
              "    <tr>\n",
              "      <th>https://www.canada.ca/en/revenue-agency/news/2021/01/new-support-for-organizations-hosting-free-tax-clinics.html</th>\n",
              "      <td>0.171164</td>\n",
              "      <td>Positive</td>\n",
              "      <td>0.481237</td>\n",
              "      <td>Objective</td>\n",
              "    </tr>\n",
              "    <tr>\n",
              "      <th>https://www.canada.ca/en/public-health/news/2021/02/public-health-agency-of-canada-to-begin-covid-19-testing-at-land-borders-on-monday.html</th>\n",
              "      <td>0.006844</td>\n",
              "      <td>Positive</td>\n",
              "      <td>0.317974</td>\n",
              "      <td>Objective</td>\n",
              "    </tr>\n",
              "  </tbody>\n",
              "</table>\n",
              "</div>"
            ],
            "text/plain": [
              "                                                                                                                                                                        polarity  \\\n",
              "url                                                                                                                                                                                \n",
              "https://www.canada.ca/en/border-services-agency/news/2020/08/travel-restrictions-to-canada-remain-in-place-for-september-long-weekend.html                              0.025189   \n",
              "https://www.canada.ca/en/department-finance/news/2020/09/government-provides-update-on-support-for-furloughed-employees-under-the-canada-emergency-wage-subsidy.html    0.109828   \n",
              "https://www.canada.ca/en/employment-social-development/news/2021/07/government-of-canada-announces-that-the-pay-equity-act-will-come-into-force-on-august-31-2021.html  0.142750   \n",
              "https://www.canada.ca/en/revenue-agency/news/2021/01/new-support-for-organizations-hosting-free-tax-clinics.html                                                        0.171164   \n",
              "https://www.canada.ca/en/public-health/news/2021/02/public-health-agency-of-canada-to-begin-covid-19-testing-at-land-borders-on-monday.html                             0.006844   \n",
              "\n",
              "                                                                                                                                                                       polarity type  \\\n",
              "url                                                                                                                                                                                    \n",
              "https://www.canada.ca/en/border-services-agency/news/2020/08/travel-restrictions-to-canada-remain-in-place-for-september-long-weekend.html                              Positive       \n",
              "https://www.canada.ca/en/department-finance/news/2020/09/government-provides-update-on-support-for-furloughed-employees-under-the-canada-emergency-wage-subsidy.html    Positive       \n",
              "https://www.canada.ca/en/employment-social-development/news/2021/07/government-of-canada-announces-that-the-pay-equity-act-will-come-into-force-on-august-31-2021.html  Positive       \n",
              "https://www.canada.ca/en/revenue-agency/news/2021/01/new-support-for-organizations-hosting-free-tax-clinics.html                                                        Positive       \n",
              "https://www.canada.ca/en/public-health/news/2021/02/public-health-agency-of-canada-to-begin-covid-19-testing-at-land-borders-on-monday.html                             Positive       \n",
              "\n",
              "                                                                                                                                                                        subjectivity  \\\n",
              "url                                                                                                                                                                                    \n",
              "https://www.canada.ca/en/border-services-agency/news/2020/08/travel-restrictions-to-canada-remain-in-place-for-september-long-weekend.html                              0.326645       \n",
              "https://www.canada.ca/en/department-finance/news/2020/09/government-provides-update-on-support-for-furloughed-employees-under-the-canada-emergency-wage-subsidy.html    0.414614       \n",
              "https://www.canada.ca/en/employment-social-development/news/2021/07/government-of-canada-announces-that-the-pay-equity-act-will-come-into-force-on-august-31-2021.html  0.404530       \n",
              "https://www.canada.ca/en/revenue-agency/news/2021/01/new-support-for-organizations-hosting-free-tax-clinics.html                                                        0.481237       \n",
              "https://www.canada.ca/en/public-health/news/2021/02/public-health-agency-of-canada-to-begin-covid-19-testing-at-land-borders-on-monday.html                             0.317974       \n",
              "\n",
              "                                                                                                                                                                       subjectivity type  \n",
              "url                                                                                                                                                                                       \n",
              "https://www.canada.ca/en/border-services-agency/news/2020/08/travel-restrictions-to-canada-remain-in-place-for-september-long-weekend.html                              Objective         \n",
              "https://www.canada.ca/en/department-finance/news/2020/09/government-provides-update-on-support-for-furloughed-employees-under-the-canada-emergency-wage-subsidy.html    Objective         \n",
              "https://www.canada.ca/en/employment-social-development/news/2021/07/government-of-canada-announces-that-the-pay-equity-act-will-come-into-force-on-august-31-2021.html  Objective         \n",
              "https://www.canada.ca/en/revenue-agency/news/2021/01/new-support-for-organizations-hosting-free-tax-clinics.html                                                        Objective         \n",
              "https://www.canada.ca/en/public-health/news/2021/02/public-health-agency-of-canada-to-begin-covid-19-testing-at-land-borders-on-monday.html                             Objective         "
            ]
          },
          "metadata": {},
          "execution_count": 174
        }
      ]
    },
    {
      "cell_type": "code",
      "metadata": {
        "id": "jjEnfrOP7JXm",
        "colab": {
          "base_uri": "https://localhost:8080/",
          "height": 317
        },
        "outputId": "9d91885d-664b-4465-ca19-de56b78a75c3"
      },
      "source": [
        "plt.style.use('ggplot')\n",
        "mean_sentiment_by_url['polarity type'].value_counts().plot(kind='bar')\n",
        "plt.title('Polarity Analysis')\n",
        "plt.show()"
      ],
      "execution_count": null,
      "outputs": [
        {
          "output_type": "display_data",
          "data": {
            "image/png": "[encoded data removed]",
            "text/plain": [
              "<Figure size 432x288 with 1 Axes>"
            ]
          },
          "metadata": {}
        }
      ]
    },
    {
      "cell_type": "code",
      "metadata": {
        "id": "lo0r3Im070lZ",
        "colab": {
          "base_uri": "https://localhost:8080/",
          "height": 321
        },
        "outputId": "5dabf08f-9af4-4400-9420-3ec4d5cc4f24"
      },
      "source": [
        "plt.style.use('bmh')\n",
        "mean_sentiment_by_url['subjectivity type'].value_counts().plot(kind='bar')\n",
        "plt.title('Subjectivity Analysis')\n",
        "plt.show()"
      ],
      "execution_count": null,
      "outputs": [
        {
          "output_type": "display_data",
          "data": {
            "image/png": "[encoded data removed]",
            "text/plain": [
              "<Figure size 432x288 with 1 Axes>"
            ]
          },
          "metadata": {}
        }
      ]
    },
    {
      "cell_type": "markdown",
      "metadata": {
        "id": "d1Z6dMzUahdR"
      },
      "source": [
        "##URL Specific Article Content Analysis\n",
        "\n",
        "Below we will pull all sentiments for a specific url. The example below references url_link_list, a list of all unique urls sorted by crawl_dates count. This list can be applied to pull the sentiments in order of urls with the most changes."
      ]
    },
    {
      "cell_type": "code",
      "metadata": {
        "id": "EkB8GfowfGZ1",
        "colab": {
          "base_uri": "https://localhost:8080/",
          "height": 1000
        },
        "outputId": "71bf57a4-a8d4-46d4-e3e9-0d72b2a6c326"
      },
      "source": [
        "#gathering all of the sentiment outcomes for the url with the most changes\n",
        "url_link = url_count_list[0]\n",
        "\n",
        "sentiment_specific_url = web_page_text[web_page_text['url'] == url_link]\n",
        "sentiment_specific_url = sentiment_specific_url.sort_values(by=['crawl_date'], ascending=True).reset_index(drop=True)\n",
        "sentiment_specific_url.sample(1)"
      ],
      "execution_count": null,
      "outputs": [
        {
          "output_type": "execute_result",
          "data": {
            "text/html": [
              "<div>\n",
              "<style scoped>\n",
              "    .dataframe tbody tr th:only-of-type {\n",
              "        vertical-align: middle;\n",
              "    }\n",
              "\n",
              "    .dataframe tbody tr th {\n",
              "        vertical-align: top;\n",
              "    }\n",
              "\n",
              "    .dataframe thead th {\n",
              "        text-align: right;\n",
              "    }\n",
              "</style>\n",
              "<table border=\"1\" class=\"dataframe\">\n",
              "  <thead>\n",
              "    <tr style=\"text-align: right;\">\n",
              "      <th></th>\n",
              "      <th>crawl_date</th>\n",
              "      <th>domain</th>\n",
              "      <th>url</th>\n",
              "      <th>mime_type_web_server</th>\n",
              "      <th>mime_type_tika</th>\n",
              "      <th>language</th>\n",
              "      <th>content</th>\n",
              "      <th>filtered_content</th>\n",
              "      <th>words</th>\n",
              "      <th>polarity</th>\n",
              "      <th>subjectivity</th>\n",
              "      <th>filtered_polarity</th>\n",
              "      <th>filtered_subjectivity</th>\n",
              "      <th>polarity_type</th>\n",
              "      <th>subjectivity_type</th>\n",
              "      <th>filtered_polarity_type</th>\n",
              "      <th>filtered_subjectivity_type</th>\n",
              "    </tr>\n",
              "  </thead>\n",
              "  <tbody>\n",
              "    <tr>\n",
              "      <th>51</th>\n",
              "      <td>2021-03-26</td>\n",
              "      <td>canada.ca</td>\n",
              "      <td>https://www.canada.ca/en/public-health/services/diseases/coronavirus-disease-covid-19.html</td>\n",
              "      <td>text/html</td>\n",
              "      <td>text/html</td>\n",
              "      <td>en</td>\n",
              "      <td>Coronavirus disease (COVID-19) outbreak updates, symptoms, prevention, travel, preparation - Canada.ca Skip to main content Skip to \"About government\" Language selection Français fr / Gouvernement du Canada Search Search Canada.ca Search Menu Main Menu Jobs and the workplace Immigration and citizenship Travel and tourism Business and industry Benefits Health Taxes Environment and natural resources National security and defence Culture, history and sport Policing, justice and emergencies Transport and infrastructure Canada and the world Money and finances Science and innovation You are here: Canada.ca Coronavirus disease (COVID-19) Current situation COVID-19 outbreak update Latest announcements Epidemiological and economic research data Canada's response Vaccines Vaccines, rollout, safety Authorized vaccines Travel and immigration Travel, quarantine and borders ArriveCAN Immigration and citizenship Recent flights with potential COVID-19 exposure Financial and economic support For individuals and businesses Canada Emergency Rent Subsidy (CERS) Canada Emergency Wage Subsidy (CEWS) Your health Take a self-assessment Symptoms and treatment Prevention and risks Mental and physical wellbeing Non-medical masks Quarantine (self-isolate) and isolate Limiting the spread Government guidance Testing COVID Alert app COVIDTrends Personal protective equipment and medical supplies Focus on Health professionals Health product industry Food industry Business Seniors Veterans Indigenous communities Parents and children Youth, students and young adults Government of Canada employees COVID-19 in Canada March 25, 2021, 7:00 p.m. EST Total tests performed 26,977,663 Total cases 951,562 Active cases 38,922 Recovered 889,850 Deaths 22,790 Provincial and territorial case numbers Features Digital tools COVID-19 applications and interactive tools to help you stay informed Awareness resources Printable information and videos, with some resources available in multiple languages Frauds and scams Known scams, frauds, and how to report them. COVID-19 Virtual Assistant Have a question? Start here! What COVID-19 information do you need? Travel Income support Health and safety Additional economic and financial support Foreign workers coming to Canada About COVID-19 Choose a topic Prevention and vaccines Risks and spread Symptoms and treatment Reduce COVID-19 in your community What can I do to care for my mental and physical health? Drug and medical device supply monitoring For clinical trial sponsors Go to previous question Which type of support are you interested in? Individuals Businesses Sectors Organizations helping Canadians Go to previous question Choose an option E-mail updates on COVID-19 Current confirmed number of COVID-19 cases in Canada More details about the cases reported in Canada How does it spread? Where can I get information specific to my province or territory? How governments are working together How can I make a difference in Canada’s COVID-19 response efforts? Resources for parents and children Resources for youth, students and young adults Resources for seniors and their caregivers Resources for Indigenous communities People with disabilities Go to previous question Choose an option Get a list of benefits and support tailored to you CERB has ended what happens next? Go to previous question Choose an option Testing and quarantine requirements Find out if you can travel to Canada Travel restrictions in Canada Quarantine and isolation for travellers Compassionate exemptions Registration of Canadians Abroad service Check if you have been exposed during recent travel Go to previous question You are a foreign worker or a foreign worker employer Arriving in Canada and mandatory quarantine Health requirements and general guidance Compliance and inspections Go to previous question Choose an option Wearing masks Physical distancing and how it helps minimize COVID-19 Hygiene COVID-19 vaccines overview Vaccine distribution Vaccine safety and possible side effects Authorized vaccines Go to previous question Choose an option Difference between quarantine vs isolate Surface contamination How can I go out safely during the COVID-19 pandemic? Which people are at risk of severe outcomes? Pregnancy and risks related to COVID-19 Can COVID-19 be transmitted through food? Can my pet or other animals get sick from this virus? Go to previous question Choose an option Self-assessment tool to help determine if your symptoms require further care What are the symptoms? How long do symptoms take to appear? Treatment? Should I call my doctor? Go to previous question Choose an option For communities, including child and youth settings and outdoor spaces How do I care for a person with COVID-19 at home? Public health measures to prevent and reduce the spread of COVID-19 in the workplace Are gatherings still allowed to take place? Go to previous question Which type of individual support are you interested in? Individuals and families Go to previous question Which type of business support are you interested in? Avoiding layoffs, rehiring employees and creating new jobs Financial support, loans and access to credit Self-employed individuals Indigenous businesses Go to previous question Which type of sector support are you interested in? Agriculture and agri-food Aquaculture and fisheries Cultural, heritage and sport Energy Infrastructure Go to previous question Would you like to learn more about: Vulnerable populations Indigenous organizations and communities Go to previous question Would you like to learn more about: Employment Insurance (EI) program Canada Recovery Benefit (CRB) Canada Recovery Sickness Benefit (CRSB) Canada Recovery Caregiving Benefit (CRCB) Mortgage payment deferral Provincial and territorial support Go to previous question Would you like to learn more about: Canada Emergency Wage Subsidy (CEWS) Extending the Work-Sharing program Go to previous question Would you like to learn more about: Canada Emergency Business Account (CEBA) interest-free loans Canada Emergency Rent Subsidy (CERS) Highly Affected Sectors Credit Availability Program (HASCAP) Loan Guarantee for Small and Medium-Sized Enterprises Co-Lending Program for Small and Medium-Sized Enterprises Regional Relief and Recovery Fund (RRRF) Black Entrepreneurship Loan Fund Mid-Market Financing Program Mid-Market Guarantee and Financing Program Large Employer Emergency Financing Facility (LEEFF) Additional support by sector Provincial and territorial support Go to previous question Would you like to learn more about: Canada Recovery Benefit (CRB) Canada Recovery Sickness Benefit (CRSB) Canada Recovery Caregiving Benefit (CRCB) Go to previous question Would you like to learn more about: Relief measures for Indigenous businesses Supporting business through the pandemic and into recovery Go to previous question Would you like to learn more about: Keeping workers in the food supply chain safe Increasing credit availability Protecting the health and safety of farm workers Increasing interim payments from 50% to 75% through AgriStability Expanding AgriInsurance to include labour shortage Additional support for your business Go to previous question Would you like to learn more about: Support for Independent production companies Additional support for your business Go to previous question Would you like to learn more about: Launching the Emissions Reduction Fund Additional support for your business Go to previous question Would you like to learn more about: Keeping workers in the food supply chain safe Increasing credit availability Assisting the fish and seafood processing sector Changes to Employment Insurance (EI) fishing benefits Additional support for your business Go to previous question Would you like to learn more about: Flexible funding for community resilience Supporting communities: new ways to adapt spaces and services Additional support for your business Go to previous question Would you like to learn more about: Supporting women and children experiencing violence Additional support for your organization Go to previous question Would you like to learn more about: Addressing immediate needs in Indigenous communities Additional support for your organization Go to previous question Thank you! I have found a page that may help. Search What COVID-19 information do you need? Travel Testing and quarantine requirements Find out if you can travel to Canada Travel restrictions in Canada Quarantine and isolation for travellers Compassionate exemptions Registration of Canadians Abroad service Check if you have been exposed during recent travel Income support Get a list of benefits and support tailored to you CERB has ended what happens next? Health and safety Prevention and vaccines Wearing masks Physical distancing and how it helps minimize COVID-19 Hygiene COVID-19 vaccines overview Vaccine distribution Vaccine safety and possible side effects Authorized vaccines Risks and spread Difference between quarantine vs isolate Surface contamination How can I go out safely during the COVID-19 pandemic? Which people are at risk of severe outcomes? Pregnancy and risks related to COVID-19 Can COVID-19 be transmitted through food? Can my pet or other animals get sick from this virus? Symptoms and treatment Self-assessment tool to help determine if your symptoms require further care What are the symptoms? How long do symptoms take to appear? Treatment? Should I call my doctor? Reduce COVID-19 in your community For communities, including child and youth settings and outdoor spaces How do I care for a person with COVID-19 at home? Public health measures to prevent and reduce the spread of COVID-19 in the workplace Are gatherings still allowed to take place? What can I do to care for my mental and physical health? Drug and medical device supply monitoring For clinical trial sponsors Additional economic and financial support Individuals Individuals and families Employment Insurance (EI) program Canada Recovery Benefit (CRB) Canada Recovery Sickness Benefit (CRSB) Canada Recovery Caregiving Benefit (CRCB) Mortgage payment deferral Provincial and territorial support Support for businesses Avoiding layoffs, rehiring employees and creating new jobs Canada Emergency Wage Subsidy (CEWS) Extending the Work-Sharing program Financial support, loans and access to credit Canada Emergency Business Account (CEBA) interest-free loans Canada Emergency Rent Subsidy (CERS) Highly Affected Sectors Credit Availability Program (HASCAP) Loan Guarantee for Small and Medium-Sized Enterprises Co-Lending Program for Small and Medium-Sized Enterprises Regional Relief and Recovery Fund (RRRF) Black Entrepreneurship Loan Fund Mid-Market Financing Program Mid-Market Guarantee and Financing Program Large Employer Emergency Financing Facility (LEEFF) Additional support by sector Provincial and territorial support Self-employed individuals Canada Recovery Benefit (CRB) Canada Recovery Sickness Benefit (CRSB) Canada Recovery Caregiving Benefit (CRCB) Indigenous businesses Relief measures for Indigenous businesses Supporting business through the pandemic and into recovery Support for sectors Agriculture and agri-food Keeping workers in the food supply chain safe Increasing credit availability Protecting the health and safety of farm workers Increasing interim payments from 50% to 75% through AgriStability Expanding AgriInsurance to include labour shortage Additional support for your business Aquaculture and fisheries Keeping workers in the food supply chain safe Increasing credit availability Assisting the fish and seafood processing sector Changes to Employment Insurance (EI) fishing benefits Additional support for your business Cultural, heritage and sport Support for Independent production companies Additional support for your business Energy Launching the Emissions Reduction Fund Additional support for your business Infrastructure Flexible funding for community resilience Supporting communities: new ways to adapt spaces and services Additional support for your business Organizations helping Canadians Vulnerable populations Supporting women and children experiencing violence Additional support for your organization Indigenous organizations and communities Addressing immediate needs in Indigenous communities Additional support for your organization Foreign workers coming to Canada Arriving in Canada and mandatory quarantine Health requirements and general guidance Compliance and inspections About COVID-19 E-mail updates on COVID-19 Current confirmed number of COVID-19 cases in Canada More details about the cases reported in Canada How does it spread? Where can I get information specific to my province or territory? How governments are working together How can I make a difference in Canada’s COVID-19 response efforts? Resources for parents and children Resources for youth, students and young adults Resources for seniors and their caregivers Resources for Indigenous communities People with disabilities Report a problem or mistake on this page Please select all that apply: A link, button or video is not working It has a spelling mistake Information is missing Information is outdated or wrong Login error when trying to access an account (e.g. My Service Canada Account) GC Key access SecureKey Concierge (Banking Credential) access Personal Access Code (PAC) problems or EI Access Code (AC) problems Social Insurance Number (SIN) validation problems Other login error not in this list I can't find what I'm looking for Other issue not in this list Submit Thank you for your help! You will not receive a reply. For enquiries, contact us. Date modified: 2021-03-01 About government Contact us Departments and agencies Public service and military News Treaties, laws and regulations Government-wide reporting Prime Minister About government Open government About this site Social media Mobile applications About Canada.ca Terms and conditions Privacy Top of page</td>\n",
              "      <td>Coronavirus disease  COVID19  outbreak updates  symptoms  prevention  travel  preparation  Canadaca Skip main content Skip  government  Language selection Français fr  Gouvernement du Canada Search Search Canadaca Search Menu Main Menu Jobs workplace Immigration citizenship Travel tourism Business industry Benefits Health Taxes Environment natural resources National security defence Culture  history sport Policing  justice emergencies Transport infrastructure Canada world Money finances Science innovation  Canadaca Coronavirus disease  COVID19  Current situation COVID19 outbreak update Latest announcements Epidemiological economic research data Canada s response Vaccines Vaccines  rollout  safety Authorized vaccines Travel immigration Travel  quarantine borders ArriveCAN Immigration citizenship Recent flights potential COVID19 exposure Financial economic support individuals businesses Canada Emergency Rent Subsidy  CERS  Canada Emergency Wage Subsidy  CEWS  health Take selfassessment Symptoms treatment Prevention risks Mental physical wellbeing Nonmedical masks Quarantine  selfisolate  isolate Limiting spread Government guidance Testing COVID Alert app COVIDTrends Personal protective equipment medical supplies Focus Health professionals Health product industry Food industry Business Seniors Veterans Indigenous communities Parents children Youth  students young adults Government Canada employees COVID19 Canada March 25  2021  700 pm EST Total tests performed 26977663 Total cases 951562 Active cases 38922 Recovered 889850 Deaths 22790 Provincial territorial case numbers Features Digital tools COVID19 applications interactive tools help stay informed Awareness resources Printable information videos  resources available multiple languages Frauds scams Known scams  frauds  report  COVID19 Virtual Assistant question  Start  COVID19 information need  Travel Income support Health safety Additional economic financial support Foreign workers coming Canada COVID19 Choose topic Prevention vaccines Risks spread Symptoms treatment Reduce COVID19 community care mental physical health  Drug medical device supply monitoring clinical trial sponsors Go previous question type support interested  Individuals Businesses Sectors Organizations helping Canadians Go previous question Choose option Email updates COVID19 Current confirmed number COVID19 cases Canada details cases reported Canada spread  get information specific province territory  governments working together make difference Canada  COVID19 response efforts  Resources parents children Resources youth  students young adults Resources seniors caregivers Resources Indigenous communities People disabilities Go previous question Choose option Get list benefits support tailored CERB ended happens next  Go previous question Choose option Testing quarantine requirements Find travel Canada Travel restrictions Canada Quarantine isolation travellers Compassionate exemptions Registration Canadians Abroad service Check exposed recent travel Go previous question foreign worker foreign worker employer Arriving Canada mandatory quarantine Health requirements general guidance Compliance inspections Go previous question Choose option Wearing masks Physical distancing helps minimize COVID19 Hygiene COVID19 vaccines overview Vaccine distribution Vaccine safety possible side effects Authorized vaccines Go previous question Choose option Difference quarantine vs isolate Surface contamination go safely COVID19 pandemic  people risk severe outcomes  Pregnancy risks related COVID19 COVID19 transmitted food  pet animals get sick virus  Go previous question Choose option Selfassessment tool help determine symptoms require care symptoms  long symptoms take appear  Treatment  call doctor  Go previous question Choose option communities  including child youth settings outdoor spaces care person COVID19 home  Public health measures prevent reduce spread COVID19 workplace gatherings still allowed take place  Go previous question type individual support interested  Individuals families Go previous question type business support interested  Avoiding layoffs  rehiring employees creating new jobs Financial support  loans access credit Selfemployed individuals Indigenous businesses Go previous question type sector support interested  Agriculture agrifood Aquaculture fisheries Cultural  heritage sport Energy Infrastructure Go previous question Would like learn  Vulnerable populations Indigenous organizations communities Go previous question Would like learn  Employment Insurance  EI  program Canada Recovery Benefit  CRB  Canada Recovery Sickness Benefit  CRSB  Canada Recovery Caregiving Benefit  CRCB  Mortgage payment deferral Provincial territorial support Go previous question Would like learn  Canada Emergency Wage Subsidy  CEWS  Extending WorkSharing program Go previous question Would like learn  Canada Emergency Business Account  CEBA  interestfree loans Canada Emergency Rent Subsidy  CERS  Highly Affected Sectors Credit Availability Program  HASCAP  Loan Guarantee Small MediumSized Enterprises CoLending Program Small MediumSized Enterprises Regional Relief Recovery Fund  RRRF  Black Entrepreneurship Loan Fund MidMarket Financing Program MidMarket Guarantee Financing Program Large Employer Emergency Financing Facility  LEEFF  Additional support sector Provincial territorial support Go previous question Would like learn  Canada Recovery Benefit  CRB  Canada Recovery Sickness Benefit  CRSB  Canada Recovery Caregiving Benefit  CRCB  Go previous question Would like learn  Relief measures Indigenous businesses Supporting business pandemic recovery Go previous question Would like learn  Keeping workers food supply chain safe Increasing credit availability Protecting health safety farm workers Increasing interim payments 50  75  AgriStability Expanding AgriInsurance include labour shortage Additional support business Go previous question Would like learn  Support Independent production companies Additional support business Go previous question Would like learn  Launching Emissions Reduction Fund Additional support business Go previous question Would like learn  Keeping workers food supply chain safe Increasing credit availability Assisting fish seafood processing sector Changes Employment Insurance  EI  fishing benefits Additional support business Go previous question Would like learn  Flexible funding community resilience Supporting communities  new ways adapt spaces services Additional support business Go previous question Would like learn  Supporting women children experiencing violence Additional support organization Go previous question Would like learn  Addressing immediate needs Indigenous communities Additional support organization Go previous question Thank  found page may help  Search COVID19 information need  Travel Testing quarantine requirements Find travel Canada Travel restrictions Canada Quarantine isolation travellers Compassionate exemptions Registration Canadians Abroad service Check exposed recent travel Income support Get list benefits support tailored CERB ended happens next  Health safety Prevention vaccines Wearing masks Physical distancing helps minimize COVID19 Hygiene COVID19 vaccines overview Vaccine distribution Vaccine safety possible side effects Authorized vaccines Risks spread Difference quarantine vs isolate Surface contamination go safely COVID19 pandemic  people risk severe outcomes  Pregnancy risks related COVID19 COVID19 transmitted food  pet animals get sick virus  Symptoms treatment Selfassessment tool help determine symptoms require care symptoms  long symptoms take appear  Treatment  call doctor  Reduce COVID19 community communities  including child youth settings outdoor spaces care person COVID19 home  Public health measures prevent reduce spread COVID19 workplace gatherings still allowed take place  care mental physical health  Drug medical device supply monitoring clinical trial sponsors Additional economic financial support Individuals Individuals families Employment Insurance  EI  program Canada Recovery Benefit  CRB  Canada Recovery Sickness Benefit  CRSB  Canada Recovery Caregiving Benefit  CRCB  Mortgage payment deferral Provincial territorial support Support businesses Avoiding layoffs  rehiring employees creating new jobs Canada Emergency Wage Subsidy  CEWS  Extending WorkSharing program Financial support  loans access credit Canada Emergency Business Account  CEBA  interestfree loans Canada Emergency Rent Subsidy  CERS  Highly Affected Sectors Credit Availability Program  HASCAP  Loan Guarantee Small MediumSized Enterprises CoLending Program Small MediumSized Enterprises Regional Relief Recovery Fund  RRRF  Black Entrepreneurship Loan Fund MidMarket Financing Program MidMarket Guarantee Financing Program Large Employer Emergency Financing Facility  LEEFF  Additional support sector Provincial territorial support Selfemployed individuals Canada Recovery Benefit  CRB  Canada Recovery Sickness Benefit  CRSB  Canada Recovery Caregiving Benefit  CRCB  Indigenous businesses Relief measures Indigenous businesses Supporting business pandemic recovery Support sectors Agriculture agrifood Keeping workers food supply chain safe Increasing credit availability Protecting health safety farm workers Increasing interim payments 50  75  AgriStability Expanding AgriInsurance include labour shortage Additional support business Aquaculture fisheries Keeping workers food supply chain safe Increasing credit availability Assisting fish seafood processing sector Changes Employment Insurance  EI  fishing benefits Additional support business Cultural  heritage sport Support Independent production companies Additional support business Energy Launching Emissions Reduction Fund Additional support business Infrastructure Flexible funding community resilience Supporting communities  new ways adapt spaces services Additional support business Organizations helping Canadians Vulnerable populations Supporting women children experiencing violence Additional support organization Indigenous organizations communities Addressing immediate needs Indigenous communities Additional support organization Foreign workers coming Canada Arriving Canada mandatory quarantine Health requirements general guidance Compliance inspections COVID19 Email updates COVID19 Current confirmed number COVID19 cases Canada details cases reported Canada spread  get information specific province territory  governments working together make difference Canada  COVID19 response efforts  Resources parents children Resources youth  students young adults Resources seniors caregivers Resources Indigenous communities People disabilities Report problem mistake page Please select apply  link  button video working spelling mistake Information missing Information outdated wrong Login error trying access account  eg  Service Canada Account  GC Key access SecureKey Concierge  Banking Credential  access Personal Access Code  PAC  problems EI Access Code  AC  problems Social Insurance Number  SIN  validation problems login error list ca nt find m looking issue list Submit Thank help  receive reply  enquiries  contact us  Date modified  20210301 government Contact us Departments agencies Public service military News Treaties  laws regulations Governmentwide reporting Prime Minister government Open government site Social media Mobile applications Canadaca Terms conditions Privacy Top page</td>\n",
              "      <td>[coronavirus, disease, covid19, outbreak, updates, symptoms, prevention, travel, preparation, canadaca, skip, main, content, skip, government, language, selection, français, fr, gouvernement, du, canada, search, search, canadaca, search, menu, main, menu, jobs, workplace, immigration, citizenship, travel, tourism, business, industry, benefits, health, taxes, environment, natural, resources, national, security, defence, culture, history, sport, policing, justice, emergencies, transport, infrastructure, canada, world, money, finances, science, innovation, canadaca, coronavirus, disease, covid19, current, situation, covid19, outbreak, update, latest, announcements, epidemiological, economic, research, data, canada, s, response, vaccines, vaccines, rollout, safety, authorized, vaccines, travel, immigration, travel, quarantine, borders, arrivecan, immigration, citizenship, recent, flights, potential, covid19, exposure, financial, economic, support, ...]</td>\n",
              "      <td>0.047421</td>\n",
              "      <td>0.337451</td>\n",
              "      <td>0.004127</td>\n",
              "      <td>0.316184</td>\n",
              "      <td>Positive</td>\n",
              "      <td>Objective</td>\n",
              "      <td>Positive</td>\n",
              "      <td>Objective</td>\n",
              "    </tr>\n",
              "  </tbody>\n",
              "</table>\n",
              "</div>"
            ],
            "text/plain": [
              "   crawl_date     domain  \\\n",
              "51 2021-03-26  canada.ca   \n",
              "\n",
              "                                                                                           url  \\\n",
              "51  https://www.canada.ca/en/public-health/services/diseases/coronavirus-disease-covid-19.html   \n",
              "\n",
              "   mime_type_web_server mime_type_tika language  \\\n",
              "51  text/html            text/html      en        \n",
              "\n",
              "                                                                                                                                                                                                                                                                                                                                                                                                                                                                                                                                                                                                                                                                                                                                                                                                                                                                                                                                                                                                                                                                                                                                                                                                                                                                                                                                                                                                                                                                                                                                                                                                                                                                                                                                                                                                                                                                                                                                                                                                                                                                                                                                                                                                                                                                                                                                                                                                                                                                                                                                                                                                                                                                                                                                                                                                                                                                                                                                                                                                                                                                                                                                                                                                                                                                                                                                                                                                                                                                                                                                                                                                                                                                                                                                                                                                                                                                                                                                                                                                                                                                                                                                                                                                                                                                                                                                                                                                                                                                                                                                                                                                                                                                                                                                                                                                                                                                                                                                                                                                                                                                                                                                                                                                                                                                                                                                                                                                                                                                                                                                                                                                                                                                                                                                                                                                                                                                                                                                                                                                                                                                                                                                                                                                                                                                                                                                                                                                                                                                                                                                                                                                                                                                                                                                                                                                                                                                                                                                                                                                                                                                                                                                                                                                                                                                                                                                                                                                                                                                                                                                                                                                                                                                                                                                                                                                                                                                                                                                                                                                                                                                                                                                                                                                                                                                                                                                                                                                                                                                                                                                                                                                                                                                                                                                                                                                                                                                                                                                                                                                                                                                                                                                                                                                                                                                                                                                                                                                                                                                                                                                                                                                                                                                                                                                                                                                                                                                                                                                                                                                                                                                                                                                                                                                                                                                                                                                                                                                                                                                                                                                                                                                                                                                                                                                                                                                                                                                                                                                                                                                                                                                                                                                                                                                                                                                                                                                                                                                                                                                                                                                                                                                                                                                                                                                                                                                                                                                                                                                                                                                                                                                                                                                                                                                                                                                                                                                                                                                                                                                                                                                                                                                                                                                                                                                                                                                                                                                                                                                                                                                                                                                                                                                                                                                                                                                                                                                                                                                                                                                                                                                                                                                                                                                                                                                                                                                                                                                                                                                                                                                                                                                                                                                                                                                                                                                                                                                                                                                                                                                                                                                                            content  \\\n",
              "51  Coronavirus disease (COVID-19) outbreak updates, symptoms, prevention, travel, preparation - Canada.ca Skip to main content Skip to \"About government\" Language selection Français fr / Gouvernement du Canada Search Search Canada.ca Search Menu Main Menu Jobs and the workplace Immigration and citizenship Travel and tourism Business and industry Benefits Health Taxes Environment and natural resources National security and defence Culture, history and sport Policing, justice and emergencies Transport and infrastructure Canada and the world Money and finances Science and innovation You are here: Canada.ca Coronavirus disease (COVID-19) Current situation COVID-19 outbreak update Latest announcements Epidemiological and economic research data Canada's response Vaccines Vaccines, rollout, safety Authorized vaccines Travel and immigration Travel, quarantine and borders ArriveCAN Immigration and citizenship Recent flights with potential COVID-19 exposure Financial and economic support For individuals and businesses Canada Emergency Rent Subsidy (CERS) Canada Emergency Wage Subsidy (CEWS) Your health Take a self-assessment Symptoms and treatment Prevention and risks Mental and physical wellbeing Non-medical masks Quarantine (self-isolate) and isolate Limiting the spread Government guidance Testing COVID Alert app COVIDTrends Personal protective equipment and medical supplies Focus on Health professionals Health product industry Food industry Business Seniors Veterans Indigenous communities Parents and children Youth, students and young adults Government of Canada employees COVID-19 in Canada March 25, 2021, 7:00 p.m. EST Total tests performed 26,977,663 Total cases 951,562 Active cases 38,922 Recovered 889,850 Deaths 22,790 Provincial and territorial case numbers Features Digital tools COVID-19 applications and interactive tools to help you stay informed Awareness resources Printable information and videos, with some resources available in multiple languages Frauds and scams Known scams, frauds, and how to report them. COVID-19 Virtual Assistant Have a question? Start here! What COVID-19 information do you need? Travel Income support Health and safety Additional economic and financial support Foreign workers coming to Canada About COVID-19 Choose a topic Prevention and vaccines Risks and spread Symptoms and treatment Reduce COVID-19 in your community What can I do to care for my mental and physical health? Drug and medical device supply monitoring For clinical trial sponsors Go to previous question Which type of support are you interested in? Individuals Businesses Sectors Organizations helping Canadians Go to previous question Choose an option E-mail updates on COVID-19 Current confirmed number of COVID-19 cases in Canada More details about the cases reported in Canada How does it spread? Where can I get information specific to my province or territory? How governments are working together How can I make a difference in Canada’s COVID-19 response efforts? Resources for parents and children Resources for youth, students and young adults Resources for seniors and their caregivers Resources for Indigenous communities People with disabilities Go to previous question Choose an option Get a list of benefits and support tailored to you CERB has ended what happens next? Go to previous question Choose an option Testing and quarantine requirements Find out if you can travel to Canada Travel restrictions in Canada Quarantine and isolation for travellers Compassionate exemptions Registration of Canadians Abroad service Check if you have been exposed during recent travel Go to previous question You are a foreign worker or a foreign worker employer Arriving in Canada and mandatory quarantine Health requirements and general guidance Compliance and inspections Go to previous question Choose an option Wearing masks Physical distancing and how it helps minimize COVID-19 Hygiene COVID-19 vaccines overview Vaccine distribution Vaccine safety and possible side effects Authorized vaccines Go to previous question Choose an option Difference between quarantine vs isolate Surface contamination How can I go out safely during the COVID-19 pandemic? Which people are at risk of severe outcomes? Pregnancy and risks related to COVID-19 Can COVID-19 be transmitted through food? Can my pet or other animals get sick from this virus? Go to previous question Choose an option Self-assessment tool to help determine if your symptoms require further care What are the symptoms? How long do symptoms take to appear? Treatment? Should I call my doctor? Go to previous question Choose an option For communities, including child and youth settings and outdoor spaces How do I care for a person with COVID-19 at home? Public health measures to prevent and reduce the spread of COVID-19 in the workplace Are gatherings still allowed to take place? Go to previous question Which type of individual support are you interested in? Individuals and families Go to previous question Which type of business support are you interested in? Avoiding layoffs, rehiring employees and creating new jobs Financial support, loans and access to credit Self-employed individuals Indigenous businesses Go to previous question Which type of sector support are you interested in? Agriculture and agri-food Aquaculture and fisheries Cultural, heritage and sport Energy Infrastructure Go to previous question Would you like to learn more about: Vulnerable populations Indigenous organizations and communities Go to previous question Would you like to learn more about: Employment Insurance (EI) program Canada Recovery Benefit (CRB) Canada Recovery Sickness Benefit (CRSB) Canada Recovery Caregiving Benefit (CRCB) Mortgage payment deferral Provincial and territorial support Go to previous question Would you like to learn more about: Canada Emergency Wage Subsidy (CEWS) Extending the Work-Sharing program Go to previous question Would you like to learn more about: Canada Emergency Business Account (CEBA) interest-free loans Canada Emergency Rent Subsidy (CERS) Highly Affected Sectors Credit Availability Program (HASCAP) Loan Guarantee for Small and Medium-Sized Enterprises Co-Lending Program for Small and Medium-Sized Enterprises Regional Relief and Recovery Fund (RRRF) Black Entrepreneurship Loan Fund Mid-Market Financing Program Mid-Market Guarantee and Financing Program Large Employer Emergency Financing Facility (LEEFF) Additional support by sector Provincial and territorial support Go to previous question Would you like to learn more about: Canada Recovery Benefit (CRB) Canada Recovery Sickness Benefit (CRSB) Canada Recovery Caregiving Benefit (CRCB) Go to previous question Would you like to learn more about: Relief measures for Indigenous businesses Supporting business through the pandemic and into recovery Go to previous question Would you like to learn more about: Keeping workers in the food supply chain safe Increasing credit availability Protecting the health and safety of farm workers Increasing interim payments from 50% to 75% through AgriStability Expanding AgriInsurance to include labour shortage Additional support for your business Go to previous question Would you like to learn more about: Support for Independent production companies Additional support for your business Go to previous question Would you like to learn more about: Launching the Emissions Reduction Fund Additional support for your business Go to previous question Would you like to learn more about: Keeping workers in the food supply chain safe Increasing credit availability Assisting the fish and seafood processing sector Changes to Employment Insurance (EI) fishing benefits Additional support for your business Go to previous question Would you like to learn more about: Flexible funding for community resilience Supporting communities: new ways to adapt spaces and services Additional support for your business Go to previous question Would you like to learn more about: Supporting women and children experiencing violence Additional support for your organization Go to previous question Would you like to learn more about: Addressing immediate needs in Indigenous communities Additional support for your organization Go to previous question Thank you! I have found a page that may help. Search What COVID-19 information do you need? Travel Testing and quarantine requirements Find out if you can travel to Canada Travel restrictions in Canada Quarantine and isolation for travellers Compassionate exemptions Registration of Canadians Abroad service Check if you have been exposed during recent travel Income support Get a list of benefits and support tailored to you CERB has ended what happens next? Health and safety Prevention and vaccines Wearing masks Physical distancing and how it helps minimize COVID-19 Hygiene COVID-19 vaccines overview Vaccine distribution Vaccine safety and possible side effects Authorized vaccines Risks and spread Difference between quarantine vs isolate Surface contamination How can I go out safely during the COVID-19 pandemic? Which people are at risk of severe outcomes? Pregnancy and risks related to COVID-19 Can COVID-19 be transmitted through food? Can my pet or other animals get sick from this virus? Symptoms and treatment Self-assessment tool to help determine if your symptoms require further care What are the symptoms? How long do symptoms take to appear? Treatment? Should I call my doctor? Reduce COVID-19 in your community For communities, including child and youth settings and outdoor spaces How do I care for a person with COVID-19 at home? Public health measures to prevent and reduce the spread of COVID-19 in the workplace Are gatherings still allowed to take place? What can I do to care for my mental and physical health? Drug and medical device supply monitoring For clinical trial sponsors Additional economic and financial support Individuals Individuals and families Employment Insurance (EI) program Canada Recovery Benefit (CRB) Canada Recovery Sickness Benefit (CRSB) Canada Recovery Caregiving Benefit (CRCB) Mortgage payment deferral Provincial and territorial support Support for businesses Avoiding layoffs, rehiring employees and creating new jobs Canada Emergency Wage Subsidy (CEWS) Extending the Work-Sharing program Financial support, loans and access to credit Canada Emergency Business Account (CEBA) interest-free loans Canada Emergency Rent Subsidy (CERS) Highly Affected Sectors Credit Availability Program (HASCAP) Loan Guarantee for Small and Medium-Sized Enterprises Co-Lending Program for Small and Medium-Sized Enterprises Regional Relief and Recovery Fund (RRRF) Black Entrepreneurship Loan Fund Mid-Market Financing Program Mid-Market Guarantee and Financing Program Large Employer Emergency Financing Facility (LEEFF) Additional support by sector Provincial and territorial support Self-employed individuals Canada Recovery Benefit (CRB) Canada Recovery Sickness Benefit (CRSB) Canada Recovery Caregiving Benefit (CRCB) Indigenous businesses Relief measures for Indigenous businesses Supporting business through the pandemic and into recovery Support for sectors Agriculture and agri-food Keeping workers in the food supply chain safe Increasing credit availability Protecting the health and safety of farm workers Increasing interim payments from 50% to 75% through AgriStability Expanding AgriInsurance to include labour shortage Additional support for your business Aquaculture and fisheries Keeping workers in the food supply chain safe Increasing credit availability Assisting the fish and seafood processing sector Changes to Employment Insurance (EI) fishing benefits Additional support for your business Cultural, heritage and sport Support for Independent production companies Additional support for your business Energy Launching the Emissions Reduction Fund Additional support for your business Infrastructure Flexible funding for community resilience Supporting communities: new ways to adapt spaces and services Additional support for your business Organizations helping Canadians Vulnerable populations Supporting women and children experiencing violence Additional support for your organization Indigenous organizations and communities Addressing immediate needs in Indigenous communities Additional support for your organization Foreign workers coming to Canada Arriving in Canada and mandatory quarantine Health requirements and general guidance Compliance and inspections About COVID-19 E-mail updates on COVID-19 Current confirmed number of COVID-19 cases in Canada More details about the cases reported in Canada How does it spread? Where can I get information specific to my province or territory? How governments are working together How can I make a difference in Canada’s COVID-19 response efforts? Resources for parents and children Resources for youth, students and young adults Resources for seniors and their caregivers Resources for Indigenous communities People with disabilities Report a problem or mistake on this page Please select all that apply: A link, button or video is not working It has a spelling mistake Information is missing Information is outdated or wrong Login error when trying to access an account (e.g. My Service Canada Account) GC Key access SecureKey Concierge (Banking Credential) access Personal Access Code (PAC) problems or EI Access Code (AC) problems Social Insurance Number (SIN) validation problems Other login error not in this list I can't find what I'm looking for Other issue not in this list Submit Thank you for your help! You will not receive a reply. For enquiries, contact us. Date modified: 2021-03-01 About government Contact us Departments and agencies Public service and military News Treaties, laws and regulations Government-wide reporting Prime Minister About government Open government About this site Social media Mobile applications About Canada.ca Terms and conditions Privacy Top of page   \n",
              "\n",
              "                                                                                                                                                                                                                                                                                                                                                                                                                                                                                                                                                                                                                                                                                                                                                                                                                                                                                                                                                                                                                                                                                                                                                                                                                                                                                                                                                                                                                                                                                                                                                                                                                                                                                                                                                                                                                                                                                                                                                                                                                                                                                                                                                                                                                                                                                                                                                                                                                                                                                                                                                                                                                                                                                                                                                                                                                                                                                                                                                                                                                                                                                                                                                                                                                                                                                                                                                                                                                                                                                                                                                                                                                                                                                                                                                                                                                                                                                                                                                                                                                                                                                                                                                                                                                                                                                                                                                                                                                                                                                                                                                                                                                                                                                                                                                                                                                                                                                                                                                                                                                                                                                                                                                                                                                                                                                                                                                                                                                                                                                                                                                                                                                                                                                                                                                                                                                                                                                                                                                                                                                                                                                                                                                                                                                                                                                                                                                                                                                                                                                                                                                                                                                                                                                                                                                                                                                                                                                                                                                                                                                                                                                                                                                                                                                                                                                                                                                                                                                                                                                                                                                                                                                                                                                                                                                                                                                                                                                                                                                                                                                                                                                                                                                                                                                                                                                                                                                                                                                                                                                                                                                                                                                                                                                                                                                                                                                                                                                                                                                                                                                                                                                                                                                                                                                                                                                                                                                                                                                                                                                                                                                                                                                                                                                                                                                                                                                                                                                                                                                                                                                                                                                                                                                                                                                                                                                                                                                                                                                                                                                                                                                                                                                                                                                                                                                                                                                                                                                                                                                                                                                                                                                                                                                                                                                                                                                                                                                                                                                                                                                                                                                                                                                                                                                                                                                                                                                                                                                                                                      filtered_content  \\\n",
              "51  Coronavirus disease  COVID19  outbreak updates  symptoms  prevention  travel  preparation  Canadaca Skip main content Skip  government  Language selection Français fr  Gouvernement du Canada Search Search Canadaca Search Menu Main Menu Jobs workplace Immigration citizenship Travel tourism Business industry Benefits Health Taxes Environment natural resources National security defence Culture  history sport Policing  justice emergencies Transport infrastructure Canada world Money finances Science innovation  Canadaca Coronavirus disease  COVID19  Current situation COVID19 outbreak update Latest announcements Epidemiological economic research data Canada s response Vaccines Vaccines  rollout  safety Authorized vaccines Travel immigration Travel  quarantine borders ArriveCAN Immigration citizenship Recent flights potential COVID19 exposure Financial economic support individuals businesses Canada Emergency Rent Subsidy  CERS  Canada Emergency Wage Subsidy  CEWS  health Take selfassessment Symptoms treatment Prevention risks Mental physical wellbeing Nonmedical masks Quarantine  selfisolate  isolate Limiting spread Government guidance Testing COVID Alert app COVIDTrends Personal protective equipment medical supplies Focus Health professionals Health product industry Food industry Business Seniors Veterans Indigenous communities Parents children Youth  students young adults Government Canada employees COVID19 Canada March 25  2021  700 pm EST Total tests performed 26977663 Total cases 951562 Active cases 38922 Recovered 889850 Deaths 22790 Provincial territorial case numbers Features Digital tools COVID19 applications interactive tools help stay informed Awareness resources Printable information videos  resources available multiple languages Frauds scams Known scams  frauds  report  COVID19 Virtual Assistant question  Start  COVID19 information need  Travel Income support Health safety Additional economic financial support Foreign workers coming Canada COVID19 Choose topic Prevention vaccines Risks spread Symptoms treatment Reduce COVID19 community care mental physical health  Drug medical device supply monitoring clinical trial sponsors Go previous question type support interested  Individuals Businesses Sectors Organizations helping Canadians Go previous question Choose option Email updates COVID19 Current confirmed number COVID19 cases Canada details cases reported Canada spread  get information specific province territory  governments working together make difference Canada  COVID19 response efforts  Resources parents children Resources youth  students young adults Resources seniors caregivers Resources Indigenous communities People disabilities Go previous question Choose option Get list benefits support tailored CERB ended happens next  Go previous question Choose option Testing quarantine requirements Find travel Canada Travel restrictions Canada Quarantine isolation travellers Compassionate exemptions Registration Canadians Abroad service Check exposed recent travel Go previous question foreign worker foreign worker employer Arriving Canada mandatory quarantine Health requirements general guidance Compliance inspections Go previous question Choose option Wearing masks Physical distancing helps minimize COVID19 Hygiene COVID19 vaccines overview Vaccine distribution Vaccine safety possible side effects Authorized vaccines Go previous question Choose option Difference quarantine vs isolate Surface contamination go safely COVID19 pandemic  people risk severe outcomes  Pregnancy risks related COVID19 COVID19 transmitted food  pet animals get sick virus  Go previous question Choose option Selfassessment tool help determine symptoms require care symptoms  long symptoms take appear  Treatment  call doctor  Go previous question Choose option communities  including child youth settings outdoor spaces care person COVID19 home  Public health measures prevent reduce spread COVID19 workplace gatherings still allowed take place  Go previous question type individual support interested  Individuals families Go previous question type business support interested  Avoiding layoffs  rehiring employees creating new jobs Financial support  loans access credit Selfemployed individuals Indigenous businesses Go previous question type sector support interested  Agriculture agrifood Aquaculture fisheries Cultural  heritage sport Energy Infrastructure Go previous question Would like learn  Vulnerable populations Indigenous organizations communities Go previous question Would like learn  Employment Insurance  EI  program Canada Recovery Benefit  CRB  Canada Recovery Sickness Benefit  CRSB  Canada Recovery Caregiving Benefit  CRCB  Mortgage payment deferral Provincial territorial support Go previous question Would like learn  Canada Emergency Wage Subsidy  CEWS  Extending WorkSharing program Go previous question Would like learn  Canada Emergency Business Account  CEBA  interestfree loans Canada Emergency Rent Subsidy  CERS  Highly Affected Sectors Credit Availability Program  HASCAP  Loan Guarantee Small MediumSized Enterprises CoLending Program Small MediumSized Enterprises Regional Relief Recovery Fund  RRRF  Black Entrepreneurship Loan Fund MidMarket Financing Program MidMarket Guarantee Financing Program Large Employer Emergency Financing Facility  LEEFF  Additional support sector Provincial territorial support Go previous question Would like learn  Canada Recovery Benefit  CRB  Canada Recovery Sickness Benefit  CRSB  Canada Recovery Caregiving Benefit  CRCB  Go previous question Would like learn  Relief measures Indigenous businesses Supporting business pandemic recovery Go previous question Would like learn  Keeping workers food supply chain safe Increasing credit availability Protecting health safety farm workers Increasing interim payments 50  75  AgriStability Expanding AgriInsurance include labour shortage Additional support business Go previous question Would like learn  Support Independent production companies Additional support business Go previous question Would like learn  Launching Emissions Reduction Fund Additional support business Go previous question Would like learn  Keeping workers food supply chain safe Increasing credit availability Assisting fish seafood processing sector Changes Employment Insurance  EI  fishing benefits Additional support business Go previous question Would like learn  Flexible funding community resilience Supporting communities  new ways adapt spaces services Additional support business Go previous question Would like learn  Supporting women children experiencing violence Additional support organization Go previous question Would like learn  Addressing immediate needs Indigenous communities Additional support organization Go previous question Thank  found page may help  Search COVID19 information need  Travel Testing quarantine requirements Find travel Canada Travel restrictions Canada Quarantine isolation travellers Compassionate exemptions Registration Canadians Abroad service Check exposed recent travel Income support Get list benefits support tailored CERB ended happens next  Health safety Prevention vaccines Wearing masks Physical distancing helps minimize COVID19 Hygiene COVID19 vaccines overview Vaccine distribution Vaccine safety possible side effects Authorized vaccines Risks spread Difference quarantine vs isolate Surface contamination go safely COVID19 pandemic  people risk severe outcomes  Pregnancy risks related COVID19 COVID19 transmitted food  pet animals get sick virus  Symptoms treatment Selfassessment tool help determine symptoms require care symptoms  long symptoms take appear  Treatment  call doctor  Reduce COVID19 community communities  including child youth settings outdoor spaces care person COVID19 home  Public health measures prevent reduce spread COVID19 workplace gatherings still allowed take place  care mental physical health  Drug medical device supply monitoring clinical trial sponsors Additional economic financial support Individuals Individuals families Employment Insurance  EI  program Canada Recovery Benefit  CRB  Canada Recovery Sickness Benefit  CRSB  Canada Recovery Caregiving Benefit  CRCB  Mortgage payment deferral Provincial territorial support Support businesses Avoiding layoffs  rehiring employees creating new jobs Canada Emergency Wage Subsidy  CEWS  Extending WorkSharing program Financial support  loans access credit Canada Emergency Business Account  CEBA  interestfree loans Canada Emergency Rent Subsidy  CERS  Highly Affected Sectors Credit Availability Program  HASCAP  Loan Guarantee Small MediumSized Enterprises CoLending Program Small MediumSized Enterprises Regional Relief Recovery Fund  RRRF  Black Entrepreneurship Loan Fund MidMarket Financing Program MidMarket Guarantee Financing Program Large Employer Emergency Financing Facility  LEEFF  Additional support sector Provincial territorial support Selfemployed individuals Canada Recovery Benefit  CRB  Canada Recovery Sickness Benefit  CRSB  Canada Recovery Caregiving Benefit  CRCB  Indigenous businesses Relief measures Indigenous businesses Supporting business pandemic recovery Support sectors Agriculture agrifood Keeping workers food supply chain safe Increasing credit availability Protecting health safety farm workers Increasing interim payments 50  75  AgriStability Expanding AgriInsurance include labour shortage Additional support business Aquaculture fisheries Keeping workers food supply chain safe Increasing credit availability Assisting fish seafood processing sector Changes Employment Insurance  EI  fishing benefits Additional support business Cultural  heritage sport Support Independent production companies Additional support business Energy Launching Emissions Reduction Fund Additional support business Infrastructure Flexible funding community resilience Supporting communities  new ways adapt spaces services Additional support business Organizations helping Canadians Vulnerable populations Supporting women children experiencing violence Additional support organization Indigenous organizations communities Addressing immediate needs Indigenous communities Additional support organization Foreign workers coming Canada Arriving Canada mandatory quarantine Health requirements general guidance Compliance inspections COVID19 Email updates COVID19 Current confirmed number COVID19 cases Canada details cases reported Canada spread  get information specific province territory  governments working together make difference Canada  COVID19 response efforts  Resources parents children Resources youth  students young adults Resources seniors caregivers Resources Indigenous communities People disabilities Report problem mistake page Please select apply  link  button video working spelling mistake Information missing Information outdated wrong Login error trying access account  eg  Service Canada Account  GC Key access SecureKey Concierge  Banking Credential  access Personal Access Code  PAC  problems EI Access Code  AC  problems Social Insurance Number  SIN  validation problems login error list ca nt find m looking issue list Submit Thank help  receive reply  enquiries  contact us  Date modified  20210301 government Contact us Departments agencies Public service military News Treaties  laws regulations Governmentwide reporting Prime Minister government Open government site Social media Mobile applications Canadaca Terms conditions Privacy Top page   \n",
              "\n",
              "                                                                                                                                                                                                                                                                                                                                                                                                                                                                                                                                                                                                                                                                                                                                                                                                                                                                                                                                                                                                 words  \\\n",
              "51  [coronavirus, disease, covid19, outbreak, updates, symptoms, prevention, travel, preparation, canadaca, skip, main, content, skip, government, language, selection, français, fr, gouvernement, du, canada, search, search, canadaca, search, menu, main, menu, jobs, workplace, immigration, citizenship, travel, tourism, business, industry, benefits, health, taxes, environment, natural, resources, national, security, defence, culture, history, sport, policing, justice, emergencies, transport, infrastructure, canada, world, money, finances, science, innovation, canadaca, coronavirus, disease, covid19, current, situation, covid19, outbreak, update, latest, announcements, epidemiological, economic, research, data, canada, s, response, vaccines, vaccines, rollout, safety, authorized, vaccines, travel, immigration, travel, quarantine, borders, arrivecan, immigration, citizenship, recent, flights, potential, covid19, exposure, financial, economic, support, ...]   \n",
              "\n",
              "    polarity  subjectivity  filtered_polarity  filtered_subjectivity  \\\n",
              "51  0.047421  0.337451      0.004127           0.316184                \n",
              "\n",
              "   polarity_type subjectivity_type filtered_polarity_type  \\\n",
              "51  Positive      Objective         Positive                \n",
              "\n",
              "   filtered_subjectivity_type  \n",
              "51  Objective                  "
            ]
          },
          "metadata": {},
          "execution_count": 18
        }
      ]
    },
    {
      "cell_type": "code",
      "metadata": {
        "id": "qyL6GGQS9m-I",
        "colab": {
          "base_uri": "https://localhost:8080/",
          "height": 354
        },
        "outputId": "01f948a7-99d1-49a7-801f-318ff396cdea"
      },
      "source": [
        "#note: the polarity and subjectivity are displayed on two separate graphs instead of a double line graph because \n",
        "#the polarity can range from -1.0 to 1.0, while subjectivity can only range from 0.0 to 1.0\n",
        "\n",
        "plt.style.use('ggplot')\n",
        "plt.figure(figsize = (20, 5))\n",
        "plt.plot(sentiment_specific_url['crawl_date'], sentiment_specific_url['polarity'])\n",
        "plt.title(url_link+ ' Polarity Analysis')"
      ],
      "execution_count": null,
      "outputs": [
        {
          "output_type": "execute_result",
          "data": {
            "text/plain": [
              "Text(0.5, 1.0, 'https://www.canada.ca/en/public-health/services/diseases/coronavirus-disease-covid-19.html Polarity Analysis')"
            ]
          },
          "metadata": {},
          "execution_count": 19
        },
        {
          "output_type": "display_data",
          "data": {
            "image/png": "[encoded data removed]",
            "text/plain": [
              "<Figure size 1440x360 with 1 Axes>"
            ]
          },
          "metadata": {}
        }
      ]
    },
    {
      "cell_type": "code",
      "metadata": {
        "id": "xYqAujai8X1h",
        "colab": {
          "base_uri": "https://localhost:8080/",
          "height": 350
        },
        "outputId": "314eb7f7-a916-44ea-c0bb-af9a1fc6a0f3"
      },
      "source": [
        "plt.style.use('bmh')\n",
        "plt.figure(figsize = (20, 5))\n",
        "plt.plot(sentiment_specific_url['crawl_date'], sentiment_specific_url['subjectivity'])\n",
        "plt.title(str(url_link)+ 'Subjectivity Analysis')"
      ],
      "execution_count": null,
      "outputs": [
        {
          "output_type": "execute_result",
          "data": {
            "text/plain": [
              "Text(0.5, 1.0, 'https://www.canada.ca/en/public-health/services/diseases/coronavirus-disease-covid-19.htmlSubjectivity Analysis')"
            ]
          },
          "metadata": {},
          "execution_count": 20
        },
        {
          "output_type": "display_data",
          "data": {
            "image/png": "[encoded data removed]",
            "text/plain": [
              "<Figure size 1440x360 with 1 Axes>"
            ]
          },
          "metadata": {}
        }
      ]
    },
    {
      "cell_type": "markdown",
      "metadata": {
        "id": "hlyPHn7OaxbR"
      },
      "source": [
        "##URL Specific Article Changes Calculations (Levenshtein Distance)\n",
        "Below we calculated the change in polarity and subjectivity from the previous article. We will then compare the articles and return a count of the number of words that were not found in the previous article. \n",
        "\n",
        "Applying Levenshtein Distance, we want to find how different the words had changed after the article had been edited. The average distance is then returned."
      ]
    },
    {
      "cell_type": "code",
      "metadata": {
        "id": "N0YI3ad4i_FQ"
      },
      "source": [
        "#compare the words that were removed in the previous verison, to the words added to the new verison using levenshtein distance. \n",
        "#returning the average distance\n",
        "def levenshteinDistance(words_removed_prev, words_added_new, previous_content, new_content):\n",
        "  lev_total = 0\n",
        "  lev_count = 0\n",
        "  \n",
        "  for prev_word, new_word in zip(words_removed_prev, words_added_new):\n",
        "    lev_total = lev_total + lev(prev_word, new_word)\n",
        "    lev_count = lev_count +1\n",
        "\n",
        "  if (lev_count>0):\n",
        "    return lev_total/lev_count\n",
        "  else:\n",
        "    return 0"
      ],
      "execution_count": null,
      "outputs": []
    },
    {
      "cell_type": "code",
      "metadata": {
        "colab": {
          "base_uri": "https://localhost:8080/",
          "height": 719
        },
        "id": "g1uUNdYEFaIz",
        "outputId": "47b6d809-296f-4cdd-c0b9-a2b66bbcdaa9"
      },
      "source": [
        "changes_in_article = sentiment_specific_url\n",
        "\n",
        "for i in range(1, len(sentiment_specific_url)):\n",
        "  changes_in_article.loc[i, 'polarity_change'] = changes_in_article.loc[i, 'polarity'] - changes_in_article.loc[i-1, 'polarity']\n",
        "  changes_in_article.loc[i, 'subjectivity_change'] = changes_in_article.loc[i, 'subjectivity'] - changes_in_article.loc[i-1, 'subjectivity']\n",
        "\n",
        "  previous_content = changes_in_article.loc[i-1, 'content'].lower().split()\n",
        "  new_content = changes_in_article.loc[i, 'content'].lower().split()\n",
        "\n",
        "  prev_content_list = []\n",
        "  new_content_list = []\n",
        "  for w in previous_content:\n",
        "    if w.isalpha():\n",
        "      prev_content_list.append(w)\n",
        "  \n",
        "  for w in new_content:\n",
        "    if w.isalpha():\n",
        "      new_content_list.append(w)\n",
        "\n",
        "  #words that were in the previous verison, and were removed from the new edit\n",
        "  words_removed_prev = []\n",
        "  for word in prev_content_list:\n",
        "    if word not in new_content_list:\n",
        "      words_removed_prev.append(word)\n",
        "\n",
        "  #words that were added in the new verison, and were not in the previous edit\n",
        "  words_added_new = []\n",
        "  for word in new_content_list:\n",
        "    if word not in previous_content_list:\n",
        "      words_added_new.append(word)\n",
        "\n",
        "  changes_in_article.loc[i, 'missing_words'] = '  '.join(words_removed_prev).join(words_added_new)\n",
        "  changes_in_article.loc[i, 'levenshtein_distance'] = levenshteinDistance(words_removed_prev, words_added_new, previous_content, new_content)\n",
        "  changes_in_article.loc[i, 'count_different_words'] = len(words_removed_prev) + len(words_added_new)\n",
        "\n",
        "\n",
        "#changes_in_article.head(2)\n",
        "changes_in_article[['crawl_date', 'domain', 'url', 'mime_type_web_server', 'mime_type_tika', 'language', \n",
        "                    'polarity_change', 'subjectivity_change', 'count_different_words', 'levenshtein_distance']].head(10)"
      ],
      "execution_count": null,
      "outputs": [
        {
          "output_type": "execute_result",
          "data": {
            "text/html": [
              "<div>\n",
              "<style scoped>\n",
              "    .dataframe tbody tr th:only-of-type {\n",
              "        vertical-align: middle;\n",
              "    }\n",
              "\n",
              "    .dataframe tbody tr th {\n",
              "        vertical-align: top;\n",
              "    }\n",
              "\n",
              "    .dataframe thead th {\n",
              "        text-align: right;\n",
              "    }\n",
              "</style>\n",
              "<table border=\"1\" class=\"dataframe\">\n",
              "  <thead>\n",
              "    <tr style=\"text-align: right;\">\n",
              "      <th></th>\n",
              "      <th>crawl_date</th>\n",
              "      <th>domain</th>\n",
              "      <th>url</th>\n",
              "      <th>mime_type_web_server</th>\n",
              "      <th>mime_type_tika</th>\n",
              "      <th>language</th>\n",
              "      <th>polarity_change</th>\n",
              "      <th>subjectivity_change</th>\n",
              "      <th>count_different_words</th>\n",
              "      <th>levenshtein_distance</th>\n",
              "    </tr>\n",
              "  </thead>\n",
              "  <tbody>\n",
              "    <tr>\n",
              "      <th>0</th>\n",
              "      <td>2020-04-08</td>\n",
              "      <td>canada.ca</td>\n",
              "      <td>https://www.canada.ca/en/public-health/services/diseases/coronavirus-disease-covid-19.html</td>\n",
              "      <td>text/html</td>\n",
              "      <td>text/html</td>\n",
              "      <td>en</td>\n",
              "      <td>NaN</td>\n",
              "      <td>NaN</td>\n",
              "      <td>NaN</td>\n",
              "      <td>NaN</td>\n",
              "    </tr>\n",
              "    <tr>\n",
              "      <th>1</th>\n",
              "      <td>2020-04-17</td>\n",
              "      <td>canada.ca</td>\n",
              "      <td>https://www.canada.ca/en/public-health/services/diseases/coronavirus-disease-covid-19.html</td>\n",
              "      <td>text/html</td>\n",
              "      <td>text/html</td>\n",
              "      <td>en</td>\n",
              "      <td>0.026251</td>\n",
              "      <td>-0.014749</td>\n",
              "      <td>286.0</td>\n",
              "      <td>6.450000</td>\n",
              "    </tr>\n",
              "    <tr>\n",
              "      <th>2</th>\n",
              "      <td>2020-04-24</td>\n",
              "      <td>canada.ca</td>\n",
              "      <td>https://www.canada.ca/en/public-health/services/diseases/coronavirus-disease-covid-19.html</td>\n",
              "      <td>text/html</td>\n",
              "      <td>text/html</td>\n",
              "      <td>en</td>\n",
              "      <td>0.023620</td>\n",
              "      <td>0.007985</td>\n",
              "      <td>279.0</td>\n",
              "      <td>6.400000</td>\n",
              "    </tr>\n",
              "    <tr>\n",
              "      <th>3</th>\n",
              "      <td>2020-05-04</td>\n",
              "      <td>canada.ca</td>\n",
              "      <td>https://www.canada.ca/en/public-health/services/diseases/coronavirus-disease-covid-19.html</td>\n",
              "      <td>text/html</td>\n",
              "      <td>text/html</td>\n",
              "      <td>en</td>\n",
              "      <td>0.008127</td>\n",
              "      <td>-0.003578</td>\n",
              "      <td>298.0</td>\n",
              "      <td>6.846154</td>\n",
              "    </tr>\n",
              "    <tr>\n",
              "      <th>4</th>\n",
              "      <td>2020-05-15</td>\n",
              "      <td>canada.ca</td>\n",
              "      <td>https://www.canada.ca/en/public-health/services/diseases/coronavirus-disease-covid-19.html</td>\n",
              "      <td>text/html</td>\n",
              "      <td>text/html</td>\n",
              "      <td>en</td>\n",
              "      <td>0.005447</td>\n",
              "      <td>-0.013883</td>\n",
              "      <td>617.0</td>\n",
              "      <td>7.487805</td>\n",
              "    </tr>\n",
              "    <tr>\n",
              "      <th>5</th>\n",
              "      <td>2020-05-22</td>\n",
              "      <td>canada.ca</td>\n",
              "      <td>https://www.canada.ca/en/public-health/services/diseases/coronavirus-disease-covid-19.html</td>\n",
              "      <td>text/html</td>\n",
              "      <td>text/html</td>\n",
              "      <td>en</td>\n",
              "      <td>-0.001614</td>\n",
              "      <td>-0.003040</td>\n",
              "      <td>593.0</td>\n",
              "      <td>6.400000</td>\n",
              "    </tr>\n",
              "    <tr>\n",
              "      <th>6</th>\n",
              "      <td>2020-05-29</td>\n",
              "      <td>canada.ca</td>\n",
              "      <td>https://www.canada.ca/en/public-health/services/diseases/coronavirus-disease-covid-19.html</td>\n",
              "      <td>text/html</td>\n",
              "      <td>text/html</td>\n",
              "      <td>en</td>\n",
              "      <td>-0.001295</td>\n",
              "      <td>0.000267</td>\n",
              "      <td>590.0</td>\n",
              "      <td>0.000000</td>\n",
              "    </tr>\n",
              "    <tr>\n",
              "      <th>7</th>\n",
              "      <td>2020-05-29</td>\n",
              "      <td>canada.ca</td>\n",
              "      <td>https://www.canada.ca/en/public-health/services/diseases/coronavirus-disease-covid-19.html</td>\n",
              "      <td>text/html</td>\n",
              "      <td>text/html</td>\n",
              "      <td>en</td>\n",
              "      <td>0.000000</td>\n",
              "      <td>0.000000</td>\n",
              "      <td>590.0</td>\n",
              "      <td>0.000000</td>\n",
              "    </tr>\n",
              "    <tr>\n",
              "      <th>8</th>\n",
              "      <td>2020-06-05</td>\n",
              "      <td>canada.ca</td>\n",
              "      <td>https://www.canada.ca/en/public-health/services/diseases/coronavirus-disease-covid-19.html</td>\n",
              "      <td>text/html</td>\n",
              "      <td>text/html</td>\n",
              "      <td>en</td>\n",
              "      <td>0.000492</td>\n",
              "      <td>-0.000496</td>\n",
              "      <td>595.0</td>\n",
              "      <td>8.000000</td>\n",
              "    </tr>\n",
              "    <tr>\n",
              "      <th>9</th>\n",
              "      <td>2020-06-12</td>\n",
              "      <td>canada.ca</td>\n",
              "      <td>https://www.canada.ca/en/public-health/services/diseases/coronavirus-disease-covid-19.html</td>\n",
              "      <td>text/html</td>\n",
              "      <td>text/html</td>\n",
              "      <td>en</td>\n",
              "      <td>0.003263</td>\n",
              "      <td>-0.001635</td>\n",
              "      <td>623.0</td>\n",
              "      <td>7.352941</td>\n",
              "    </tr>\n",
              "  </tbody>\n",
              "</table>\n",
              "</div>"
            ],
            "text/plain": [
              "  crawl_date     domain  \\\n",
              "0 2020-04-08  canada.ca   \n",
              "1 2020-04-17  canada.ca   \n",
              "2 2020-04-24  canada.ca   \n",
              "3 2020-05-04  canada.ca   \n",
              "4 2020-05-15  canada.ca   \n",
              "5 2020-05-22  canada.ca   \n",
              "6 2020-05-29  canada.ca   \n",
              "7 2020-05-29  canada.ca   \n",
              "8 2020-06-05  canada.ca   \n",
              "9 2020-06-12  canada.ca   \n",
              "\n",
              "                                                                                          url  \\\n",
              "0  https://www.canada.ca/en/public-health/services/diseases/coronavirus-disease-covid-19.html   \n",
              "1  https://www.canada.ca/en/public-health/services/diseases/coronavirus-disease-covid-19.html   \n",
              "2  https://www.canada.ca/en/public-health/services/diseases/coronavirus-disease-covid-19.html   \n",
              "3  https://www.canada.ca/en/public-health/services/diseases/coronavirus-disease-covid-19.html   \n",
              "4  https://www.canada.ca/en/public-health/services/diseases/coronavirus-disease-covid-19.html   \n",
              "5  https://www.canada.ca/en/public-health/services/diseases/coronavirus-disease-covid-19.html   \n",
              "6  https://www.canada.ca/en/public-health/services/diseases/coronavirus-disease-covid-19.html   \n",
              "7  https://www.canada.ca/en/public-health/services/diseases/coronavirus-disease-covid-19.html   \n",
              "8  https://www.canada.ca/en/public-health/services/diseases/coronavirus-disease-covid-19.html   \n",
              "9  https://www.canada.ca/en/public-health/services/diseases/coronavirus-disease-covid-19.html   \n",
              "\n",
              "  mime_type_web_server mime_type_tika language  polarity_change  \\\n",
              "0  text/html            text/html      en      NaN                \n",
              "1  text/html            text/html      en       0.026251          \n",
              "2  text/html            text/html      en       0.023620          \n",
              "3  text/html            text/html      en       0.008127          \n",
              "4  text/html            text/html      en       0.005447          \n",
              "5  text/html            text/html      en      -0.001614          \n",
              "6  text/html            text/html      en      -0.001295          \n",
              "7  text/html            text/html      en       0.000000          \n",
              "8  text/html            text/html      en       0.000492          \n",
              "9  text/html            text/html      en       0.003263          \n",
              "\n",
              "   subjectivity_change  count_different_words  levenshtein_distance  \n",
              "0 NaN                  NaN                    NaN                    \n",
              "1 -0.014749             286.0                  6.450000              \n",
              "2  0.007985             279.0                  6.400000              \n",
              "3 -0.003578             298.0                  6.846154              \n",
              "4 -0.013883             617.0                  7.487805              \n",
              "5 -0.003040             593.0                  6.400000              \n",
              "6  0.000267             590.0                  0.000000              \n",
              "7  0.000000             590.0                  0.000000              \n",
              "8 -0.000496             595.0                  8.000000              \n",
              "9 -0.001635             623.0                  7.352941              "
            ]
          },
          "metadata": {},
          "execution_count": 31
        }
      ]
    },
    {
      "cell_type": "code",
      "metadata": {
        "colab": {
          "base_uri": "https://localhost:8080/"
        },
        "id": "YyJKRuEx5evP",
        "outputId": "1db8b0f8-3fbd-4142-8c64-bbaf0bc2771a"
      },
      "source": [
        "print(changes_in_article['levenshtein_distance'].mean())"
      ],
      "execution_count": null,
      "outputs": [
        {
          "output_type": "stream",
          "name": "stdout",
          "text": [
            "4.595232315180884\n"
          ]
        }
      ]
    },
    {
      "cell_type": "markdown",
      "metadata": {
        "id": "PGpKrxb2lFcM"
      },
      "source": [
        "##Spearman's Correlation for Levenshtein Distance and Sentiment Changes\n",
        "*   [-1] a perfect negative relationship between two variables\n",
        "*   [0]  no relationship between two variables\n",
        "*   [1]  a perfect positive relationship between two variables"
      ]
    },
    {
      "cell_type": "code",
      "metadata": {
        "colab": {
          "base_uri": "https://localhost:8080/"
        },
        "id": "cRYvLiupcVZd",
        "outputId": "f6c75c22-3a59-4730-a090-5baa145f19b5"
      },
      "source": [
        "from scipy import stats\n",
        "spearman_df = changes_in_article.drop(index=[0])\n",
        "\n",
        "polarity_change = spearman_df['polarity_change'].to_list()\n",
        "subjectivity_change = spearman_df['subjectivity_change'].to_list()\n",
        "levenshtein_calculations = spearman_df['levenshtein_distance'].to_list()\n",
        "\n",
        "#stats.spearmanr([1,2,3,4,5], [5,6,7,8,7])\n",
        "polarity_levenshtein = stats.spearmanr(polarity_change, levenshtein_calculations)\n",
        "subjectivity_levenshtein = stats.spearmanr(subjectivity_change, levenshtein_calculations)\n",
        "\n",
        "print(polarity_levenshtein)\n",
        "print(subjectivity_levenshtein)"
      ],
      "execution_count": null,
      "outputs": [
        {
          "output_type": "stream",
          "name": "stdout",
          "text": [
            "SpearmanrResult(correlation=0.03972350308161859, pvalue=0.7440495886950336)\n",
            "SpearmanrResult(correlation=-0.18664701271665968, pvalue=0.12183593671435583)\n"
          ]
        }
      ]
    },
    {
      "cell_type": "markdown",
      "metadata": {
        "id": "rEm_xKiuj1pB"
      },
      "source": [
        "##Identify any Articles with Varying Sentiments\n",
        "\n",
        "Using drop_duplicates, we will remove all records with the same url and sentiment, keeping only those with differing crawl_dates, and sentiment types. However, because drop_duplicate will keep all unique rows, we will then need to apply duplicated() to locate all rows with duplicate url fields. The end result will pull in all duplicate urls with different sentiment types."
      ]
    },
    {
      "cell_type": "code",
      "metadata": {
        "id": "hQIF64Tc5ro_"
      },
      "source": [
        "polarity_change = pd.DataFrame(web_page_sentiment.drop_duplicates(subset=['domain', 'url', 'polarity type']))\n",
        "polarity_change = polarity_change[polarity_change.duplicated(subset=['url'], keep=False)]\n",
        "\n",
        "if (len(polarity_change) > 0):\n",
        "  plt.style.use('ggplot')\n",
        "  plt.figure(figsize = (20, 5))\n",
        "  \n",
        "  polarity_change_list = polarity_change['url'].unique()\n",
        "\n",
        "  for i in range(0, len(polarity_change_list)):\n",
        "    url = polarity_change_list[i]\n",
        "    sentiment_specific_url = web_page_sentiment[web_page_sentiment['url'] == url]\n",
        "\n",
        "    plt.plot(sentiment_specific_url['crawl_date'], sentiment_specific_url['polarity'], label=url)\n",
        "    plt.title('Polarity Analysis of Changed URLS')\n",
        "\n",
        "print('original web_page_sentiment count:' +str(len(web_page_sentiment)))\n",
        "print('differing polarity change count:' +str(len(polarity_change)))"
      ],
      "execution_count": null,
      "outputs": []
    },
    {
      "cell_type": "code",
      "metadata": {
        "id": "LWGcpYL5IeGi"
      },
      "source": [
        "subjectivity_change = pd.DataFrame(web_page_sentiment.drop_duplicates(subset=['domain', 'url', 'subjectivity type']))\n",
        "subjectivity_change = subjectivity_change[subjectivity_change.duplicated(subset=['url'], keep=False)]\n",
        "\n",
        "if (len(subjectivity_change) > 0):\n",
        "  plt.style.use('bmh')\n",
        "  plt.figure(figsize = (20, 5))\n",
        "  \n",
        "  subjectivity_change = subjectivity_change['url'].unique()\n",
        "\n",
        "  for i in range(0, len(subjectivity_change)):\n",
        "    url = subjectivity_change[i]\n",
        "    sentiment_specific_url = web_page_sentiment[web_page_sentiment['url'] == url]\n",
        "\n",
        "    plt.plot(sentiment_specific_url['crawl_date'], sentiment_specific_url['subjectivity'], label=url)\n",
        "    plt.title('Subjectivity Analysis of Changed URLS')\n",
        "\n",
        "\n",
        "print('original web_page_sentiment count:', (len(web_page_sentiment)))\n",
        "print('differing subjectivity change count:', (len(subjectivity_change)))"
      ],
      "execution_count": null,
      "outputs": []
    },
    {
      "cell_type": "markdown",
      "metadata": {
        "id": "RCgpt08VyzoG"
      },
      "source": [
        "##Sentiment: Min, Max and Difference\n",
        "Calculates the min, max and difference sentiment for each url\n"
      ]
    },
    {
      "cell_type": "code",
      "metadata": {
        "id": "JF8nISpSyz-w"
      },
      "source": [
        "#sample1 = pd.DataFrame(sample.groupby('url').agg({'polarity': ['mean', 'min', 'max']}))\n",
        "polarity_difference = pd.DataFrame(web_page_sentiment.groupby('url').agg({'polarity': np.ptp}))\n",
        "polarity_difference = polarity_difference.sort_values(by=['url'], ascending=True)\n",
        "polarity_difference\n",
        "#polarity_difference = polarity_difference[polarity_difference['polarity'] > 0]\n",
        "\n",
        "#sample['difference'] = sample['max'] - sample['min']"
      ],
      "execution_count": null,
      "outputs": []
    }
  ]
}